{
  "nbformat": 4,
  "nbformat_minor": 0,
  "metadata": {
    "ExecuteTimeLog": [
      {
        "duration": 4,
        "start_time": "2021-07-18T09:03:07.565Z"
      },
      {
        "duration": 985,
        "start_time": "2021-07-18T09:03:07.571Z"
      },
      {
        "duration": 34,
        "start_time": "2021-07-18T09:03:08.558Z"
      },
      {
        "duration": 289,
        "start_time": "2021-07-18T09:03:08.593Z"
      },
      {
        "duration": 114,
        "start_time": "2021-07-18T09:03:08.771Z"
      },
      {
        "duration": 111,
        "start_time": "2021-07-18T09:03:08.774Z"
      },
      {
        "duration": 110,
        "start_time": "2021-07-18T09:03:08.776Z"
      },
      {
        "duration": 108,
        "start_time": "2021-07-18T09:03:08.779Z"
      },
      {
        "duration": 106,
        "start_time": "2021-07-18T09:03:08.782Z"
      },
      {
        "duration": 104,
        "start_time": "2021-07-18T09:03:08.785Z"
      },
      {
        "duration": 102,
        "start_time": "2021-07-18T09:03:08.788Z"
      },
      {
        "duration": 99,
        "start_time": "2021-07-18T09:03:08.792Z"
      },
      {
        "duration": 97,
        "start_time": "2021-07-18T09:03:08.795Z"
      },
      {
        "duration": 95,
        "start_time": "2021-07-18T09:03:08.798Z"
      },
      {
        "duration": 94,
        "start_time": "2021-07-18T09:03:08.800Z"
      },
      {
        "duration": 92,
        "start_time": "2021-07-18T09:03:08.803Z"
      },
      {
        "duration": 91,
        "start_time": "2021-07-18T09:03:08.805Z"
      },
      {
        "duration": 89,
        "start_time": "2021-07-18T09:03:08.808Z"
      },
      {
        "duration": 87,
        "start_time": "2021-07-18T09:03:08.811Z"
      },
      {
        "duration": 84,
        "start_time": "2021-07-18T09:03:08.815Z"
      },
      {
        "duration": 82,
        "start_time": "2021-07-18T09:03:08.818Z"
      },
      {
        "duration": 80,
        "start_time": "2021-07-18T09:03:08.821Z"
      },
      {
        "duration": 78,
        "start_time": "2021-07-18T09:03:08.824Z"
      },
      {
        "duration": 77,
        "start_time": "2021-07-18T09:03:08.826Z"
      },
      {
        "duration": 76,
        "start_time": "2021-07-18T09:03:08.828Z"
      },
      {
        "duration": 74,
        "start_time": "2021-07-18T09:03:08.831Z"
      },
      {
        "duration": 72,
        "start_time": "2021-07-18T09:03:08.833Z"
      },
      {
        "duration": 71,
        "start_time": "2021-07-18T09:03:08.835Z"
      },
      {
        "duration": 70,
        "start_time": "2021-07-18T09:03:08.838Z"
      },
      {
        "duration": 68,
        "start_time": "2021-07-18T09:03:08.841Z"
      },
      {
        "duration": 66,
        "start_time": "2021-07-18T09:03:08.844Z"
      },
      {
        "duration": 63,
        "start_time": "2021-07-18T09:03:08.848Z"
      },
      {
        "duration": 61,
        "start_time": "2021-07-18T09:03:08.851Z"
      },
      {
        "duration": 60,
        "start_time": "2021-07-18T09:03:08.853Z"
      },
      {
        "duration": 58,
        "start_time": "2021-07-18T09:03:08.856Z"
      },
      {
        "duration": 55,
        "start_time": "2021-07-18T09:03:08.860Z"
      },
      {
        "duration": 54,
        "start_time": "2021-07-18T09:03:08.862Z"
      },
      {
        "duration": 53,
        "start_time": "2021-07-18T09:03:08.864Z"
      },
      {
        "duration": 50,
        "start_time": "2021-07-18T09:03:08.867Z"
      },
      {
        "duration": 49,
        "start_time": "2021-07-18T09:03:08.869Z"
      },
      {
        "duration": 47,
        "start_time": "2021-07-18T09:03:08.872Z"
      },
      {
        "duration": 45,
        "start_time": "2021-07-18T09:03:08.875Z"
      },
      {
        "duration": 44,
        "start_time": "2021-07-18T09:03:08.877Z"
      },
      {
        "duration": 42,
        "start_time": "2021-07-18T09:03:08.880Z"
      },
      {
        "duration": -12,
        "start_time": "2021-07-18T09:03:08.935Z"
      },
      {
        "duration": 4,
        "start_time": "2021-07-18T09:50:09.417Z"
      },
      {
        "duration": 1024,
        "start_time": "2021-07-18T09:50:09.423Z"
      },
      {
        "duration": 37,
        "start_time": "2021-07-18T09:50:10.450Z"
      },
      {
        "duration": 271,
        "start_time": "2021-07-18T09:50:10.489Z"
      },
      {
        "duration": -706,
        "start_time": "2021-07-18T09:50:11.470Z"
      },
      {
        "duration": -713,
        "start_time": "2021-07-18T09:50:11.478Z"
      },
      {
        "duration": -795,
        "start_time": "2021-07-18T09:50:11.562Z"
      },
      {
        "duration": -802,
        "start_time": "2021-07-18T09:50:11.570Z"
      },
      {
        "duration": -802,
        "start_time": "2021-07-18T09:50:11.572Z"
      },
      {
        "duration": -803,
        "start_time": "2021-07-18T09:50:11.574Z"
      },
      {
        "duration": -812,
        "start_time": "2021-07-18T09:50:11.584Z"
      },
      {
        "duration": -811,
        "start_time": "2021-07-18T09:50:11.585Z"
      },
      {
        "duration": -812,
        "start_time": "2021-07-18T09:50:11.587Z"
      },
      {
        "duration": -811,
        "start_time": "2021-07-18T09:50:11.588Z"
      },
      {
        "duration": -811,
        "start_time": "2021-07-18T09:50:11.589Z"
      },
      {
        "duration": -812,
        "start_time": "2021-07-18T09:50:11.591Z"
      },
      {
        "duration": -811,
        "start_time": "2021-07-18T09:50:11.592Z"
      },
      {
        "duration": -907,
        "start_time": "2021-07-18T09:50:11.689Z"
      },
      {
        "duration": -912,
        "start_time": "2021-07-18T09:50:11.695Z"
      },
      {
        "duration": -918,
        "start_time": "2021-07-18T09:50:11.702Z"
      },
      {
        "duration": -919,
        "start_time": "2021-07-18T09:50:11.704Z"
      },
      {
        "duration": -925,
        "start_time": "2021-07-18T09:50:11.711Z"
      },
      {
        "duration": -930,
        "start_time": "2021-07-18T09:50:11.718Z"
      },
      {
        "duration": -931,
        "start_time": "2021-07-18T09:50:11.720Z"
      },
      {
        "duration": -931,
        "start_time": "2021-07-18T09:50:11.721Z"
      },
      {
        "duration": -933,
        "start_time": "2021-07-18T09:50:11.724Z"
      },
      {
        "duration": -933,
        "start_time": "2021-07-18T09:50:11.725Z"
      },
      {
        "duration": -934,
        "start_time": "2021-07-18T09:50:11.727Z"
      },
      {
        "duration": -935,
        "start_time": "2021-07-18T09:50:11.729Z"
      },
      {
        "duration": -1019,
        "start_time": "2021-07-18T09:50:11.814Z"
      },
      {
        "duration": -1020,
        "start_time": "2021-07-18T09:50:11.816Z"
      },
      {
        "duration": -1022,
        "start_time": "2021-07-18T09:50:11.820Z"
      },
      {
        "duration": -1026,
        "start_time": "2021-07-18T09:50:11.825Z"
      },
      {
        "duration": -1029,
        "start_time": "2021-07-18T09:50:11.829Z"
      },
      {
        "duration": -1031,
        "start_time": "2021-07-18T09:50:11.832Z"
      },
      {
        "duration": -1032,
        "start_time": "2021-07-18T09:50:11.834Z"
      },
      {
        "duration": -1033,
        "start_time": "2021-07-18T09:50:11.836Z"
      },
      {
        "duration": -1034,
        "start_time": "2021-07-18T09:50:11.838Z"
      },
      {
        "duration": -1034,
        "start_time": "2021-07-18T09:50:11.839Z"
      },
      {
        "duration": -1066,
        "start_time": "2021-07-18T09:50:11.872Z"
      },
      {
        "duration": -1129,
        "start_time": "2021-07-18T09:50:11.936Z"
      },
      {
        "duration": -1131,
        "start_time": "2021-07-18T09:50:11.939Z"
      },
      {
        "duration": -1131,
        "start_time": "2021-07-18T09:50:11.940Z"
      },
      {
        "duration": -1132,
        "start_time": "2021-07-18T09:50:11.942Z"
      },
      {
        "duration": -1133,
        "start_time": "2021-07-18T09:50:11.944Z"
      },
      {
        "duration": 3,
        "start_time": "2021-07-18T09:51:14.666Z"
      },
      {
        "duration": 4,
        "start_time": "2021-07-18T09:51:14.671Z"
      },
      {
        "duration": 38,
        "start_time": "2021-07-18T09:51:14.677Z"
      },
      {
        "duration": 4,
        "start_time": "2021-07-18T09:51:14.717Z"
      },
      {
        "duration": -750,
        "start_time": "2021-07-18T09:51:15.474Z"
      },
      {
        "duration": -751,
        "start_time": "2021-07-18T09:51:15.476Z"
      },
      {
        "duration": -751,
        "start_time": "2021-07-18T09:51:15.477Z"
      },
      {
        "duration": -754,
        "start_time": "2021-07-18T09:51:15.481Z"
      },
      {
        "duration": -755,
        "start_time": "2021-07-18T09:51:15.483Z"
      },
      {
        "duration": -756,
        "start_time": "2021-07-18T09:51:15.485Z"
      },
      {
        "duration": -790,
        "start_time": "2021-07-18T09:51:15.520Z"
      },
      {
        "duration": -791,
        "start_time": "2021-07-18T09:51:15.522Z"
      },
      {
        "duration": -863,
        "start_time": "2021-07-18T09:51:15.595Z"
      },
      {
        "duration": -863,
        "start_time": "2021-07-18T09:51:15.596Z"
      },
      {
        "duration": -864,
        "start_time": "2021-07-18T09:51:15.598Z"
      },
      {
        "duration": -866,
        "start_time": "2021-07-18T09:51:15.601Z"
      },
      {
        "duration": -867,
        "start_time": "2021-07-18T09:51:15.603Z"
      },
      {
        "duration": -868,
        "start_time": "2021-07-18T09:51:15.605Z"
      },
      {
        "duration": -868,
        "start_time": "2021-07-18T09:51:15.606Z"
      },
      {
        "duration": -872,
        "start_time": "2021-07-18T09:51:15.611Z"
      },
      {
        "duration": -873,
        "start_time": "2021-07-18T09:51:15.613Z"
      },
      {
        "duration": -874,
        "start_time": "2021-07-18T09:51:15.615Z"
      },
      {
        "duration": -876,
        "start_time": "2021-07-18T09:51:15.618Z"
      },
      {
        "duration": -876,
        "start_time": "2021-07-18T09:51:15.619Z"
      },
      {
        "duration": -901,
        "start_time": "2021-07-18T09:51:15.645Z"
      },
      {
        "duration": -862,
        "start_time": "2021-07-18T09:51:15.647Z"
      },
      {
        "duration": -863,
        "start_time": "2021-07-18T09:51:15.649Z"
      },
      {
        "duration": -933,
        "start_time": "2021-07-18T09:51:15.720Z"
      },
      {
        "duration": -934,
        "start_time": "2021-07-18T09:51:15.722Z"
      },
      {
        "duration": -934,
        "start_time": "2021-07-18T09:51:15.724Z"
      },
      {
        "duration": -934,
        "start_time": "2021-07-18T09:51:15.725Z"
      },
      {
        "duration": -936,
        "start_time": "2021-07-18T09:51:15.728Z"
      },
      {
        "duration": -936,
        "start_time": "2021-07-18T09:51:15.729Z"
      },
      {
        "duration": -937,
        "start_time": "2021-07-18T09:51:15.731Z"
      },
      {
        "duration": -939,
        "start_time": "2021-07-18T09:51:15.734Z"
      },
      {
        "duration": -940,
        "start_time": "2021-07-18T09:51:15.736Z"
      },
      {
        "duration": -940,
        "start_time": "2021-07-18T09:51:15.737Z"
      },
      {
        "duration": -941,
        "start_time": "2021-07-18T09:51:15.739Z"
      },
      {
        "duration": -972,
        "start_time": "2021-07-18T09:51:15.771Z"
      },
      {
        "duration": -972,
        "start_time": "2021-07-18T09:51:15.772Z"
      },
      {
        "duration": -973,
        "start_time": "2021-07-18T09:51:15.774Z"
      },
      {
        "duration": -973,
        "start_time": "2021-07-18T09:51:15.775Z"
      },
      {
        "duration": -1043,
        "start_time": "2021-07-18T09:51:15.846Z"
      },
      {
        "duration": -1044,
        "start_time": "2021-07-18T09:51:15.848Z"
      },
      {
        "duration": -1045,
        "start_time": "2021-07-18T09:51:15.850Z"
      },
      {
        "duration": 37,
        "start_time": "2021-07-18T09:51:34.310Z"
      },
      {
        "duration": 3,
        "start_time": "2021-07-18T09:51:38.274Z"
      },
      {
        "duration": 5,
        "start_time": "2021-07-18T09:51:38.279Z"
      },
      {
        "duration": 47,
        "start_time": "2021-07-18T09:51:38.287Z"
      },
      {
        "duration": 24,
        "start_time": "2021-07-18T09:51:38.337Z"
      },
      {
        "duration": 10,
        "start_time": "2021-07-18T09:51:38.385Z"
      },
      {
        "duration": 29,
        "start_time": "2021-07-18T09:51:38.396Z"
      },
      {
        "duration": 13,
        "start_time": "2021-07-18T09:51:38.426Z"
      },
      {
        "duration": 3,
        "start_time": "2021-07-18T09:51:38.441Z"
      },
      {
        "duration": 43,
        "start_time": "2021-07-18T09:51:38.446Z"
      },
      {
        "duration": 19,
        "start_time": "2021-07-18T09:51:38.490Z"
      },
      {
        "duration": 4,
        "start_time": "2021-07-18T09:51:38.511Z"
      },
      {
        "duration": 9,
        "start_time": "2021-07-18T09:51:38.516Z"
      },
      {
        "duration": 11,
        "start_time": "2021-07-18T09:51:38.527Z"
      },
      {
        "duration": 8,
        "start_time": "2021-07-18T09:51:38.540Z"
      },
      {
        "duration": 5,
        "start_time": "2021-07-18T09:51:38.550Z"
      },
      {
        "duration": 5,
        "start_time": "2021-07-18T09:51:38.585Z"
      },
      {
        "duration": 348,
        "start_time": "2021-07-18T09:51:38.592Z"
      },
      {
        "duration": -807,
        "start_time": "2021-07-18T09:51:39.750Z"
      },
      {
        "duration": -811,
        "start_time": "2021-07-18T09:51:39.755Z"
      },
      {
        "duration": -813,
        "start_time": "2021-07-18T09:51:39.758Z"
      },
      {
        "duration": -814,
        "start_time": "2021-07-18T09:51:39.760Z"
      },
      {
        "duration": -814,
        "start_time": "2021-07-18T09:51:39.761Z"
      },
      {
        "duration": -815,
        "start_time": "2021-07-18T09:51:39.763Z"
      },
      {
        "duration": -815,
        "start_time": "2021-07-18T09:51:39.764Z"
      },
      {
        "duration": -815,
        "start_time": "2021-07-18T09:51:39.765Z"
      },
      {
        "duration": -816,
        "start_time": "2021-07-18T09:51:39.767Z"
      },
      {
        "duration": -817,
        "start_time": "2021-07-18T09:51:39.769Z"
      },
      {
        "duration": -817,
        "start_time": "2021-07-18T09:51:39.771Z"
      },
      {
        "duration": -818,
        "start_time": "2021-07-18T09:51:39.773Z"
      },
      {
        "duration": -820,
        "start_time": "2021-07-18T09:51:39.776Z"
      },
      {
        "duration": -820,
        "start_time": "2021-07-18T09:51:39.777Z"
      },
      {
        "duration": -821,
        "start_time": "2021-07-18T09:51:39.779Z"
      },
      {
        "duration": -796,
        "start_time": "2021-07-18T09:51:39.780Z"
      },
      {
        "duration": -797,
        "start_time": "2021-07-18T09:51:39.782Z"
      },
      {
        "duration": -884,
        "start_time": "2021-07-18T09:51:39.870Z"
      },
      {
        "duration": -885,
        "start_time": "2021-07-18T09:51:39.872Z"
      },
      {
        "duration": -886,
        "start_time": "2021-07-18T09:51:39.874Z"
      },
      {
        "duration": -887,
        "start_time": "2021-07-18T09:51:39.876Z"
      },
      {
        "duration": -887,
        "start_time": "2021-07-18T09:51:39.877Z"
      },
      {
        "duration": -889,
        "start_time": "2021-07-18T09:51:39.879Z"
      },
      {
        "duration": -889,
        "start_time": "2021-07-18T09:51:39.880Z"
      },
      {
        "duration": -890,
        "start_time": "2021-07-18T09:51:39.882Z"
      },
      {
        "duration": -894,
        "start_time": "2021-07-18T09:51:39.887Z"
      },
      {
        "duration": -895,
        "start_time": "2021-07-18T09:51:39.889Z"
      },
      {
        "duration": -895,
        "start_time": "2021-07-18T09:51:39.890Z"
      },
      {
        "duration": 332,
        "start_time": "2021-07-18T09:53:26.186Z"
      },
      {
        "duration": 315,
        "start_time": "2021-07-18T09:54:34.099Z"
      },
      {
        "duration": 4,
        "start_time": "2021-07-18T09:54:44.373Z"
      },
      {
        "duration": 5,
        "start_time": "2021-07-18T09:54:44.378Z"
      },
      {
        "duration": 39,
        "start_time": "2021-07-18T09:54:44.386Z"
      },
      {
        "duration": 24,
        "start_time": "2021-07-18T09:54:44.427Z"
      },
      {
        "duration": 9,
        "start_time": "2021-07-18T09:54:44.452Z"
      },
      {
        "duration": 30,
        "start_time": "2021-07-18T09:54:44.484Z"
      },
      {
        "duration": 13,
        "start_time": "2021-07-18T09:54:44.516Z"
      },
      {
        "duration": 4,
        "start_time": "2021-07-18T09:54:44.531Z"
      },
      {
        "duration": 20,
        "start_time": "2021-07-18T09:54:44.536Z"
      },
      {
        "duration": 42,
        "start_time": "2021-07-18T09:54:44.557Z"
      },
      {
        "duration": 4,
        "start_time": "2021-07-18T09:54:44.600Z"
      },
      {
        "duration": 9,
        "start_time": "2021-07-18T09:54:44.605Z"
      },
      {
        "duration": 11,
        "start_time": "2021-07-18T09:54:44.616Z"
      },
      {
        "duration": 9,
        "start_time": "2021-07-18T09:54:44.628Z"
      },
      {
        "duration": 3,
        "start_time": "2021-07-18T09:54:44.639Z"
      },
      {
        "duration": 6,
        "start_time": "2021-07-18T09:54:44.644Z"
      },
      {
        "duration": 354,
        "start_time": "2021-07-18T09:54:44.651Z"
      },
      {
        "duration": 354,
        "start_time": "2021-07-18T09:54:45.009Z"
      },
      {
        "duration": -688,
        "start_time": "2021-07-18T09:54:46.053Z"
      },
      {
        "duration": -689,
        "start_time": "2021-07-18T09:54:46.055Z"
      },
      {
        "duration": -694,
        "start_time": "2021-07-18T09:54:46.061Z"
      },
      {
        "duration": -694,
        "start_time": "2021-07-18T09:54:46.062Z"
      },
      {
        "duration": -810,
        "start_time": "2021-07-18T09:54:46.179Z"
      },
      {
        "duration": -814,
        "start_time": "2021-07-18T09:54:46.184Z"
      },
      {
        "duration": -814,
        "start_time": "2021-07-18T09:54:46.185Z"
      },
      {
        "duration": -816,
        "start_time": "2021-07-18T09:54:46.187Z"
      },
      {
        "duration": -817,
        "start_time": "2021-07-18T09:54:46.189Z"
      },
      {
        "duration": -807,
        "start_time": "2021-07-18T09:54:46.191Z"
      },
      {
        "duration": -807,
        "start_time": "2021-07-18T09:54:46.192Z"
      },
      {
        "duration": -809,
        "start_time": "2021-07-18T09:54:46.194Z"
      },
      {
        "duration": -809,
        "start_time": "2021-07-18T09:54:46.195Z"
      },
      {
        "duration": -810,
        "start_time": "2021-07-18T09:54:46.197Z"
      },
      {
        "duration": -810,
        "start_time": "2021-07-18T09:54:46.198Z"
      },
      {
        "duration": -810,
        "start_time": "2021-07-18T09:54:46.199Z"
      },
      {
        "duration": -811,
        "start_time": "2021-07-18T09:54:46.201Z"
      },
      {
        "duration": -811,
        "start_time": "2021-07-18T09:54:46.202Z"
      },
      {
        "duration": -812,
        "start_time": "2021-07-18T09:54:46.204Z"
      },
      {
        "duration": -812,
        "start_time": "2021-07-18T09:54:46.205Z"
      },
      {
        "duration": -813,
        "start_time": "2021-07-18T09:54:46.207Z"
      },
      {
        "duration": -814,
        "start_time": "2021-07-18T09:54:46.209Z"
      },
      {
        "duration": -814,
        "start_time": "2021-07-18T09:54:46.210Z"
      },
      {
        "duration": -815,
        "start_time": "2021-07-18T09:54:46.212Z"
      },
      {
        "duration": -815,
        "start_time": "2021-07-18T09:54:46.213Z"
      },
      {
        "duration": -816,
        "start_time": "2021-07-18T09:54:46.215Z"
      },
      {
        "duration": -816,
        "start_time": "2021-07-18T09:54:46.216Z"
      },
      {
        "duration": 279,
        "start_time": "2021-07-18T09:55:15.059Z"
      },
      {
        "duration": 3,
        "start_time": "2021-07-18T09:55:22.772Z"
      },
      {
        "duration": 5,
        "start_time": "2021-07-18T09:55:22.776Z"
      },
      {
        "duration": 41,
        "start_time": "2021-07-18T09:55:22.783Z"
      },
      {
        "duration": 26,
        "start_time": "2021-07-18T09:55:22.826Z"
      },
      {
        "duration": 10,
        "start_time": "2021-07-18T09:55:22.853Z"
      },
      {
        "duration": 30,
        "start_time": "2021-07-18T09:55:22.885Z"
      },
      {
        "duration": 14,
        "start_time": "2021-07-18T09:55:22.917Z"
      },
      {
        "duration": 4,
        "start_time": "2021-07-18T09:55:22.933Z"
      },
      {
        "duration": 49,
        "start_time": "2021-07-18T09:55:22.940Z"
      },
      {
        "duration": 21,
        "start_time": "2021-07-18T09:55:22.991Z"
      },
      {
        "duration": 4,
        "start_time": "2021-07-18T09:55:23.014Z"
      },
      {
        "duration": 21,
        "start_time": "2021-07-18T09:55:23.019Z"
      },
      {
        "duration": 14,
        "start_time": "2021-07-18T09:55:23.042Z"
      },
      {
        "duration": 27,
        "start_time": "2021-07-18T09:55:23.058Z"
      },
      {
        "duration": 5,
        "start_time": "2021-07-18T09:55:23.087Z"
      },
      {
        "duration": 10,
        "start_time": "2021-07-18T09:55:23.093Z"
      },
      {
        "duration": 415,
        "start_time": "2021-07-18T09:55:23.105Z"
      },
      {
        "duration": 282,
        "start_time": "2021-07-18T09:55:23.522Z"
      },
      {
        "duration": 3,
        "start_time": "2021-07-18T09:55:23.806Z"
      },
      {
        "duration": 285,
        "start_time": "2021-07-18T09:55:23.810Z"
      },
      {
        "duration": 31,
        "start_time": "2021-07-18T09:55:24.096Z"
      },
      {
        "duration": 375,
        "start_time": "2021-07-18T09:55:24.129Z"
      },
      {
        "duration": -678,
        "start_time": "2021-07-18T09:55:25.184Z"
      },
      {
        "duration": -680,
        "start_time": "2021-07-18T09:55:25.187Z"
      },
      {
        "duration": -691,
        "start_time": "2021-07-18T09:55:25.199Z"
      },
      {
        "duration": -692,
        "start_time": "2021-07-18T09:55:25.201Z"
      },
      {
        "duration": -694,
        "start_time": "2021-07-18T09:55:25.203Z"
      },
      {
        "duration": -694,
        "start_time": "2021-07-18T09:55:25.204Z"
      },
      {
        "duration": -700,
        "start_time": "2021-07-18T09:55:25.211Z"
      },
      {
        "duration": -701,
        "start_time": "2021-07-18T09:55:25.213Z"
      },
      {
        "duration": -702,
        "start_time": "2021-07-18T09:55:25.215Z"
      },
      {
        "duration": -703,
        "start_time": "2021-07-18T09:55:25.216Z"
      },
      {
        "duration": -795,
        "start_time": "2021-07-18T09:55:25.309Z"
      },
      {
        "duration": -796,
        "start_time": "2021-07-18T09:55:25.311Z"
      },
      {
        "duration": -797,
        "start_time": "2021-07-18T09:55:25.313Z"
      },
      {
        "duration": -797,
        "start_time": "2021-07-18T09:55:25.314Z"
      },
      {
        "duration": -798,
        "start_time": "2021-07-18T09:55:25.316Z"
      },
      {
        "duration": -798,
        "start_time": "2021-07-18T09:55:25.317Z"
      },
      {
        "duration": -799,
        "start_time": "2021-07-18T09:55:25.319Z"
      },
      {
        "duration": -800,
        "start_time": "2021-07-18T09:55:25.320Z"
      },
      {
        "duration": -801,
        "start_time": "2021-07-18T09:55:25.322Z"
      },
      {
        "duration": -806,
        "start_time": "2021-07-18T09:55:25.328Z"
      },
      {
        "duration": -807,
        "start_time": "2021-07-18T09:55:25.329Z"
      },
      {
        "duration": -808,
        "start_time": "2021-07-18T09:55:25.331Z"
      },
      {
        "duration": -808,
        "start_time": "2021-07-18T09:55:25.332Z"
      },
      {
        "duration": 1117,
        "start_time": "2021-07-18T09:56:04.411Z"
      },
      {
        "duration": 3,
        "start_time": "2021-07-18T09:56:29.156Z"
      },
      {
        "duration": 7,
        "start_time": "2021-07-18T09:56:29.160Z"
      },
      {
        "duration": 40,
        "start_time": "2021-07-18T09:56:29.169Z"
      },
      {
        "duration": 23,
        "start_time": "2021-07-18T09:56:29.211Z"
      },
      {
        "duration": 8,
        "start_time": "2021-07-18T09:56:29.236Z"
      },
      {
        "duration": 52,
        "start_time": "2021-07-18T09:56:29.246Z"
      },
      {
        "duration": 13,
        "start_time": "2021-07-18T09:56:29.299Z"
      },
      {
        "duration": 4,
        "start_time": "2021-07-18T09:56:29.314Z"
      },
      {
        "duration": 18,
        "start_time": "2021-07-18T09:56:29.321Z"
      },
      {
        "duration": 20,
        "start_time": "2021-07-18T09:56:29.341Z"
      },
      {
        "duration": 5,
        "start_time": "2021-07-18T09:56:29.385Z"
      },
      {
        "duration": 11,
        "start_time": "2021-07-18T09:56:29.391Z"
      },
      {
        "duration": 11,
        "start_time": "2021-07-18T09:56:29.403Z"
      },
      {
        "duration": 8,
        "start_time": "2021-07-18T09:56:29.415Z"
      },
      {
        "duration": 4,
        "start_time": "2021-07-18T09:56:29.425Z"
      },
      {
        "duration": 5,
        "start_time": "2021-07-18T09:56:29.430Z"
      },
      {
        "duration": 435,
        "start_time": "2021-07-18T09:56:29.436Z"
      },
      {
        "duration": 285,
        "start_time": "2021-07-18T09:56:29.873Z"
      },
      {
        "duration": 3,
        "start_time": "2021-07-18T09:56:30.160Z"
      },
      {
        "duration": 264,
        "start_time": "2021-07-18T09:56:30.165Z"
      },
      {
        "duration": 29,
        "start_time": "2021-07-18T09:56:30.431Z"
      },
      {
        "duration": 1108,
        "start_time": "2021-07-18T09:56:30.462Z"
      },
      {
        "duration": 181,
        "start_time": "2021-07-18T09:56:31.571Z"
      },
      {
        "duration": 5,
        "start_time": "2021-07-18T09:56:31.754Z"
      },
      {
        "duration": 8,
        "start_time": "2021-07-18T09:56:31.760Z"
      },
      {
        "duration": 2638,
        "start_time": "2021-07-18T09:56:31.770Z"
      },
      {
        "duration": 2153,
        "start_time": "2021-07-18T09:56:34.412Z"
      },
      {
        "duration": 429,
        "start_time": "2021-07-18T09:56:36.566Z"
      },
      {
        "duration": 2701,
        "start_time": "2021-07-18T09:56:36.997Z"
      },
      {
        "duration": 350,
        "start_time": "2021-07-18T09:56:39.700Z"
      },
      {
        "duration": 41,
        "start_time": "2021-07-18T09:56:40.052Z"
      },
      {
        "duration": 8,
        "start_time": "2021-07-18T09:56:40.095Z"
      },
      {
        "duration": 301,
        "start_time": "2021-07-18T09:56:40.105Z"
      },
      {
        "duration": 286,
        "start_time": "2021-07-18T09:56:40.408Z"
      },
      {
        "duration": 5,
        "start_time": "2021-07-18T09:56:40.695Z"
      },
      {
        "duration": 346,
        "start_time": "2021-07-18T09:56:40.702Z"
      },
      {
        "duration": 2,
        "start_time": "2021-07-18T09:56:41.050Z"
      },
      {
        "duration": 393,
        "start_time": "2021-07-18T09:56:41.053Z"
      },
      {
        "duration": -688,
        "start_time": "2021-07-18T09:56:42.136Z"
      },
      {
        "duration": -692,
        "start_time": "2021-07-18T09:56:42.141Z"
      },
      {
        "duration": -695,
        "start_time": "2021-07-18T09:56:42.144Z"
      },
      {
        "duration": -696,
        "start_time": "2021-07-18T09:56:42.146Z"
      },
      {
        "duration": -697,
        "start_time": "2021-07-18T09:56:42.148Z"
      },
      {
        "duration": -701,
        "start_time": "2021-07-18T09:56:42.153Z"
      },
      {
        "duration": -708,
        "start_time": "2021-07-18T09:56:42.161Z"
      },
      {
        "duration": 4,
        "start_time": "2021-07-19T08:24:58.714Z"
      },
      {
        "duration": 939,
        "start_time": "2021-07-19T08:24:58.720Z"
      },
      {
        "duration": 36,
        "start_time": "2021-07-19T08:24:59.661Z"
      },
      {
        "duration": 29,
        "start_time": "2021-07-19T08:24:59.699Z"
      },
      {
        "duration": 13,
        "start_time": "2021-07-19T08:24:59.730Z"
      },
      {
        "duration": 47,
        "start_time": "2021-07-19T08:24:59.744Z"
      },
      {
        "duration": 13,
        "start_time": "2021-07-19T08:24:59.793Z"
      },
      {
        "duration": 5,
        "start_time": "2021-07-19T08:24:59.808Z"
      },
      {
        "duration": 21,
        "start_time": "2021-07-19T08:24:59.815Z"
      },
      {
        "duration": 28,
        "start_time": "2021-07-19T08:24:59.838Z"
      },
      {
        "duration": 19,
        "start_time": "2021-07-19T08:24:59.868Z"
      },
      {
        "duration": 26,
        "start_time": "2021-07-19T08:24:59.888Z"
      },
      {
        "duration": 16,
        "start_time": "2021-07-19T08:24:59.916Z"
      },
      {
        "duration": 15,
        "start_time": "2021-07-19T08:24:59.933Z"
      },
      {
        "duration": 5,
        "start_time": "2021-07-19T08:24:59.949Z"
      },
      {
        "duration": 22,
        "start_time": "2021-07-19T08:24:59.955Z"
      },
      {
        "duration": 320,
        "start_time": "2021-07-19T08:24:59.978Z"
      },
      {
        "duration": 276,
        "start_time": "2021-07-19T08:25:00.300Z"
      },
      {
        "duration": 7,
        "start_time": "2021-07-19T08:25:00.579Z"
      },
      {
        "duration": 274,
        "start_time": "2021-07-19T08:25:00.588Z"
      },
      {
        "duration": 37,
        "start_time": "2021-07-19T08:25:00.864Z"
      },
      {
        "duration": 1183,
        "start_time": "2021-07-19T08:25:00.902Z"
      },
      {
        "duration": 175,
        "start_time": "2021-07-19T08:25:02.086Z"
      },
      {
        "duration": 5,
        "start_time": "2021-07-19T08:25:02.263Z"
      },
      {
        "duration": 9,
        "start_time": "2021-07-19T08:25:02.269Z"
      },
      {
        "duration": 2568,
        "start_time": "2021-07-19T08:25:02.279Z"
      },
      {
        "duration": 2176,
        "start_time": "2021-07-19T08:25:04.849Z"
      },
      {
        "duration": 462,
        "start_time": "2021-07-19T08:25:07.027Z"
      },
      {
        "duration": 2780,
        "start_time": "2021-07-19T08:25:07.491Z"
      },
      {
        "duration": 338,
        "start_time": "2021-07-19T08:25:10.272Z"
      },
      {
        "duration": 34,
        "start_time": "2021-07-19T08:25:10.611Z"
      },
      {
        "duration": 8,
        "start_time": "2021-07-19T08:25:10.647Z"
      },
      {
        "duration": 335,
        "start_time": "2021-07-19T08:25:10.657Z"
      },
      {
        "duration": 296,
        "start_time": "2021-07-19T08:25:10.994Z"
      },
      {
        "duration": 5,
        "start_time": "2021-07-19T08:25:11.291Z"
      },
      {
        "duration": 328,
        "start_time": "2021-07-19T08:25:11.298Z"
      },
      {
        "duration": 3,
        "start_time": "2021-07-19T08:25:11.627Z"
      },
      {
        "duration": 490,
        "start_time": "2021-07-19T08:25:11.631Z"
      },
      {
        "duration": -80,
        "start_time": "2021-07-19T08:25:12.203Z"
      },
      {
        "duration": -83,
        "start_time": "2021-07-19T08:25:12.207Z"
      },
      {
        "duration": -84,
        "start_time": "2021-07-19T08:25:12.210Z"
      },
      {
        "duration": -86,
        "start_time": "2021-07-19T08:25:12.213Z"
      },
      {
        "duration": -89,
        "start_time": "2021-07-19T08:25:12.216Z"
      },
      {
        "duration": -91,
        "start_time": "2021-07-19T08:25:12.219Z"
      },
      {
        "duration": -92,
        "start_time": "2021-07-19T08:25:12.221Z"
      },
      {
        "duration": 4,
        "start_time": "2021-07-19T09:43:24.138Z"
      },
      {
        "duration": 1016,
        "start_time": "2021-07-19T09:43:24.151Z"
      },
      {
        "duration": 38,
        "start_time": "2021-07-19T09:43:25.168Z"
      },
      {
        "duration": 26,
        "start_time": "2021-07-19T09:43:25.208Z"
      },
      {
        "duration": 10,
        "start_time": "2021-07-19T09:43:25.236Z"
      },
      {
        "duration": 53,
        "start_time": "2021-07-19T09:43:25.247Z"
      },
      {
        "duration": 13,
        "start_time": "2021-07-19T09:43:25.302Z"
      },
      {
        "duration": 4,
        "start_time": "2021-07-19T09:43:25.317Z"
      },
      {
        "duration": 20,
        "start_time": "2021-07-19T09:43:25.323Z"
      },
      {
        "duration": 44,
        "start_time": "2021-07-19T09:43:25.346Z"
      },
      {
        "duration": 4,
        "start_time": "2021-07-19T09:43:25.392Z"
      },
      {
        "duration": 15,
        "start_time": "2021-07-19T09:43:25.398Z"
      },
      {
        "duration": 13,
        "start_time": "2021-07-19T09:43:25.414Z"
      },
      {
        "duration": 16,
        "start_time": "2021-07-19T09:43:25.428Z"
      },
      {
        "duration": 16,
        "start_time": "2021-07-19T09:43:25.445Z"
      },
      {
        "duration": 8,
        "start_time": "2021-07-19T09:43:25.463Z"
      },
      {
        "duration": 345,
        "start_time": "2021-07-19T09:43:25.473Z"
      },
      {
        "duration": 291,
        "start_time": "2021-07-19T09:43:25.819Z"
      },
      {
        "duration": 2,
        "start_time": "2021-07-19T09:43:26.112Z"
      },
      {
        "duration": 294,
        "start_time": "2021-07-19T09:43:26.116Z"
      },
      {
        "duration": 31,
        "start_time": "2021-07-19T09:43:26.411Z"
      },
      {
        "duration": 1209,
        "start_time": "2021-07-19T09:43:26.444Z"
      },
      {
        "duration": 180,
        "start_time": "2021-07-19T09:43:27.654Z"
      },
      {
        "duration": 6,
        "start_time": "2021-07-19T09:43:27.836Z"
      },
      {
        "duration": 9,
        "start_time": "2021-07-19T09:43:27.844Z"
      },
      {
        "duration": 2660,
        "start_time": "2021-07-19T09:43:27.854Z"
      },
      {
        "duration": 2180,
        "start_time": "2021-07-19T09:43:30.515Z"
      },
      {
        "duration": 445,
        "start_time": "2021-07-19T09:43:32.698Z"
      },
      {
        "duration": 2647,
        "start_time": "2021-07-19T09:43:33.145Z"
      },
      {
        "duration": 328,
        "start_time": "2021-07-19T09:43:35.794Z"
      },
      {
        "duration": 31,
        "start_time": "2021-07-19T09:43:36.124Z"
      },
      {
        "duration": 8,
        "start_time": "2021-07-19T09:43:36.157Z"
      },
      {
        "duration": 311,
        "start_time": "2021-07-19T09:43:36.185Z"
      },
      {
        "duration": 288,
        "start_time": "2021-07-19T09:43:36.498Z"
      },
      {
        "duration": 5,
        "start_time": "2021-07-19T09:43:36.787Z"
      },
      {
        "duration": 330,
        "start_time": "2021-07-19T09:43:36.794Z"
      },
      {
        "duration": 2,
        "start_time": "2021-07-19T09:43:37.126Z"
      },
      {
        "duration": 459,
        "start_time": "2021-07-19T09:43:37.129Z"
      },
      {
        "duration": 2191,
        "start_time": "2021-07-19T09:43:35.399Z"
      },
      {
        "duration": 2178,
        "start_time": "2021-07-19T09:43:35.413Z"
      },
      {
        "duration": 2171,
        "start_time": "2021-07-19T09:43:35.421Z"
      },
      {
        "duration": 2165,
        "start_time": "2021-07-19T09:43:35.428Z"
      },
      {
        "duration": 2149,
        "start_time": "2021-07-19T09:43:35.445Z"
      },
      {
        "duration": 2141,
        "start_time": "2021-07-19T09:43:35.454Z"
      },
      {
        "duration": 2138,
        "start_time": "2021-07-19T09:43:35.458Z"
      },
      {
        "duration": 9,
        "start_time": "2021-07-20T07:15:56.941Z"
      },
      {
        "duration": 1440,
        "start_time": "2021-07-20T07:15:56.953Z"
      },
      {
        "duration": 47,
        "start_time": "2021-07-20T07:15:58.396Z"
      },
      {
        "duration": 37,
        "start_time": "2021-07-20T07:15:58.446Z"
      },
      {
        "duration": 15,
        "start_time": "2021-07-20T07:15:58.485Z"
      },
      {
        "duration": 73,
        "start_time": "2021-07-20T07:15:58.503Z"
      },
      {
        "duration": 20,
        "start_time": "2021-07-20T07:15:58.578Z"
      },
      {
        "duration": 4,
        "start_time": "2021-07-20T07:15:58.602Z"
      },
      {
        "duration": 54,
        "start_time": "2021-07-20T07:15:58.609Z"
      },
      {
        "duration": 32,
        "start_time": "2021-07-20T07:15:58.665Z"
      },
      {
        "duration": 6,
        "start_time": "2021-07-20T07:15:58.700Z"
      },
      {
        "duration": 393,
        "start_time": "2021-07-20T07:16:02.159Z"
      },
      {
        "duration": 276,
        "start_time": "2021-07-20T07:16:20.889Z"
      },
      {
        "duration": 338,
        "start_time": "2021-07-20T07:16:41.008Z"
      },
      {
        "duration": 303,
        "start_time": "2021-07-20T07:18:01.214Z"
      },
      {
        "duration": 270,
        "start_time": "2021-07-20T07:18:28.385Z"
      },
      {
        "duration": 1688,
        "start_time": "2021-07-20T07:19:10.907Z"
      },
      {
        "duration": 4,
        "start_time": "2021-07-20T07:19:19.100Z"
      },
      {
        "duration": 9,
        "start_time": "2021-07-20T07:19:19.106Z"
      },
      {
        "duration": 51,
        "start_time": "2021-07-20T07:19:19.118Z"
      },
      {
        "duration": 39,
        "start_time": "2021-07-20T07:19:19.172Z"
      },
      {
        "duration": 42,
        "start_time": "2021-07-20T07:19:19.214Z"
      },
      {
        "duration": 42,
        "start_time": "2021-07-20T07:19:19.258Z"
      },
      {
        "duration": 20,
        "start_time": "2021-07-20T07:19:19.302Z"
      },
      {
        "duration": 32,
        "start_time": "2021-07-20T07:19:19.324Z"
      },
      {
        "duration": 27,
        "start_time": "2021-07-20T07:19:19.360Z"
      },
      {
        "duration": 30,
        "start_time": "2021-07-20T07:19:19.390Z"
      },
      {
        "duration": 6,
        "start_time": "2021-07-20T07:19:19.422Z"
      },
      {
        "duration": 368,
        "start_time": "2021-07-20T07:19:19.457Z"
      },
      {
        "duration": -339,
        "start_time": "2021-07-20T07:19:20.168Z"
      },
      {
        "duration": -339,
        "start_time": "2021-07-20T07:19:20.170Z"
      },
      {
        "duration": -340,
        "start_time": "2021-07-20T07:19:20.173Z"
      },
      {
        "duration": -339,
        "start_time": "2021-07-20T07:19:20.175Z"
      },
      {
        "duration": -339,
        "start_time": "2021-07-20T07:19:20.177Z"
      },
      {
        "duration": -338,
        "start_time": "2021-07-20T07:19:20.178Z"
      },
      {
        "duration": -341,
        "start_time": "2021-07-20T07:19:20.183Z"
      },
      {
        "duration": -340,
        "start_time": "2021-07-20T07:19:20.184Z"
      },
      {
        "duration": -416,
        "start_time": "2021-07-20T07:19:20.262Z"
      },
      {
        "duration": -422,
        "start_time": "2021-07-20T07:19:20.270Z"
      },
      {
        "duration": -424,
        "start_time": "2021-07-20T07:19:20.274Z"
      },
      {
        "duration": -425,
        "start_time": "2021-07-20T07:19:20.277Z"
      },
      {
        "duration": -427,
        "start_time": "2021-07-20T07:19:20.281Z"
      },
      {
        "duration": -427,
        "start_time": "2021-07-20T07:19:20.283Z"
      },
      {
        "duration": -428,
        "start_time": "2021-07-20T07:19:20.286Z"
      },
      {
        "duration": -428,
        "start_time": "2021-07-20T07:19:20.288Z"
      },
      {
        "duration": -429,
        "start_time": "2021-07-20T07:19:20.291Z"
      },
      {
        "duration": -428,
        "start_time": "2021-07-20T07:19:20.292Z"
      },
      {
        "duration": -428,
        "start_time": "2021-07-20T07:19:20.294Z"
      },
      {
        "duration": -429,
        "start_time": "2021-07-20T07:19:20.297Z"
      },
      {
        "duration": -427,
        "start_time": "2021-07-20T07:19:20.298Z"
      },
      {
        "duration": -427,
        "start_time": "2021-07-20T07:19:20.300Z"
      },
      {
        "duration": -427,
        "start_time": "2021-07-20T07:19:20.302Z"
      },
      {
        "duration": -438,
        "start_time": "2021-07-20T07:19:20.315Z"
      },
      {
        "duration": -437,
        "start_time": "2021-07-20T07:19:20.316Z"
      },
      {
        "duration": -439,
        "start_time": "2021-07-20T07:19:20.320Z"
      },
      {
        "duration": -438,
        "start_time": "2021-07-20T07:19:20.321Z"
      },
      {
        "duration": -438,
        "start_time": "2021-07-20T07:19:20.323Z"
      },
      {
        "duration": -438,
        "start_time": "2021-07-20T07:19:20.325Z"
      },
      {
        "duration": -437,
        "start_time": "2021-07-20T07:19:20.326Z"
      },
      {
        "duration": -437,
        "start_time": "2021-07-20T07:19:20.328Z"
      },
      {
        "duration": -436,
        "start_time": "2021-07-20T07:19:20.329Z"
      },
      {
        "duration": -436,
        "start_time": "2021-07-20T07:19:20.331Z"
      },
      {
        "duration": -376,
        "start_time": "2021-07-20T07:19:20.332Z"
      },
      {
        "duration": 5,
        "start_time": "2021-07-20T07:19:47.686Z"
      },
      {
        "duration": 15,
        "start_time": "2021-07-20T07:19:47.694Z"
      },
      {
        "duration": 68,
        "start_time": "2021-07-20T07:19:47.713Z"
      },
      {
        "duration": 39,
        "start_time": "2021-07-20T07:19:47.784Z"
      },
      {
        "duration": 40,
        "start_time": "2021-07-20T07:19:47.826Z"
      },
      {
        "duration": 52,
        "start_time": "2021-07-20T07:19:47.868Z"
      },
      {
        "duration": 34,
        "start_time": "2021-07-20T07:19:47.923Z"
      },
      {
        "duration": 4,
        "start_time": "2021-07-20T07:19:47.963Z"
      },
      {
        "duration": 47,
        "start_time": "2021-07-20T07:19:47.971Z"
      },
      {
        "duration": 47,
        "start_time": "2021-07-20T07:19:48.021Z"
      },
      {
        "duration": 7,
        "start_time": "2021-07-20T07:19:48.071Z"
      },
      {
        "duration": 8,
        "start_time": "2021-07-20T07:19:48.080Z"
      },
      {
        "duration": 17,
        "start_time": "2021-07-20T07:19:48.091Z"
      },
      {
        "duration": 19,
        "start_time": "2021-07-20T07:19:48.110Z"
      },
      {
        "duration": 40,
        "start_time": "2021-07-20T07:19:48.131Z"
      },
      {
        "duration": 12,
        "start_time": "2021-07-20T07:19:48.173Z"
      },
      {
        "duration": 7,
        "start_time": "2021-07-20T07:19:48.187Z"
      },
      {
        "duration": 499,
        "start_time": "2021-07-20T07:19:48.196Z"
      },
      {
        "duration": 424,
        "start_time": "2021-07-20T07:19:48.697Z"
      },
      {
        "duration": 3,
        "start_time": "2021-07-20T07:19:49.123Z"
      },
      {
        "duration": 448,
        "start_time": "2021-07-20T07:19:49.129Z"
      },
      {
        "duration": 41,
        "start_time": "2021-07-20T07:19:49.579Z"
      },
      {
        "duration": 1854,
        "start_time": "2021-07-20T07:19:49.625Z"
      },
      {
        "duration": 275,
        "start_time": "2021-07-20T07:19:51.482Z"
      },
      {
        "duration": 7,
        "start_time": "2021-07-20T07:19:51.759Z"
      },
      {
        "duration": 8,
        "start_time": "2021-07-20T07:19:51.769Z"
      },
      {
        "duration": 4356,
        "start_time": "2021-07-20T07:19:51.779Z"
      },
      {
        "duration": 3384,
        "start_time": "2021-07-20T07:19:56.137Z"
      },
      {
        "duration": 680,
        "start_time": "2021-07-20T07:19:59.523Z"
      },
      {
        "duration": 4218,
        "start_time": "2021-07-20T07:20:00.206Z"
      },
      {
        "duration": 515,
        "start_time": "2021-07-20T07:20:04.427Z"
      },
      {
        "duration": 56,
        "start_time": "2021-07-20T07:20:04.944Z"
      },
      {
        "duration": 12,
        "start_time": "2021-07-20T07:20:05.002Z"
      },
      {
        "duration": 429,
        "start_time": "2021-07-20T07:20:05.016Z"
      },
      {
        "duration": 399,
        "start_time": "2021-07-20T07:20:05.448Z"
      },
      {
        "duration": 11,
        "start_time": "2021-07-20T07:20:05.849Z"
      },
      {
        "duration": 521,
        "start_time": "2021-07-20T07:20:05.862Z"
      },
      {
        "duration": 4,
        "start_time": "2021-07-20T07:20:06.385Z"
      },
      {
        "duration": 953,
        "start_time": "2021-07-20T07:20:06.391Z"
      },
      {
        "duration": 1020,
        "start_time": "2021-07-20T07:20:07.347Z"
      },
      {
        "duration": -442,
        "start_time": "2021-07-20T07:20:08.811Z"
      },
      {
        "duration": -442,
        "start_time": "2021-07-20T07:20:08.813Z"
      },
      {
        "duration": -442,
        "start_time": "2021-07-20T07:20:08.814Z"
      },
      {
        "duration": -442,
        "start_time": "2021-07-20T07:20:08.816Z"
      },
      {
        "duration": -442,
        "start_time": "2021-07-20T07:20:08.817Z"
      },
      {
        "duration": -443,
        "start_time": "2021-07-20T07:20:08.819Z"
      },
      {
        "duration": 962,
        "start_time": "2021-07-20T07:20:34.465Z"
      },
      {
        "duration": 24,
        "start_time": "2021-07-20T07:29:24.629Z"
      },
      {
        "duration": 30,
        "start_time": "2021-07-20T07:29:33.297Z"
      },
      {
        "duration": 579,
        "start_time": "2021-07-20T07:30:44.212Z"
      },
      {
        "duration": 592,
        "start_time": "2021-07-20T07:30:55.676Z"
      },
      {
        "duration": 493,
        "start_time": "2021-07-20T07:31:13.075Z"
      },
      {
        "duration": 502,
        "start_time": "2021-07-20T07:31:29.833Z"
      },
      {
        "duration": 483,
        "start_time": "2021-07-20T07:31:42.881Z"
      },
      {
        "duration": -444,
        "start_time": "2021-07-20T07:32:51.947Z"
      },
      {
        "duration": 4157,
        "start_time": "2021-07-20T07:33:03.278Z"
      },
      {
        "duration": 10,
        "start_time": "2021-07-20T07:33:34.610Z"
      },
      {
        "duration": 30,
        "start_time": "2021-07-20T07:33:48.810Z"
      },
      {
        "duration": 31,
        "start_time": "2021-07-20T07:34:21.002Z"
      },
      {
        "duration": 619,
        "start_time": "2021-07-20T07:34:34.282Z"
      },
      {
        "duration": 2137,
        "start_time": "2021-07-20T07:35:19.982Z"
      },
      {
        "duration": 620,
        "start_time": "2021-07-20T07:35:37.602Z"
      },
      {
        "duration": 6,
        "start_time": "2021-07-20T07:36:04.806Z"
      },
      {
        "duration": 6,
        "start_time": "2021-07-20T07:36:27.759Z"
      },
      {
        "duration": 5,
        "start_time": "2021-07-20T07:36:32.397Z"
      },
      {
        "duration": 494,
        "start_time": "2021-07-20T07:37:24.077Z"
      },
      {
        "duration": 690,
        "start_time": "2021-07-20T07:38:25.205Z"
      },
      {
        "duration": 4,
        "start_time": "2021-07-20T07:38:38.887Z"
      },
      {
        "duration": 3,
        "start_time": "2021-07-20T07:38:40.570Z"
      },
      {
        "duration": 6,
        "start_time": "2021-07-20T07:38:44.765Z"
      },
      {
        "duration": 10,
        "start_time": "2021-07-20T07:39:17.908Z"
      },
      {
        "duration": 504,
        "start_time": "2021-07-20T07:39:23.704Z"
      },
      {
        "duration": 252,
        "start_time": "2021-07-20T07:39:48.571Z"
      },
      {
        "duration": 6,
        "start_time": "2021-07-20T07:39:59.495Z"
      },
      {
        "duration": 6,
        "start_time": "2021-07-20T07:40:06.993Z"
      },
      {
        "duration": 285,
        "start_time": "2021-07-20T07:57:14.431Z"
      },
      {
        "duration": 290,
        "start_time": "2021-07-20T07:58:00.766Z"
      },
      {
        "duration": 8150,
        "start_time": "2021-07-20T08:02:29.431Z"
      },
      {
        "duration": 362,
        "start_time": "2021-07-20T08:13:15.375Z"
      },
      {
        "duration": 371,
        "start_time": "2021-07-20T08:13:22.047Z"
      },
      {
        "duration": 445,
        "start_time": "2021-07-20T08:13:45.862Z"
      },
      {
        "duration": 388,
        "start_time": "2021-07-20T08:14:15.914Z"
      },
      {
        "duration": 362,
        "start_time": "2021-07-20T08:14:20.858Z"
      },
      {
        "duration": 345,
        "start_time": "2021-07-20T08:15:17.689Z"
      },
      {
        "duration": 355,
        "start_time": "2021-07-20T08:16:04.457Z"
      },
      {
        "duration": 1790,
        "start_time": "2021-07-20T08:16:56.806Z"
      },
      {
        "duration": 659,
        "start_time": "2021-07-20T08:17:42.673Z"
      },
      {
        "duration": 5,
        "start_time": "2021-07-20T08:19:34.870Z"
      },
      {
        "duration": 8,
        "start_time": "2021-07-20T08:19:34.877Z"
      },
      {
        "duration": 51,
        "start_time": "2021-07-20T08:19:34.888Z"
      },
      {
        "duration": 48,
        "start_time": "2021-07-20T08:19:34.941Z"
      },
      {
        "duration": 14,
        "start_time": "2021-07-20T08:19:34.991Z"
      },
      {
        "duration": 79,
        "start_time": "2021-07-20T08:19:35.007Z"
      },
      {
        "duration": 21,
        "start_time": "2021-07-20T08:19:35.088Z"
      },
      {
        "duration": 7,
        "start_time": "2021-07-20T08:19:35.112Z"
      },
      {
        "duration": 52,
        "start_time": "2021-07-20T08:19:35.122Z"
      },
      {
        "duration": 32,
        "start_time": "2021-07-20T08:19:35.177Z"
      },
      {
        "duration": 5,
        "start_time": "2021-07-20T08:19:35.211Z"
      },
      {
        "duration": 6,
        "start_time": "2021-07-20T08:19:35.218Z"
      },
      {
        "duration": 41,
        "start_time": "2021-07-20T08:19:35.226Z"
      },
      {
        "duration": 17,
        "start_time": "2021-07-20T08:19:35.269Z"
      },
      {
        "duration": 17,
        "start_time": "2021-07-20T08:19:35.289Z"
      },
      {
        "duration": 6,
        "start_time": "2021-07-20T08:19:35.308Z"
      },
      {
        "duration": 39,
        "start_time": "2021-07-20T08:19:35.317Z"
      },
      {
        "duration": 32,
        "start_time": "2021-07-20T08:19:35.358Z"
      },
      {
        "duration": 310,
        "start_time": "2021-07-20T08:19:35.393Z"
      },
      {
        "duration": 683,
        "start_time": "2021-07-20T08:19:35.705Z"
      },
      {
        "duration": -357,
        "start_time": "2021-07-20T08:19:36.748Z"
      },
      {
        "duration": -361,
        "start_time": "2021-07-20T08:19:36.754Z"
      },
      {
        "duration": -361,
        "start_time": "2021-07-20T08:19:36.756Z"
      },
      {
        "duration": -362,
        "start_time": "2021-07-20T08:19:36.759Z"
      },
      {
        "duration": -363,
        "start_time": "2021-07-20T08:19:36.761Z"
      },
      {
        "duration": -364,
        "start_time": "2021-07-20T08:19:36.763Z"
      },
      {
        "duration": -365,
        "start_time": "2021-07-20T08:19:36.765Z"
      },
      {
        "duration": -365,
        "start_time": "2021-07-20T08:19:36.767Z"
      },
      {
        "duration": -369,
        "start_time": "2021-07-20T08:19:36.772Z"
      },
      {
        "duration": -369,
        "start_time": "2021-07-20T08:19:36.774Z"
      },
      {
        "duration": -401,
        "start_time": "2021-07-20T08:19:36.807Z"
      },
      {
        "duration": -403,
        "start_time": "2021-07-20T08:19:36.810Z"
      },
      {
        "duration": -404,
        "start_time": "2021-07-20T08:19:36.813Z"
      },
      {
        "duration": -441,
        "start_time": "2021-07-20T08:19:36.851Z"
      },
      {
        "duration": -442,
        "start_time": "2021-07-20T08:19:36.853Z"
      },
      {
        "duration": -441,
        "start_time": "2021-07-20T08:19:36.854Z"
      },
      {
        "duration": -442,
        "start_time": "2021-07-20T08:19:36.856Z"
      },
      {
        "duration": -441,
        "start_time": "2021-07-20T08:19:36.857Z"
      },
      {
        "duration": -442,
        "start_time": "2021-07-20T08:19:36.859Z"
      },
      {
        "duration": -442,
        "start_time": "2021-07-20T08:19:36.860Z"
      },
      {
        "duration": -407,
        "start_time": "2021-07-20T08:19:36.862Z"
      },
      {
        "duration": -408,
        "start_time": "2021-07-20T08:19:36.864Z"
      },
      {
        "duration": -408,
        "start_time": "2021-07-20T08:19:36.866Z"
      },
      {
        "duration": -409,
        "start_time": "2021-07-20T08:19:36.868Z"
      },
      {
        "duration": -409,
        "start_time": "2021-07-20T08:19:36.869Z"
      },
      {
        "duration": -410,
        "start_time": "2021-07-20T08:19:36.871Z"
      },
      {
        "duration": -409,
        "start_time": "2021-07-20T08:19:36.872Z"
      },
      {
        "duration": -410,
        "start_time": "2021-07-20T08:19:36.874Z"
      },
      {
        "duration": 19,
        "start_time": "2021-07-20T08:22:59.157Z"
      },
      {
        "duration": 1308,
        "start_time": "2021-07-20T08:22:59.178Z"
      },
      {
        "duration": 48,
        "start_time": "2021-07-20T08:23:00.489Z"
      },
      {
        "duration": 42,
        "start_time": "2021-07-20T08:23:00.539Z"
      },
      {
        "duration": 33,
        "start_time": "2021-07-20T08:23:00.584Z"
      },
      {
        "duration": 59,
        "start_time": "2021-07-20T08:23:00.619Z"
      },
      {
        "duration": 20,
        "start_time": "2021-07-20T08:23:00.681Z"
      },
      {
        "duration": 36,
        "start_time": "2021-07-20T08:23:00.705Z"
      },
      {
        "duration": 63,
        "start_time": "2021-07-20T08:23:00.744Z"
      },
      {
        "duration": 38,
        "start_time": "2021-07-20T08:23:00.809Z"
      },
      {
        "duration": 6,
        "start_time": "2021-07-20T08:23:00.850Z"
      },
      {
        "duration": 20,
        "start_time": "2021-07-20T08:23:00.858Z"
      },
      {
        "duration": 16,
        "start_time": "2021-07-20T08:23:00.880Z"
      },
      {
        "duration": 30,
        "start_time": "2021-07-20T08:23:00.898Z"
      },
      {
        "duration": 18,
        "start_time": "2021-07-20T08:23:00.930Z"
      },
      {
        "duration": 8,
        "start_time": "2021-07-20T08:23:00.951Z"
      },
      {
        "duration": 23,
        "start_time": "2021-07-20T08:23:00.961Z"
      },
      {
        "duration": 32,
        "start_time": "2021-07-20T08:23:00.986Z"
      },
      {
        "duration": 298,
        "start_time": "2021-07-20T08:23:01.020Z"
      },
      {
        "duration": 450,
        "start_time": "2021-07-20T08:23:01.320Z"
      },
      {
        "duration": 387,
        "start_time": "2021-07-20T08:23:01.772Z"
      },
      {
        "duration": 5,
        "start_time": "2021-07-20T08:23:02.162Z"
      },
      {
        "duration": 474,
        "start_time": "2021-07-20T08:23:02.172Z"
      },
      {
        "duration": 48,
        "start_time": "2021-07-20T08:23:02.649Z"
      },
      {
        "duration": 428,
        "start_time": "2021-07-20T08:23:02.699Z"
      },
      {
        "duration": -486,
        "start_time": "2021-07-20T08:23:03.615Z"
      },
      {
        "duration": -487,
        "start_time": "2021-07-20T08:23:03.618Z"
      },
      {
        "duration": -488,
        "start_time": "2021-07-20T08:23:03.620Z"
      },
      {
        "duration": -488,
        "start_time": "2021-07-20T08:23:03.622Z"
      },
      {
        "duration": -488,
        "start_time": "2021-07-20T08:23:03.623Z"
      },
      {
        "duration": -489,
        "start_time": "2021-07-20T08:23:03.625Z"
      },
      {
        "duration": -489,
        "start_time": "2021-07-20T08:23:03.627Z"
      },
      {
        "duration": -489,
        "start_time": "2021-07-20T08:23:03.628Z"
      },
      {
        "duration": -489,
        "start_time": "2021-07-20T08:23:03.630Z"
      },
      {
        "duration": -489,
        "start_time": "2021-07-20T08:23:03.631Z"
      },
      {
        "duration": -490,
        "start_time": "2021-07-20T08:23:03.633Z"
      },
      {
        "duration": -490,
        "start_time": "2021-07-20T08:23:03.635Z"
      },
      {
        "duration": -491,
        "start_time": "2021-07-20T08:23:03.637Z"
      },
      {
        "duration": -491,
        "start_time": "2021-07-20T08:23:03.639Z"
      },
      {
        "duration": -493,
        "start_time": "2021-07-20T08:23:03.642Z"
      },
      {
        "duration": -493,
        "start_time": "2021-07-20T08:23:03.644Z"
      },
      {
        "duration": -493,
        "start_time": "2021-07-20T08:23:03.645Z"
      },
      {
        "duration": -494,
        "start_time": "2021-07-20T08:23:03.647Z"
      },
      {
        "duration": -584,
        "start_time": "2021-07-20T08:23:03.739Z"
      },
      {
        "duration": -598,
        "start_time": "2021-07-20T08:23:03.754Z"
      },
      {
        "duration": -600,
        "start_time": "2021-07-20T08:23:03.757Z"
      },
      {
        "duration": -601,
        "start_time": "2021-07-20T08:23:03.759Z"
      },
      {
        "duration": -601,
        "start_time": "2021-07-20T08:23:03.761Z"
      },
      {
        "duration": 5,
        "start_time": "2021-07-20T08:23:43.332Z"
      },
      {
        "duration": 7,
        "start_time": "2021-07-20T08:23:43.339Z"
      },
      {
        "duration": 52,
        "start_time": "2021-07-20T08:23:43.349Z"
      },
      {
        "duration": 74,
        "start_time": "2021-07-20T08:23:43.403Z"
      },
      {
        "duration": 15,
        "start_time": "2021-07-20T08:23:43.480Z"
      },
      {
        "duration": 69,
        "start_time": "2021-07-20T08:23:43.499Z"
      },
      {
        "duration": 18,
        "start_time": "2021-07-20T08:23:43.570Z"
      },
      {
        "duration": 12,
        "start_time": "2021-07-20T08:23:43.590Z"
      },
      {
        "duration": 27,
        "start_time": "2021-07-20T08:23:43.606Z"
      },
      {
        "duration": 34,
        "start_time": "2021-07-20T08:23:43.656Z"
      },
      {
        "duration": 6,
        "start_time": "2021-07-20T08:23:43.692Z"
      },
      {
        "duration": 10,
        "start_time": "2021-07-20T08:23:43.700Z"
      },
      {
        "duration": 43,
        "start_time": "2021-07-20T08:23:43.712Z"
      },
      {
        "duration": 15,
        "start_time": "2021-07-20T08:23:43.758Z"
      },
      {
        "duration": 15,
        "start_time": "2021-07-20T08:23:43.776Z"
      },
      {
        "duration": 6,
        "start_time": "2021-07-20T08:23:43.793Z"
      },
      {
        "duration": 7,
        "start_time": "2021-07-20T08:23:43.802Z"
      },
      {
        "duration": 64,
        "start_time": "2021-07-20T08:23:43.811Z"
      },
      {
        "duration": 292,
        "start_time": "2021-07-20T08:23:43.878Z"
      },
      {
        "duration": 421,
        "start_time": "2021-07-20T08:23:44.172Z"
      },
      {
        "duration": 441,
        "start_time": "2021-07-20T08:23:44.596Z"
      },
      {
        "duration": 3,
        "start_time": "2021-07-20T08:23:45.040Z"
      },
      {
        "duration": 456,
        "start_time": "2021-07-20T08:23:45.045Z"
      },
      {
        "duration": 55,
        "start_time": "2021-07-20T08:23:45.503Z"
      },
      {
        "duration": 261,
        "start_time": "2021-07-20T08:23:45.560Z"
      },
      {
        "duration": -363,
        "start_time": "2021-07-20T08:23:46.188Z"
      },
      {
        "duration": -370,
        "start_time": "2021-07-20T08:23:46.197Z"
      },
      {
        "duration": -473,
        "start_time": "2021-07-20T08:23:46.303Z"
      },
      {
        "duration": -478,
        "start_time": "2021-07-20T08:23:46.310Z"
      },
      {
        "duration": -478,
        "start_time": "2021-07-20T08:23:46.312Z"
      },
      {
        "duration": -478,
        "start_time": "2021-07-20T08:23:46.314Z"
      },
      {
        "duration": -479,
        "start_time": "2021-07-20T08:23:46.317Z"
      },
      {
        "duration": -479,
        "start_time": "2021-07-20T08:23:46.319Z"
      },
      {
        "duration": -479,
        "start_time": "2021-07-20T08:23:46.321Z"
      },
      {
        "duration": -480,
        "start_time": "2021-07-20T08:23:46.324Z"
      },
      {
        "duration": -480,
        "start_time": "2021-07-20T08:23:46.326Z"
      },
      {
        "duration": -480,
        "start_time": "2021-07-20T08:23:46.328Z"
      },
      {
        "duration": -480,
        "start_time": "2021-07-20T08:23:46.330Z"
      },
      {
        "duration": -478,
        "start_time": "2021-07-20T08:23:46.331Z"
      },
      {
        "duration": -479,
        "start_time": "2021-07-20T08:23:46.334Z"
      },
      {
        "duration": -477,
        "start_time": "2021-07-20T08:23:46.336Z"
      },
      {
        "duration": -477,
        "start_time": "2021-07-20T08:23:46.338Z"
      },
      {
        "duration": -477,
        "start_time": "2021-07-20T08:23:46.340Z"
      },
      {
        "duration": -477,
        "start_time": "2021-07-20T08:23:46.342Z"
      },
      {
        "duration": -477,
        "start_time": "2021-07-20T08:23:46.344Z"
      },
      {
        "duration": -477,
        "start_time": "2021-07-20T08:23:46.346Z"
      },
      {
        "duration": -475,
        "start_time": "2021-07-20T08:23:46.347Z"
      },
      {
        "duration": -475,
        "start_time": "2021-07-20T08:23:46.349Z"
      },
      {
        "duration": 296,
        "start_time": "2021-07-20T08:24:18.785Z"
      },
      {
        "duration": 4,
        "start_time": "2021-07-20T08:24:27.804Z"
      },
      {
        "duration": 455,
        "start_time": "2021-07-20T08:24:29.302Z"
      },
      {
        "duration": 44,
        "start_time": "2021-07-20T08:24:29.759Z"
      },
      {
        "duration": 5,
        "start_time": "2021-07-20T08:25:55.996Z"
      },
      {
        "duration": 9,
        "start_time": "2021-07-20T08:25:56.003Z"
      },
      {
        "duration": 58,
        "start_time": "2021-07-20T08:25:56.015Z"
      },
      {
        "duration": 38,
        "start_time": "2021-07-20T08:25:56.075Z"
      },
      {
        "duration": 40,
        "start_time": "2021-07-20T08:25:56.116Z"
      },
      {
        "duration": 42,
        "start_time": "2021-07-20T08:25:56.158Z"
      },
      {
        "duration": 20,
        "start_time": "2021-07-20T08:25:56.203Z"
      },
      {
        "duration": 30,
        "start_time": "2021-07-20T08:25:56.227Z"
      },
      {
        "duration": 36,
        "start_time": "2021-07-20T08:25:56.260Z"
      },
      {
        "duration": 37,
        "start_time": "2021-07-20T08:25:56.299Z"
      },
      {
        "duration": 20,
        "start_time": "2021-07-20T08:25:56.338Z"
      },
      {
        "duration": 15,
        "start_time": "2021-07-20T08:25:56.361Z"
      },
      {
        "duration": 23,
        "start_time": "2021-07-20T08:25:56.378Z"
      },
      {
        "duration": 23,
        "start_time": "2021-07-20T08:25:56.403Z"
      },
      {
        "duration": 13,
        "start_time": "2021-07-20T08:25:56.429Z"
      },
      {
        "duration": 6,
        "start_time": "2021-07-20T08:25:56.457Z"
      },
      {
        "duration": 21,
        "start_time": "2021-07-20T08:25:56.465Z"
      },
      {
        "duration": 45,
        "start_time": "2021-07-20T08:25:56.488Z"
      },
      {
        "duration": 310,
        "start_time": "2021-07-20T08:25:56.535Z"
      },
      {
        "duration": 519,
        "start_time": "2021-07-20T08:25:56.848Z"
      },
      {
        "duration": 468,
        "start_time": "2021-07-20T08:25:57.370Z"
      },
      {
        "duration": 3,
        "start_time": "2021-07-20T08:25:57.841Z"
      },
      {
        "duration": 452,
        "start_time": "2021-07-20T08:25:57.858Z"
      },
      {
        "duration": 54,
        "start_time": "2021-07-20T08:25:58.313Z"
      },
      {
        "duration": 266,
        "start_time": "2021-07-20T08:25:58.369Z"
      },
      {
        "duration": -376,
        "start_time": "2021-07-20T08:25:59.013Z"
      },
      {
        "duration": -382,
        "start_time": "2021-07-20T08:25:59.020Z"
      },
      {
        "duration": -382,
        "start_time": "2021-07-20T08:25:59.022Z"
      },
      {
        "duration": -384,
        "start_time": "2021-07-20T08:25:59.025Z"
      },
      {
        "duration": -385,
        "start_time": "2021-07-20T08:25:59.027Z"
      },
      {
        "duration": -477,
        "start_time": "2021-07-20T08:25:59.120Z"
      },
      {
        "duration": -477,
        "start_time": "2021-07-20T08:25:59.122Z"
      },
      {
        "duration": -479,
        "start_time": "2021-07-20T08:25:59.125Z"
      },
      {
        "duration": -480,
        "start_time": "2021-07-20T08:25:59.127Z"
      },
      {
        "duration": -481,
        "start_time": "2021-07-20T08:25:59.129Z"
      },
      {
        "duration": -482,
        "start_time": "2021-07-20T08:25:59.132Z"
      },
      {
        "duration": -483,
        "start_time": "2021-07-20T08:25:59.134Z"
      },
      {
        "duration": -484,
        "start_time": "2021-07-20T08:25:59.136Z"
      },
      {
        "duration": -485,
        "start_time": "2021-07-20T08:25:59.138Z"
      },
      {
        "duration": -484,
        "start_time": "2021-07-20T08:25:59.139Z"
      },
      {
        "duration": -485,
        "start_time": "2021-07-20T08:25:59.141Z"
      },
      {
        "duration": -485,
        "start_time": "2021-07-20T08:25:59.142Z"
      },
      {
        "duration": -486,
        "start_time": "2021-07-20T08:25:59.144Z"
      },
      {
        "duration": -486,
        "start_time": "2021-07-20T08:25:59.145Z"
      },
      {
        "duration": -487,
        "start_time": "2021-07-20T08:25:59.148Z"
      },
      {
        "duration": -488,
        "start_time": "2021-07-20T08:25:59.150Z"
      },
      {
        "duration": -490,
        "start_time": "2021-07-20T08:25:59.153Z"
      },
      {
        "duration": -490,
        "start_time": "2021-07-20T08:25:59.154Z"
      },
      {
        "duration": 4,
        "start_time": "2021-07-20T08:29:56.563Z"
      },
      {
        "duration": 441,
        "start_time": "2021-07-20T08:29:57.739Z"
      },
      {
        "duration": 43,
        "start_time": "2021-07-20T08:29:58.246Z"
      },
      {
        "duration": 4,
        "start_time": "2021-07-20T08:30:39.490Z"
      },
      {
        "duration": 446,
        "start_time": "2021-07-20T08:30:40.102Z"
      },
      {
        "duration": 42,
        "start_time": "2021-07-20T08:30:41.163Z"
      },
      {
        "duration": 4,
        "start_time": "2021-07-20T08:32:01.453Z"
      },
      {
        "duration": 19,
        "start_time": "2021-07-20T08:32:01.459Z"
      },
      {
        "duration": 58,
        "start_time": "2021-07-20T08:32:01.481Z"
      },
      {
        "duration": 49,
        "start_time": "2021-07-20T08:32:01.542Z"
      },
      {
        "duration": 21,
        "start_time": "2021-07-20T08:32:01.594Z"
      },
      {
        "duration": 63,
        "start_time": "2021-07-20T08:32:01.617Z"
      },
      {
        "duration": 19,
        "start_time": "2021-07-20T08:32:01.682Z"
      },
      {
        "duration": 31,
        "start_time": "2021-07-20T08:32:01.703Z"
      },
      {
        "duration": 74,
        "start_time": "2021-07-20T08:32:01.738Z"
      },
      {
        "duration": 86,
        "start_time": "2021-07-20T08:32:01.815Z"
      },
      {
        "duration": 6,
        "start_time": "2021-07-20T08:32:01.904Z"
      },
      {
        "duration": 23,
        "start_time": "2021-07-20T08:32:01.912Z"
      },
      {
        "duration": 40,
        "start_time": "2021-07-20T08:32:01.937Z"
      },
      {
        "duration": 36,
        "start_time": "2021-07-20T08:32:01.979Z"
      },
      {
        "duration": 25,
        "start_time": "2021-07-20T08:32:02.018Z"
      },
      {
        "duration": 15,
        "start_time": "2021-07-20T08:32:02.046Z"
      },
      {
        "duration": 33,
        "start_time": "2021-07-20T08:32:02.064Z"
      },
      {
        "duration": 50,
        "start_time": "2021-07-20T08:32:02.099Z"
      },
      {
        "duration": 312,
        "start_time": "2021-07-20T08:32:02.151Z"
      },
      {
        "duration": 433,
        "start_time": "2021-07-20T08:32:02.465Z"
      },
      {
        "duration": 373,
        "start_time": "2021-07-20T08:32:02.900Z"
      },
      {
        "duration": 4,
        "start_time": "2021-07-20T08:32:03.275Z"
      },
      {
        "duration": 505,
        "start_time": "2021-07-20T08:32:03.281Z"
      },
      {
        "duration": 48,
        "start_time": "2021-07-20T08:32:03.788Z"
      },
      {
        "duration": 2078,
        "start_time": "2021-07-20T08:32:03.838Z"
      },
      {
        "duration": 270,
        "start_time": "2021-07-20T08:32:05.919Z"
      },
      {
        "duration": 7,
        "start_time": "2021-07-20T08:32:06.194Z"
      },
      {
        "duration": 22,
        "start_time": "2021-07-20T08:32:06.203Z"
      },
      {
        "duration": 4159,
        "start_time": "2021-07-20T08:32:06.227Z"
      },
      {
        "duration": 3423,
        "start_time": "2021-07-20T08:32:10.389Z"
      },
      {
        "duration": 694,
        "start_time": "2021-07-20T08:32:13.814Z"
      },
      {
        "duration": 4251,
        "start_time": "2021-07-20T08:32:14.510Z"
      },
      {
        "duration": 517,
        "start_time": "2021-07-20T08:32:18.763Z"
      },
      {
        "duration": 48,
        "start_time": "2021-07-20T08:32:19.282Z"
      },
      {
        "duration": 29,
        "start_time": "2021-07-20T08:32:19.332Z"
      },
      {
        "duration": 411,
        "start_time": "2021-07-20T08:32:19.363Z"
      },
      {
        "duration": 376,
        "start_time": "2021-07-20T08:32:19.776Z"
      },
      {
        "duration": 7,
        "start_time": "2021-07-20T08:32:20.156Z"
      },
      {
        "duration": 531,
        "start_time": "2021-07-20T08:32:20.166Z"
      },
      {
        "duration": 3,
        "start_time": "2021-07-20T08:32:20.700Z"
      },
      {
        "duration": 999,
        "start_time": "2021-07-20T08:32:20.706Z"
      },
      {
        "duration": 886,
        "start_time": "2021-07-20T08:32:21.707Z"
      },
      {
        "duration": 270,
        "start_time": "2021-07-20T08:32:22.596Z"
      },
      {
        "duration": -376,
        "start_time": "2021-07-20T08:32:23.244Z"
      },
      {
        "duration": -377,
        "start_time": "2021-07-20T08:32:23.247Z"
      },
      {
        "duration": -378,
        "start_time": "2021-07-20T08:32:23.249Z"
      },
      {
        "duration": -380,
        "start_time": "2021-07-20T08:32:23.252Z"
      },
      {
        "duration": -381,
        "start_time": "2021-07-20T08:32:23.254Z"
      },
      {
        "duration": 277,
        "start_time": "2021-07-20T08:33:21.897Z"
      },
      {
        "duration": 310,
        "start_time": "2021-07-20T09:11:29.632Z"
      },
      {
        "duration": 266,
        "start_time": "2021-07-20T09:11:36.005Z"
      },
      {
        "duration": 22,
        "start_time": "2021-07-20T09:11:55.987Z"
      },
      {
        "duration": 718,
        "start_time": "2021-07-20T09:12:13.207Z"
      },
      {
        "duration": 256,
        "start_time": "2021-07-20T10:37:18.684Z"
      },
      {
        "duration": 3,
        "start_time": "2021-07-20T10:38:09.265Z"
      },
      {
        "duration": 7,
        "start_time": "2021-07-20T10:38:16.523Z"
      },
      {
        "duration": 7,
        "start_time": "2021-07-20T10:38:23.296Z"
      },
      {
        "duration": 7,
        "start_time": "2021-07-20T10:38:34.762Z"
      },
      {
        "duration": 57,
        "start_time": "2021-07-20T10:39:49.383Z"
      },
      {
        "duration": 305,
        "start_time": "2021-07-20T10:46:59.068Z"
      },
      {
        "duration": 396,
        "start_time": "2021-07-20T10:47:12.845Z"
      },
      {
        "duration": 297,
        "start_time": "2021-07-20T10:47:46.938Z"
      },
      {
        "duration": 307,
        "start_time": "2021-07-20T10:48:40.250Z"
      },
      {
        "duration": 346,
        "start_time": "2021-07-20T10:48:46.261Z"
      },
      {
        "duration": 4,
        "start_time": "2021-07-20T10:48:55.853Z"
      },
      {
        "duration": 16,
        "start_time": "2021-07-20T10:48:55.860Z"
      },
      {
        "duration": 78,
        "start_time": "2021-07-20T10:48:55.879Z"
      },
      {
        "duration": 41,
        "start_time": "2021-07-20T10:48:55.960Z"
      },
      {
        "duration": 15,
        "start_time": "2021-07-20T10:48:56.003Z"
      },
      {
        "duration": 72,
        "start_time": "2021-07-20T10:48:56.021Z"
      },
      {
        "duration": 19,
        "start_time": "2021-07-20T10:48:56.095Z"
      },
      {
        "duration": 5,
        "start_time": "2021-07-20T10:48:56.116Z"
      },
      {
        "duration": 55,
        "start_time": "2021-07-20T10:48:56.125Z"
      },
      {
        "duration": 28,
        "start_time": "2021-07-20T10:48:56.183Z"
      },
      {
        "duration": 5,
        "start_time": "2021-07-20T10:48:56.214Z"
      },
      {
        "duration": 35,
        "start_time": "2021-07-20T10:48:56.221Z"
      },
      {
        "duration": 17,
        "start_time": "2021-07-20T10:48:56.258Z"
      },
      {
        "duration": 18,
        "start_time": "2021-07-20T10:48:56.277Z"
      },
      {
        "duration": 13,
        "start_time": "2021-07-20T10:48:56.297Z"
      },
      {
        "duration": 7,
        "start_time": "2021-07-20T10:48:56.312Z"
      },
      {
        "duration": 40,
        "start_time": "2021-07-20T10:48:56.321Z"
      },
      {
        "duration": 33,
        "start_time": "2021-07-20T10:48:56.363Z"
      },
      {
        "duration": 316,
        "start_time": "2021-07-20T10:48:56.398Z"
      },
      {
        "duration": 289,
        "start_time": "2021-07-20T10:48:56.717Z"
      },
      {
        "duration": 315,
        "start_time": "2021-07-20T10:48:57.008Z"
      },
      {
        "duration": 286,
        "start_time": "2021-07-20T10:48:57.325Z"
      },
      {
        "duration": 4,
        "start_time": "2021-07-20T10:48:57.613Z"
      },
      {
        "duration": 340,
        "start_time": "2021-07-20T10:48:57.619Z"
      },
      {
        "duration": 44,
        "start_time": "2021-07-20T10:48:57.961Z"
      },
      {
        "duration": 1701,
        "start_time": "2021-07-20T10:48:58.008Z"
      },
      {
        "duration": 67,
        "start_time": "2021-07-20T10:48:59.715Z"
      },
      {
        "duration": 8,
        "start_time": "2021-07-20T10:48:59.785Z"
      },
      {
        "duration": 16,
        "start_time": "2021-07-20T10:48:59.795Z"
      },
      {
        "duration": 4321,
        "start_time": "2021-07-20T10:48:59.813Z"
      },
      {
        "duration": 3532,
        "start_time": "2021-07-20T10:49:04.137Z"
      },
      {
        "duration": 715,
        "start_time": "2021-07-20T10:49:07.672Z"
      },
      {
        "duration": 4158,
        "start_time": "2021-07-20T10:49:08.389Z"
      },
      {
        "duration": 514,
        "start_time": "2021-07-20T10:49:12.549Z"
      },
      {
        "duration": 52,
        "start_time": "2021-07-20T10:49:13.065Z"
      },
      {
        "duration": 12,
        "start_time": "2021-07-20T10:49:13.120Z"
      },
      {
        "duration": 387,
        "start_time": "2021-07-20T10:49:13.157Z"
      },
      {
        "duration": 389,
        "start_time": "2021-07-20T10:49:13.546Z"
      },
      {
        "duration": 7,
        "start_time": "2021-07-20T10:49:13.938Z"
      },
      {
        "duration": 514,
        "start_time": "2021-07-20T10:49:13.956Z"
      },
      {
        "duration": 4,
        "start_time": "2021-07-20T10:49:14.472Z"
      },
      {
        "duration": 944,
        "start_time": "2021-07-20T10:49:14.478Z"
      },
      {
        "duration": 883,
        "start_time": "2021-07-20T10:49:15.425Z"
      },
      {
        "duration": 808,
        "start_time": "2021-07-20T10:49:16.310Z"
      },
      {
        "duration": 38,
        "start_time": "2021-07-20T10:49:17.121Z"
      },
      {
        "duration": 20,
        "start_time": "2021-07-20T10:49:17.162Z"
      },
      {
        "duration": 6,
        "start_time": "2021-07-20T10:49:17.185Z"
      },
      {
        "duration": 36,
        "start_time": "2021-07-20T10:49:17.193Z"
      },
      {
        "duration": 13,
        "start_time": "2021-07-20T10:49:17.231Z"
      },
      {
        "duration": 307,
        "start_time": "2021-07-20T10:52:32.208Z"
      },
      {
        "duration": 61,
        "start_time": "2021-07-20T10:53:33.432Z"
      },
      {
        "duration": 72,
        "start_time": "2021-07-20T10:54:14.531Z"
      },
      {
        "duration": 40,
        "start_time": "2021-07-20T10:55:44.617Z"
      },
      {
        "duration": 41,
        "start_time": "2021-07-20T10:56:27.379Z"
      },
      {
        "duration": 5,
        "start_time": "2021-07-20T11:02:48.745Z"
      },
      {
        "duration": 7,
        "start_time": "2021-07-20T11:02:48.753Z"
      },
      {
        "duration": 92,
        "start_time": "2021-07-20T11:02:48.764Z"
      },
      {
        "duration": 39,
        "start_time": "2021-07-20T11:02:48.858Z"
      },
      {
        "duration": 18,
        "start_time": "2021-07-20T11:02:48.899Z"
      },
      {
        "duration": 63,
        "start_time": "2021-07-20T11:02:48.920Z"
      },
      {
        "duration": 19,
        "start_time": "2021-07-20T11:02:48.985Z"
      },
      {
        "duration": 7,
        "start_time": "2021-07-20T11:02:49.007Z"
      },
      {
        "duration": 54,
        "start_time": "2021-07-20T11:02:49.018Z"
      },
      {
        "duration": 38,
        "start_time": "2021-07-20T11:02:49.076Z"
      },
      {
        "duration": 6,
        "start_time": "2021-07-20T11:02:49.116Z"
      },
      {
        "duration": 5,
        "start_time": "2021-07-20T11:02:49.124Z"
      },
      {
        "duration": 30,
        "start_time": "2021-07-20T11:02:49.132Z"
      },
      {
        "duration": 17,
        "start_time": "2021-07-20T11:02:49.164Z"
      },
      {
        "duration": 15,
        "start_time": "2021-07-20T11:02:49.183Z"
      },
      {
        "duration": 7,
        "start_time": "2021-07-20T11:02:49.200Z"
      },
      {
        "duration": 47,
        "start_time": "2021-07-20T11:02:49.209Z"
      },
      {
        "duration": 33,
        "start_time": "2021-07-20T11:02:49.258Z"
      },
      {
        "duration": 307,
        "start_time": "2021-07-20T11:02:49.293Z"
      },
      {
        "duration": 298,
        "start_time": "2021-07-20T11:02:49.603Z"
      },
      {
        "duration": 328,
        "start_time": "2021-07-20T11:02:49.904Z"
      },
      {
        "duration": 7500,
        "start_time": "2021-07-20T11:02:50.235Z"
      },
      {
        "duration": -553,
        "start_time": "2021-07-20T11:02:58.292Z"
      },
      {
        "duration": -555,
        "start_time": "2021-07-20T11:02:58.295Z"
      },
      {
        "duration": -555,
        "start_time": "2021-07-20T11:02:58.296Z"
      },
      {
        "duration": -555,
        "start_time": "2021-07-20T11:02:58.298Z"
      },
      {
        "duration": -556,
        "start_time": "2021-07-20T11:02:58.300Z"
      },
      {
        "duration": -556,
        "start_time": "2021-07-20T11:02:58.301Z"
      },
      {
        "duration": -557,
        "start_time": "2021-07-20T11:02:58.303Z"
      },
      {
        "duration": -557,
        "start_time": "2021-07-20T11:02:58.305Z"
      },
      {
        "duration": -557,
        "start_time": "2021-07-20T11:02:58.306Z"
      },
      {
        "duration": -558,
        "start_time": "2021-07-20T11:02:58.308Z"
      },
      {
        "duration": -559,
        "start_time": "2021-07-20T11:02:58.310Z"
      },
      {
        "duration": -559,
        "start_time": "2021-07-20T11:02:58.312Z"
      },
      {
        "duration": -559,
        "start_time": "2021-07-20T11:02:58.313Z"
      },
      {
        "duration": -560,
        "start_time": "2021-07-20T11:02:58.315Z"
      },
      {
        "duration": -561,
        "start_time": "2021-07-20T11:02:58.317Z"
      },
      {
        "duration": -560,
        "start_time": "2021-07-20T11:02:58.318Z"
      },
      {
        "duration": -561,
        "start_time": "2021-07-20T11:02:58.320Z"
      },
      {
        "duration": -654,
        "start_time": "2021-07-20T11:02:58.414Z"
      },
      {
        "duration": -660,
        "start_time": "2021-07-20T11:02:58.422Z"
      },
      {
        "duration": -660,
        "start_time": "2021-07-20T11:02:58.424Z"
      },
      {
        "duration": -660,
        "start_time": "2021-07-20T11:02:58.425Z"
      },
      {
        "duration": -662,
        "start_time": "2021-07-20T11:02:58.428Z"
      },
      {
        "duration": -662,
        "start_time": "2021-07-20T11:02:58.430Z"
      },
      {
        "duration": -663,
        "start_time": "2021-07-20T11:02:58.432Z"
      },
      {
        "duration": -664,
        "start_time": "2021-07-20T11:02:58.434Z"
      },
      {
        "duration": -663,
        "start_time": "2021-07-20T11:02:58.435Z"
      },
      {
        "duration": -562,
        "start_time": "2021-07-20T11:03:41.091Z"
      },
      {
        "duration": 8,
        "start_time": "2021-07-20T11:03:42.552Z"
      },
      {
        "duration": 10,
        "start_time": "2021-07-20T11:04:14.409Z"
      },
      {
        "duration": 15,
        "start_time": "2021-07-20T11:04:25.445Z"
      },
      {
        "duration": 5,
        "start_time": "2021-07-20T11:04:35.057Z"
      },
      {
        "duration": 17,
        "start_time": "2021-07-20T11:04:35.064Z"
      },
      {
        "duration": 79,
        "start_time": "2021-07-20T11:04:35.085Z"
      },
      {
        "duration": 40,
        "start_time": "2021-07-20T11:04:35.167Z"
      },
      {
        "duration": 34,
        "start_time": "2021-07-20T11:04:35.209Z"
      },
      {
        "duration": 52,
        "start_time": "2021-07-20T11:04:35.245Z"
      },
      {
        "duration": 20,
        "start_time": "2021-07-20T11:04:35.299Z"
      },
      {
        "duration": 12,
        "start_time": "2021-07-20T11:04:35.321Z"
      },
      {
        "duration": 43,
        "start_time": "2021-07-20T11:04:35.337Z"
      },
      {
        "duration": 39,
        "start_time": "2021-07-20T11:04:35.383Z"
      },
      {
        "duration": 5,
        "start_time": "2021-07-20T11:04:35.424Z"
      },
      {
        "duration": 25,
        "start_time": "2021-07-20T11:04:35.431Z"
      },
      {
        "duration": 12,
        "start_time": "2021-07-20T11:04:35.458Z"
      },
      {
        "duration": 20,
        "start_time": "2021-07-20T11:04:35.472Z"
      },
      {
        "duration": 19,
        "start_time": "2021-07-20T11:04:35.494Z"
      },
      {
        "duration": 10,
        "start_time": "2021-07-20T11:04:35.516Z"
      },
      {
        "duration": 38,
        "start_time": "2021-07-20T11:04:35.528Z"
      },
      {
        "duration": 38,
        "start_time": "2021-07-20T11:04:35.568Z"
      },
      {
        "duration": 296,
        "start_time": "2021-07-20T11:04:35.608Z"
      },
      {
        "duration": 285,
        "start_time": "2021-07-20T11:04:35.907Z"
      },
      {
        "duration": 346,
        "start_time": "2021-07-20T11:04:36.194Z"
      },
      {
        "duration": 14,
        "start_time": "2021-07-20T11:04:36.543Z"
      },
      {
        "duration": 18,
        "start_time": "2021-07-20T11:04:36.559Z"
      },
      {
        "duration": 336,
        "start_time": "2021-07-20T11:04:36.580Z"
      },
      {
        "duration": 56,
        "start_time": "2021-07-20T11:04:36.918Z"
      },
      {
        "duration": 1964,
        "start_time": "2021-07-20T11:04:36.977Z"
      },
      {
        "duration": 39,
        "start_time": "2021-07-20T11:04:38.957Z"
      },
      {
        "duration": 7,
        "start_time": "2021-07-20T11:04:38.999Z"
      },
      {
        "duration": 7,
        "start_time": "2021-07-20T11:04:39.008Z"
      },
      {
        "duration": 2256,
        "start_time": "2021-07-20T11:04:39.017Z"
      },
      {
        "duration": 2163,
        "start_time": "2021-07-20T11:04:41.276Z"
      },
      {
        "duration": 400,
        "start_time": "2021-07-20T11:04:43.442Z"
      },
      {
        "duration": 2247,
        "start_time": "2021-07-20T11:04:43.845Z"
      },
      {
        "duration": 409,
        "start_time": "2021-07-20T11:04:46.095Z"
      },
      {
        "duration": 67,
        "start_time": "2021-07-20T11:04:46.507Z"
      },
      {
        "duration": 11,
        "start_time": "2021-07-20T11:04:46.576Z"
      },
      {
        "duration": 401,
        "start_time": "2021-07-20T11:04:46.589Z"
      },
      {
        "duration": 420,
        "start_time": "2021-07-20T11:04:46.993Z"
      },
      {
        "duration": 7,
        "start_time": "2021-07-20T11:04:47.416Z"
      },
      {
        "duration": 518,
        "start_time": "2021-07-20T11:04:47.425Z"
      },
      {
        "duration": 3,
        "start_time": "2021-07-20T11:04:47.946Z"
      },
      {
        "duration": 785,
        "start_time": "2021-07-20T11:04:47.956Z"
      },
      {
        "duration": 865,
        "start_time": "2021-07-20T11:04:48.743Z"
      },
      {
        "duration": 729,
        "start_time": "2021-07-20T11:04:49.611Z"
      },
      {
        "duration": 23,
        "start_time": "2021-07-20T11:04:50.343Z"
      },
      {
        "duration": 19,
        "start_time": "2021-07-20T11:04:50.368Z"
      },
      {
        "duration": 17,
        "start_time": "2021-07-20T11:04:50.389Z"
      },
      {
        "duration": 13,
        "start_time": "2021-07-20T11:04:50.408Z"
      },
      {
        "duration": 33,
        "start_time": "2021-07-20T11:04:50.424Z"
      },
      {
        "duration": 8,
        "start_time": "2021-07-20T11:05:44.364Z"
      },
      {
        "duration": 9,
        "start_time": "2021-07-20T11:05:52.272Z"
      },
      {
        "duration": 1260,
        "start_time": "2021-07-20T11:05:52.283Z"
      },
      {
        "duration": 53,
        "start_time": "2021-07-20T11:05:53.547Z"
      },
      {
        "duration": 36,
        "start_time": "2021-07-20T11:05:53.603Z"
      },
      {
        "duration": 15,
        "start_time": "2021-07-20T11:05:53.656Z"
      },
      {
        "duration": 44,
        "start_time": "2021-07-20T11:05:53.673Z"
      },
      {
        "duration": 44,
        "start_time": "2021-07-20T11:05:53.720Z"
      },
      {
        "duration": 6,
        "start_time": "2021-07-20T11:05:53.766Z"
      },
      {
        "duration": 33,
        "start_time": "2021-07-20T11:05:53.776Z"
      },
      {
        "duration": 50,
        "start_time": "2021-07-20T11:05:53.812Z"
      },
      {
        "duration": 7,
        "start_time": "2021-07-20T11:05:53.864Z"
      },
      {
        "duration": 9,
        "start_time": "2021-07-20T11:05:53.873Z"
      },
      {
        "duration": 17,
        "start_time": "2021-07-20T11:05:53.885Z"
      },
      {
        "duration": 22,
        "start_time": "2021-07-20T11:05:53.905Z"
      },
      {
        "duration": 38,
        "start_time": "2021-07-20T11:05:53.929Z"
      },
      {
        "duration": 7,
        "start_time": "2021-07-20T11:05:53.970Z"
      },
      {
        "duration": 12,
        "start_time": "2021-07-20T11:05:53.980Z"
      },
      {
        "duration": 28,
        "start_time": "2021-07-20T11:05:53.994Z"
      },
      {
        "duration": 307,
        "start_time": "2021-07-20T11:05:54.055Z"
      },
      {
        "duration": 397,
        "start_time": "2021-07-20T11:05:54.364Z"
      },
      {
        "duration": -442,
        "start_time": "2021-07-20T11:05:55.207Z"
      },
      {
        "duration": -443,
        "start_time": "2021-07-20T11:05:55.209Z"
      },
      {
        "duration": -448,
        "start_time": "2021-07-20T11:05:55.215Z"
      },
      {
        "duration": -448,
        "start_time": "2021-07-20T11:05:55.216Z"
      },
      {
        "duration": -448,
        "start_time": "2021-07-20T11:05:55.218Z"
      },
      {
        "duration": -449,
        "start_time": "2021-07-20T11:05:55.220Z"
      },
      {
        "duration": -449,
        "start_time": "2021-07-20T11:05:55.221Z"
      },
      {
        "duration": -450,
        "start_time": "2021-07-20T11:05:55.223Z"
      },
      {
        "duration": -450,
        "start_time": "2021-07-20T11:05:55.225Z"
      },
      {
        "duration": -535,
        "start_time": "2021-07-20T11:05:55.311Z"
      },
      {
        "duration": -556,
        "start_time": "2021-07-20T11:05:55.333Z"
      },
      {
        "duration": -557,
        "start_time": "2021-07-20T11:05:55.335Z"
      },
      {
        "duration": -559,
        "start_time": "2021-07-20T11:05:55.338Z"
      },
      {
        "duration": -559,
        "start_time": "2021-07-20T11:05:55.340Z"
      },
      {
        "duration": -561,
        "start_time": "2021-07-20T11:05:55.343Z"
      },
      {
        "duration": -568,
        "start_time": "2021-07-20T11:05:55.351Z"
      },
      {
        "duration": -574,
        "start_time": "2021-07-20T11:05:55.358Z"
      },
      {
        "duration": -574,
        "start_time": "2021-07-20T11:05:55.360Z"
      },
      {
        "duration": -575,
        "start_time": "2021-07-20T11:05:55.362Z"
      },
      {
        "duration": -575,
        "start_time": "2021-07-20T11:05:55.363Z"
      },
      {
        "duration": -576,
        "start_time": "2021-07-20T11:05:55.365Z"
      },
      {
        "duration": -575,
        "start_time": "2021-07-20T11:05:55.366Z"
      },
      {
        "duration": -576,
        "start_time": "2021-07-20T11:05:55.368Z"
      },
      {
        "duration": -576,
        "start_time": "2021-07-20T11:05:55.369Z"
      },
      {
        "duration": -577,
        "start_time": "2021-07-20T11:05:55.371Z"
      },
      {
        "duration": -577,
        "start_time": "2021-07-20T11:05:55.372Z"
      },
      {
        "duration": -577,
        "start_time": "2021-07-20T11:05:55.374Z"
      },
      {
        "duration": -577,
        "start_time": "2021-07-20T11:05:55.375Z"
      },
      {
        "duration": 10,
        "start_time": "2021-07-20T11:06:39.200Z"
      },
      {
        "duration": 1298,
        "start_time": "2021-07-20T11:06:39.212Z"
      },
      {
        "duration": 48,
        "start_time": "2021-07-20T11:06:40.514Z"
      },
      {
        "duration": 37,
        "start_time": "2021-07-20T11:06:40.565Z"
      },
      {
        "duration": 15,
        "start_time": "2021-07-20T11:06:40.604Z"
      },
      {
        "duration": 70,
        "start_time": "2021-07-20T11:06:40.621Z"
      },
      {
        "duration": 23,
        "start_time": "2021-07-20T11:06:40.693Z"
      },
      {
        "duration": 23,
        "start_time": "2021-07-20T11:06:40.719Z"
      },
      {
        "duration": 36,
        "start_time": "2021-07-20T11:06:40.755Z"
      },
      {
        "duration": 62,
        "start_time": "2021-07-20T11:06:40.795Z"
      },
      {
        "duration": 8,
        "start_time": "2021-07-20T11:06:40.860Z"
      },
      {
        "duration": 17,
        "start_time": "2021-07-20T11:06:40.871Z"
      },
      {
        "duration": 25,
        "start_time": "2021-07-20T11:06:40.890Z"
      },
      {
        "duration": 23,
        "start_time": "2021-07-20T11:06:40.917Z"
      },
      {
        "duration": 23,
        "start_time": "2021-07-20T11:06:40.942Z"
      },
      {
        "duration": 9,
        "start_time": "2021-07-20T11:06:40.967Z"
      },
      {
        "duration": 21,
        "start_time": "2021-07-20T11:06:40.978Z"
      },
      {
        "duration": 34,
        "start_time": "2021-07-20T11:06:41.002Z"
      },
      {
        "duration": 309,
        "start_time": "2021-07-20T11:06:41.038Z"
      },
      {
        "duration": 382,
        "start_time": "2021-07-20T11:06:41.349Z"
      },
      {
        "duration": -455,
        "start_time": "2021-07-20T11:06:42.190Z"
      },
      {
        "duration": -457,
        "start_time": "2021-07-20T11:06:42.193Z"
      },
      {
        "duration": -457,
        "start_time": "2021-07-20T11:06:42.195Z"
      },
      {
        "duration": -457,
        "start_time": "2021-07-20T11:06:42.197Z"
      },
      {
        "duration": -464,
        "start_time": "2021-07-20T11:06:42.205Z"
      },
      {
        "duration": -465,
        "start_time": "2021-07-20T11:06:42.208Z"
      },
      {
        "duration": -466,
        "start_time": "2021-07-20T11:06:42.210Z"
      },
      {
        "duration": -466,
        "start_time": "2021-07-20T11:06:42.211Z"
      },
      {
        "duration": -466,
        "start_time": "2021-07-20T11:06:42.213Z"
      },
      {
        "duration": -466,
        "start_time": "2021-07-20T11:06:42.214Z"
      },
      {
        "duration": -471,
        "start_time": "2021-07-20T11:06:42.221Z"
      },
      {
        "duration": -473,
        "start_time": "2021-07-20T11:06:42.224Z"
      },
      {
        "duration": -473,
        "start_time": "2021-07-20T11:06:42.226Z"
      },
      {
        "duration": -474,
        "start_time": "2021-07-20T11:06:42.228Z"
      },
      {
        "duration": -525,
        "start_time": "2021-07-20T11:06:42.280Z"
      },
      {
        "duration": -530,
        "start_time": "2021-07-20T11:06:42.287Z"
      },
      {
        "duration": -531,
        "start_time": "2021-07-20T11:06:42.289Z"
      },
      {
        "duration": -532,
        "start_time": "2021-07-20T11:06:42.291Z"
      },
      {
        "duration": -532,
        "start_time": "2021-07-20T11:06:42.292Z"
      },
      {
        "duration": -532,
        "start_time": "2021-07-20T11:06:42.294Z"
      },
      {
        "duration": -532,
        "start_time": "2021-07-20T11:06:42.295Z"
      },
      {
        "duration": -533,
        "start_time": "2021-07-20T11:06:42.298Z"
      },
      {
        "duration": -540,
        "start_time": "2021-07-20T11:06:42.306Z"
      },
      {
        "duration": -540,
        "start_time": "2021-07-20T11:06:42.308Z"
      },
      {
        "duration": -540,
        "start_time": "2021-07-20T11:06:42.309Z"
      },
      {
        "duration": -540,
        "start_time": "2021-07-20T11:06:42.311Z"
      },
      {
        "duration": -540,
        "start_time": "2021-07-20T11:06:42.312Z"
      },
      {
        "duration": -541,
        "start_time": "2021-07-20T11:06:42.314Z"
      },
      {
        "duration": 9,
        "start_time": "2021-07-20T11:07:54.858Z"
      },
      {
        "duration": 1295,
        "start_time": "2021-07-20T11:07:54.870Z"
      },
      {
        "duration": 47,
        "start_time": "2021-07-20T11:07:56.169Z"
      },
      {
        "duration": 45,
        "start_time": "2021-07-20T11:07:56.219Z"
      },
      {
        "duration": 15,
        "start_time": "2021-07-20T11:07:56.266Z"
      },
      {
        "duration": 43,
        "start_time": "2021-07-20T11:07:56.284Z"
      },
      {
        "duration": 44,
        "start_time": "2021-07-20T11:07:56.329Z"
      },
      {
        "duration": 13,
        "start_time": "2021-07-20T11:07:56.376Z"
      },
      {
        "duration": 34,
        "start_time": "2021-07-20T11:07:56.393Z"
      },
      {
        "duration": 38,
        "start_time": "2021-07-20T11:07:56.430Z"
      },
      {
        "duration": 6,
        "start_time": "2021-07-20T11:07:56.470Z"
      },
      {
        "duration": 7,
        "start_time": "2021-07-20T11:07:56.478Z"
      },
      {
        "duration": 20,
        "start_time": "2021-07-20T11:07:56.487Z"
      },
      {
        "duration": 19,
        "start_time": "2021-07-20T11:07:56.509Z"
      },
      {
        "duration": 38,
        "start_time": "2021-07-20T11:07:56.530Z"
      },
      {
        "duration": 7,
        "start_time": "2021-07-20T11:07:56.570Z"
      },
      {
        "duration": 11,
        "start_time": "2021-07-20T11:07:56.580Z"
      },
      {
        "duration": 29,
        "start_time": "2021-07-20T11:07:56.594Z"
      },
      {
        "duration": 327,
        "start_time": "2021-07-20T11:07:56.625Z"
      },
      {
        "duration": 350,
        "start_time": "2021-07-20T11:07:56.954Z"
      },
      {
        "duration": 652,
        "start_time": "2021-07-20T11:07:57.307Z"
      },
      {
        "duration": 4,
        "start_time": "2021-07-20T11:07:57.961Z"
      },
      {
        "duration": 397,
        "start_time": "2021-07-20T11:07:57.967Z"
      },
      {
        "duration": 46,
        "start_time": "2021-07-20T11:07:58.366Z"
      },
      {
        "duration": 1891,
        "start_time": "2021-07-20T11:07:58.414Z"
      },
      {
        "duration": 60,
        "start_time": "2021-07-20T11:08:00.307Z"
      },
      {
        "duration": 8,
        "start_time": "2021-07-20T11:08:00.375Z"
      },
      {
        "duration": 11,
        "start_time": "2021-07-20T11:08:00.386Z"
      },
      {
        "duration": 2289,
        "start_time": "2021-07-20T11:08:00.400Z"
      },
      {
        "duration": 2343,
        "start_time": "2021-07-20T11:08:02.692Z"
      },
      {
        "duration": 413,
        "start_time": "2021-07-20T11:08:05.037Z"
      },
      {
        "duration": 2216,
        "start_time": "2021-07-20T11:08:05.452Z"
      },
      {
        "duration": 322,
        "start_time": "2021-07-20T11:08:07.670Z"
      },
      {
        "duration": 65,
        "start_time": "2021-07-20T11:08:07.994Z"
      },
      {
        "duration": 11,
        "start_time": "2021-07-20T11:08:08.061Z"
      },
      {
        "duration": 391,
        "start_time": "2021-07-20T11:08:08.075Z"
      },
      {
        "duration": 387,
        "start_time": "2021-07-20T11:08:08.469Z"
      },
      {
        "duration": 8,
        "start_time": "2021-07-20T11:08:08.860Z"
      },
      {
        "duration": 514,
        "start_time": "2021-07-20T11:08:08.870Z"
      },
      {
        "duration": 3,
        "start_time": "2021-07-20T11:08:09.386Z"
      },
      {
        "duration": 835,
        "start_time": "2021-07-20T11:08:09.391Z"
      },
      {
        "duration": 914,
        "start_time": "2021-07-20T11:08:10.229Z"
      },
      {
        "duration": 741,
        "start_time": "2021-07-20T11:08:11.145Z"
      },
      {
        "duration": 17,
        "start_time": "2021-07-20T11:08:11.888Z"
      },
      {
        "duration": 27,
        "start_time": "2021-07-20T11:08:11.907Z"
      },
      {
        "duration": 36,
        "start_time": "2021-07-20T11:08:11.937Z"
      },
      {
        "duration": 20,
        "start_time": "2021-07-20T11:08:11.976Z"
      },
      {
        "duration": 18,
        "start_time": "2021-07-20T11:08:11.999Z"
      },
      {
        "duration": 7,
        "start_time": "2021-07-20T11:11:58.788Z"
      },
      {
        "duration": 134,
        "start_time": "2021-07-20T11:12:03.236Z"
      },
      {
        "duration": 8,
        "start_time": "2021-07-20T11:15:35.198Z"
      },
      {
        "duration": 8,
        "start_time": "2021-07-20T11:15:49.121Z"
      },
      {
        "duration": 1267,
        "start_time": "2021-07-20T11:15:49.132Z"
      },
      {
        "duration": 46,
        "start_time": "2021-07-20T11:15:50.401Z"
      },
      {
        "duration": 37,
        "start_time": "2021-07-20T11:15:50.449Z"
      },
      {
        "duration": 22,
        "start_time": "2021-07-20T11:15:50.488Z"
      },
      {
        "duration": 65,
        "start_time": "2021-07-20T11:15:50.512Z"
      },
      {
        "duration": 20,
        "start_time": "2021-07-20T11:15:50.580Z"
      },
      {
        "duration": 7,
        "start_time": "2021-07-20T11:15:50.605Z"
      },
      {
        "duration": 57,
        "start_time": "2021-07-20T11:15:50.615Z"
      },
      {
        "duration": 32,
        "start_time": "2021-07-20T11:15:50.675Z"
      },
      {
        "duration": 7,
        "start_time": "2021-07-20T11:15:50.710Z"
      },
      {
        "duration": 38,
        "start_time": "2021-07-20T11:15:50.719Z"
      },
      {
        "duration": 16,
        "start_time": "2021-07-20T11:15:50.760Z"
      },
      {
        "duration": 18,
        "start_time": "2021-07-20T11:15:50.779Z"
      },
      {
        "duration": 16,
        "start_time": "2021-07-20T11:15:50.800Z"
      },
      {
        "duration": 40,
        "start_time": "2021-07-20T11:15:50.819Z"
      },
      {
        "duration": 14,
        "start_time": "2021-07-20T11:15:50.862Z"
      },
      {
        "duration": 31,
        "start_time": "2021-07-20T11:15:50.879Z"
      },
      {
        "duration": 326,
        "start_time": "2021-07-20T11:15:50.913Z"
      },
      {
        "duration": 308,
        "start_time": "2021-07-20T11:15:51.242Z"
      },
      {
        "duration": 460,
        "start_time": "2021-07-20T11:15:51.552Z"
      },
      {
        "duration": 5,
        "start_time": "2021-07-20T11:15:52.015Z"
      },
      {
        "duration": 413,
        "start_time": "2021-07-20T11:15:52.027Z"
      },
      {
        "duration": 51,
        "start_time": "2021-07-20T11:15:52.444Z"
      },
      {
        "duration": 1834,
        "start_time": "2021-07-20T11:15:52.497Z"
      },
      {
        "duration": 47,
        "start_time": "2021-07-20T11:15:54.334Z"
      },
      {
        "duration": 7,
        "start_time": "2021-07-20T11:15:54.384Z"
      },
      {
        "duration": 13,
        "start_time": "2021-07-20T11:15:54.393Z"
      },
      {
        "duration": 2226,
        "start_time": "2021-07-20T11:15:54.409Z"
      },
      {
        "duration": 2302,
        "start_time": "2021-07-20T11:15:56.638Z"
      },
      {
        "duration": 489,
        "start_time": "2021-07-20T11:15:58.943Z"
      },
      {
        "duration": 2474,
        "start_time": "2021-07-20T11:15:59.434Z"
      },
      {
        "duration": 351,
        "start_time": "2021-07-20T11:16:01.910Z"
      },
      {
        "duration": 53,
        "start_time": "2021-07-20T11:16:02.264Z"
      },
      {
        "duration": 12,
        "start_time": "2021-07-20T11:16:02.319Z"
      },
      {
        "duration": 433,
        "start_time": "2021-07-20T11:16:02.332Z"
      },
      {
        "duration": 391,
        "start_time": "2021-07-20T11:16:02.768Z"
      },
      {
        "duration": 7,
        "start_time": "2021-07-20T11:16:03.161Z"
      },
      {
        "duration": 544,
        "start_time": "2021-07-20T11:16:03.170Z"
      },
      {
        "duration": 3,
        "start_time": "2021-07-20T11:16:03.716Z"
      },
      {
        "duration": 888,
        "start_time": "2021-07-20T11:16:03.721Z"
      },
      {
        "duration": 919,
        "start_time": "2021-07-20T11:16:04.611Z"
      },
      {
        "duration": 676,
        "start_time": "2021-07-20T11:16:05.532Z"
      },
      {
        "duration": 16,
        "start_time": "2021-07-20T11:16:06.211Z"
      },
      {
        "duration": 35,
        "start_time": "2021-07-20T11:16:06.229Z"
      },
      {
        "duration": 6,
        "start_time": "2021-07-20T11:16:06.267Z"
      },
      {
        "duration": 14,
        "start_time": "2021-07-20T11:16:06.276Z"
      },
      {
        "duration": 15,
        "start_time": "2021-07-20T11:16:06.293Z"
      },
      {
        "duration": 387,
        "start_time": "2021-07-20T11:17:29.392Z"
      },
      {
        "duration": 2270,
        "start_time": "2021-07-20T11:17:32.267Z"
      },
      {
        "duration": 401,
        "start_time": "2021-07-20T11:17:42.398Z"
      },
      {
        "duration": 107,
        "start_time": "2021-07-20T11:17:53.119Z"
      },
      {
        "duration": 2321,
        "start_time": "2021-07-20T11:17:56.340Z"
      },
      {
        "duration": 3,
        "start_time": "2021-07-20T11:20:11.476Z"
      },
      {
        "duration": 762,
        "start_time": "2021-07-20T11:20:14.110Z"
      },
      {
        "duration": 4,
        "start_time": "2021-07-20T11:20:15.719Z"
      },
      {
        "duration": 771,
        "start_time": "2021-07-20T11:20:16.824Z"
      },
      {
        "duration": 479,
        "start_time": "2021-07-20T11:20:39.021Z"
      },
      {
        "duration": 887,
        "start_time": "2021-07-20T11:20:43.256Z"
      },
      {
        "duration": 8,
        "start_time": "2021-07-20T11:21:02.204Z"
      },
      {
        "duration": 1298,
        "start_time": "2021-07-20T11:21:02.215Z"
      },
      {
        "duration": 48,
        "start_time": "2021-07-20T11:21:03.517Z"
      },
      {
        "duration": 38,
        "start_time": "2021-07-20T11:21:03.568Z"
      },
      {
        "duration": 18,
        "start_time": "2021-07-20T11:21:03.608Z"
      },
      {
        "duration": 72,
        "start_time": "2021-07-20T11:21:03.628Z"
      },
      {
        "duration": 20,
        "start_time": "2021-07-20T11:21:03.703Z"
      },
      {
        "duration": 31,
        "start_time": "2021-07-20T11:21:03.725Z"
      },
      {
        "duration": 33,
        "start_time": "2021-07-20T11:21:03.761Z"
      },
      {
        "duration": 30,
        "start_time": "2021-07-20T11:21:03.797Z"
      },
      {
        "duration": 5,
        "start_time": "2021-07-20T11:21:03.829Z"
      },
      {
        "duration": 3,
        "start_time": "2021-07-20T11:21:03.857Z"
      },
      {
        "duration": 19,
        "start_time": "2021-07-20T11:21:03.863Z"
      },
      {
        "duration": 19,
        "start_time": "2021-07-20T11:21:03.885Z"
      },
      {
        "duration": 14,
        "start_time": "2021-07-20T11:21:03.906Z"
      },
      {
        "duration": 8,
        "start_time": "2021-07-20T11:21:03.955Z"
      },
      {
        "duration": 9,
        "start_time": "2021-07-20T11:21:03.965Z"
      },
      {
        "duration": 32,
        "start_time": "2021-07-20T11:21:03.976Z"
      },
      {
        "duration": 333,
        "start_time": "2021-07-20T11:21:04.011Z"
      },
      {
        "duration": 303,
        "start_time": "2021-07-20T11:21:04.347Z"
      },
      {
        "duration": 455,
        "start_time": "2021-07-20T11:21:04.656Z"
      },
      {
        "duration": 4,
        "start_time": "2021-07-20T11:21:05.114Z"
      },
      {
        "duration": 422,
        "start_time": "2021-07-20T11:21:05.120Z"
      },
      {
        "duration": 48,
        "start_time": "2021-07-20T11:21:05.544Z"
      },
      {
        "duration": 10,
        "start_time": "2021-07-20T11:21:18.688Z"
      },
      {
        "duration": 7,
        "start_time": "2021-07-20T11:21:18.700Z"
      },
      {
        "duration": 69,
        "start_time": "2021-07-20T11:21:18.709Z"
      },
      {
        "duration": 40,
        "start_time": "2021-07-20T11:21:18.780Z"
      },
      {
        "duration": 38,
        "start_time": "2021-07-20T11:21:18.823Z"
      },
      {
        "duration": 40,
        "start_time": "2021-07-20T11:21:18.864Z"
      },
      {
        "duration": 19,
        "start_time": "2021-07-20T11:21:18.907Z"
      },
      {
        "duration": 4,
        "start_time": "2021-07-20T11:21:18.955Z"
      },
      {
        "duration": 34,
        "start_time": "2021-07-20T11:21:18.962Z"
      },
      {
        "duration": 32,
        "start_time": "2021-07-20T11:21:18.999Z"
      },
      {
        "duration": 24,
        "start_time": "2021-07-20T11:21:19.033Z"
      },
      {
        "duration": 9,
        "start_time": "2021-07-20T11:21:19.060Z"
      },
      {
        "duration": 17,
        "start_time": "2021-07-20T11:21:19.072Z"
      },
      {
        "duration": 17,
        "start_time": "2021-07-20T11:21:19.091Z"
      },
      {
        "duration": 23,
        "start_time": "2021-07-20T11:21:19.110Z"
      },
      {
        "duration": 27,
        "start_time": "2021-07-20T11:21:19.136Z"
      },
      {
        "duration": 18,
        "start_time": "2021-07-20T11:21:19.165Z"
      },
      {
        "duration": 32,
        "start_time": "2021-07-20T11:21:19.185Z"
      },
      {
        "duration": 306,
        "start_time": "2021-07-20T11:21:19.219Z"
      },
      {
        "duration": 289,
        "start_time": "2021-07-20T11:21:19.528Z"
      },
      {
        "duration": 440,
        "start_time": "2021-07-20T11:21:19.819Z"
      },
      {
        "duration": 5,
        "start_time": "2021-07-20T11:21:20.261Z"
      },
      {
        "duration": 472,
        "start_time": "2021-07-20T11:21:20.268Z"
      },
      {
        "duration": 51,
        "start_time": "2021-07-20T11:21:20.742Z"
      },
      {
        "duration": 1812,
        "start_time": "2021-07-20T11:21:20.795Z"
      },
      {
        "duration": 54,
        "start_time": "2021-07-20T11:21:22.609Z"
      },
      {
        "duration": 6,
        "start_time": "2021-07-20T11:21:22.665Z"
      },
      {
        "duration": 5,
        "start_time": "2021-07-20T11:21:22.674Z"
      },
      {
        "duration": 2205,
        "start_time": "2021-07-20T11:21:22.682Z"
      },
      {
        "duration": 2255,
        "start_time": "2021-07-20T11:21:24.890Z"
      },
      {
        "duration": 123,
        "start_time": "2021-07-20T11:21:27.149Z"
      },
      {
        "duration": 2188,
        "start_time": "2021-07-20T11:21:27.275Z"
      },
      {
        "duration": 333,
        "start_time": "2021-07-20T11:21:29.471Z"
      },
      {
        "duration": 65,
        "start_time": "2021-07-20T11:21:29.807Z"
      },
      {
        "duration": 11,
        "start_time": "2021-07-20T11:21:29.875Z"
      },
      {
        "duration": 411,
        "start_time": "2021-07-20T11:21:29.889Z"
      },
      {
        "duration": 432,
        "start_time": "2021-07-20T11:21:30.302Z"
      },
      {
        "duration": 7,
        "start_time": "2021-07-20T11:21:30.736Z"
      },
      {
        "duration": 516,
        "start_time": "2021-07-20T11:21:30.756Z"
      },
      {
        "duration": 4,
        "start_time": "2021-07-20T11:21:31.274Z"
      },
      {
        "duration": 779,
        "start_time": "2021-07-20T11:21:31.280Z"
      },
      {
        "duration": 880,
        "start_time": "2021-07-20T11:21:32.061Z"
      },
      {
        "duration": 722,
        "start_time": "2021-07-20T11:21:32.943Z"
      },
      {
        "duration": 16,
        "start_time": "2021-07-20T11:21:33.668Z"
      },
      {
        "duration": 25,
        "start_time": "2021-07-20T11:21:33.687Z"
      },
      {
        "duration": 24,
        "start_time": "2021-07-20T11:21:33.714Z"
      },
      {
        "duration": 22,
        "start_time": "2021-07-20T11:21:33.741Z"
      },
      {
        "duration": 11,
        "start_time": "2021-07-20T11:21:33.766Z"
      },
      {
        "duration": 9,
        "start_time": "2021-07-20T11:50:01.289Z"
      },
      {
        "duration": 1364,
        "start_time": "2021-07-20T11:50:01.300Z"
      },
      {
        "duration": 47,
        "start_time": "2021-07-20T11:50:02.667Z"
      },
      {
        "duration": 40,
        "start_time": "2021-07-20T11:50:02.718Z"
      },
      {
        "duration": 14,
        "start_time": "2021-07-20T11:50:02.760Z"
      },
      {
        "duration": 58,
        "start_time": "2021-07-20T11:50:02.776Z"
      },
      {
        "duration": 28,
        "start_time": "2021-07-20T11:50:02.837Z"
      },
      {
        "duration": 12,
        "start_time": "2021-07-20T11:50:02.869Z"
      },
      {
        "duration": 42,
        "start_time": "2021-07-20T11:50:02.884Z"
      },
      {
        "duration": 39,
        "start_time": "2021-07-20T11:50:02.928Z"
      },
      {
        "duration": 5,
        "start_time": "2021-07-20T11:50:02.970Z"
      },
      {
        "duration": 30,
        "start_time": "2021-07-20T11:50:02.977Z"
      },
      {
        "duration": 17,
        "start_time": "2021-07-20T11:50:03.010Z"
      },
      {
        "duration": 27,
        "start_time": "2021-07-20T11:50:03.029Z"
      },
      {
        "duration": 28,
        "start_time": "2021-07-20T11:50:03.058Z"
      },
      {
        "duration": 7,
        "start_time": "2021-07-20T11:50:03.089Z"
      },
      {
        "duration": 11,
        "start_time": "2021-07-20T11:50:03.098Z"
      },
      {
        "duration": 30,
        "start_time": "2021-07-20T11:50:03.111Z"
      },
      {
        "duration": 317,
        "start_time": "2021-07-20T11:50:03.155Z"
      },
      {
        "duration": 317,
        "start_time": "2021-07-20T11:50:03.475Z"
      },
      {
        "duration": 476,
        "start_time": "2021-07-20T11:50:03.795Z"
      },
      {
        "duration": 5,
        "start_time": "2021-07-20T11:50:04.274Z"
      },
      {
        "duration": 422,
        "start_time": "2021-07-20T11:50:04.287Z"
      },
      {
        "duration": 62,
        "start_time": "2021-07-20T11:50:04.713Z"
      },
      {
        "duration": 2073,
        "start_time": "2021-07-20T11:50:04.778Z"
      },
      {
        "duration": 41,
        "start_time": "2021-07-20T11:50:06.856Z"
      },
      {
        "duration": 8,
        "start_time": "2021-07-20T11:50:06.900Z"
      },
      {
        "duration": 12,
        "start_time": "2021-07-20T11:50:06.910Z"
      },
      {
        "duration": 2301,
        "start_time": "2021-07-20T11:50:06.924Z"
      },
      {
        "duration": 2552,
        "start_time": "2021-07-20T11:50:09.227Z"
      },
      {
        "duration": 123,
        "start_time": "2021-07-20T11:50:11.782Z"
      },
      {
        "duration": 2248,
        "start_time": "2021-07-20T11:50:11.907Z"
      },
      {
        "duration": 334,
        "start_time": "2021-07-20T11:50:14.158Z"
      },
      {
        "duration": 62,
        "start_time": "2021-07-20T11:50:14.495Z"
      },
      {
        "duration": 12,
        "start_time": "2021-07-20T11:50:14.560Z"
      },
      {
        "duration": 382,
        "start_time": "2021-07-20T11:50:14.575Z"
      },
      {
        "duration": 391,
        "start_time": "2021-07-20T11:50:14.960Z"
      },
      {
        "duration": 7,
        "start_time": "2021-07-20T11:50:15.355Z"
      },
      {
        "duration": 523,
        "start_time": "2021-07-20T11:50:15.365Z"
      },
      {
        "duration": 3,
        "start_time": "2021-07-20T11:50:15.890Z"
      },
      {
        "duration": 862,
        "start_time": "2021-07-20T11:50:15.896Z"
      },
      {
        "duration": 914,
        "start_time": "2021-07-20T11:50:16.760Z"
      },
      {
        "duration": 640,
        "start_time": "2021-07-20T11:50:17.676Z"
      },
      {
        "duration": 16,
        "start_time": "2021-07-20T11:50:18.319Z"
      },
      {
        "duration": 29,
        "start_time": "2021-07-20T11:50:18.338Z"
      },
      {
        "duration": 23,
        "start_time": "2021-07-20T11:50:18.369Z"
      },
      {
        "duration": 15,
        "start_time": "2021-07-20T11:50:18.395Z"
      },
      {
        "duration": 11,
        "start_time": "2021-07-20T11:50:18.412Z"
      },
      {
        "duration": 5,
        "start_time": "2021-07-20T11:54:55.646Z"
      },
      {
        "duration": 16,
        "start_time": "2021-07-20T11:54:55.653Z"
      },
      {
        "duration": 83,
        "start_time": "2021-07-20T11:54:55.673Z"
      },
      {
        "duration": 66,
        "start_time": "2021-07-20T11:54:55.759Z"
      },
      {
        "duration": 41,
        "start_time": "2021-07-20T11:54:55.828Z"
      },
      {
        "duration": 60,
        "start_time": "2021-07-20T11:54:55.872Z"
      },
      {
        "duration": 41,
        "start_time": "2021-07-20T11:54:55.934Z"
      },
      {
        "duration": 6,
        "start_time": "2021-07-20T11:54:55.977Z"
      },
      {
        "duration": 26,
        "start_time": "2021-07-20T11:54:55.987Z"
      },
      {
        "duration": 59,
        "start_time": "2021-07-20T11:54:56.016Z"
      },
      {
        "duration": 6,
        "start_time": "2021-07-20T11:54:56.078Z"
      },
      {
        "duration": 11,
        "start_time": "2021-07-20T11:54:56.086Z"
      },
      {
        "duration": 16,
        "start_time": "2021-07-20T11:54:56.099Z"
      },
      {
        "duration": 44,
        "start_time": "2021-07-20T11:54:56.117Z"
      },
      {
        "duration": 14,
        "start_time": "2021-07-20T11:54:56.163Z"
      },
      {
        "duration": 6,
        "start_time": "2021-07-20T11:54:56.179Z"
      },
      {
        "duration": 9,
        "start_time": "2021-07-20T11:54:56.187Z"
      },
      {
        "duration": 59,
        "start_time": "2021-07-20T11:54:56.198Z"
      },
      {
        "duration": 304,
        "start_time": "2021-07-20T11:54:56.259Z"
      },
      {
        "duration": 303,
        "start_time": "2021-07-20T11:54:56.565Z"
      },
      {
        "duration": 465,
        "start_time": "2021-07-20T11:54:56.871Z"
      },
      {
        "duration": 4,
        "start_time": "2021-07-20T11:54:57.339Z"
      },
      {
        "duration": 470,
        "start_time": "2021-07-20T11:54:57.356Z"
      },
      {
        "duration": 66,
        "start_time": "2021-07-20T11:54:57.828Z"
      },
      {
        "duration": 1823,
        "start_time": "2021-07-20T11:54:57.896Z"
      },
      {
        "duration": 48,
        "start_time": "2021-07-20T11:54:59.722Z"
      },
      {
        "duration": 7,
        "start_time": "2021-07-20T11:54:59.775Z"
      },
      {
        "duration": 4,
        "start_time": "2021-07-20T11:54:59.785Z"
      },
      {
        "duration": 2367,
        "start_time": "2021-07-20T11:54:59.792Z"
      },
      {
        "duration": 2284,
        "start_time": "2021-07-20T11:55:02.163Z"
      },
      {
        "duration": 125,
        "start_time": "2021-07-20T11:55:04.450Z"
      },
      {
        "duration": 2350,
        "start_time": "2021-07-20T11:55:04.577Z"
      },
      {
        "duration": 341,
        "start_time": "2021-07-20T11:55:06.930Z"
      },
      {
        "duration": 51,
        "start_time": "2021-07-20T11:55:07.274Z"
      },
      {
        "duration": 32,
        "start_time": "2021-07-20T11:55:07.328Z"
      },
      {
        "duration": 397,
        "start_time": "2021-07-20T11:55:07.362Z"
      },
      {
        "duration": 415,
        "start_time": "2021-07-20T11:55:07.761Z"
      },
      {
        "duration": 7,
        "start_time": "2021-07-20T11:55:08.178Z"
      },
      {
        "duration": 541,
        "start_time": "2021-07-20T11:55:08.187Z"
      },
      {
        "duration": 3,
        "start_time": "2021-07-20T11:55:08.731Z"
      },
      {
        "duration": 794,
        "start_time": "2021-07-20T11:55:08.737Z"
      },
      {
        "duration": 897,
        "start_time": "2021-07-20T11:55:09.535Z"
      },
      {
        "duration": 774,
        "start_time": "2021-07-20T11:55:10.434Z"
      },
      {
        "duration": 18,
        "start_time": "2021-07-20T11:55:11.210Z"
      },
      {
        "duration": 36,
        "start_time": "2021-07-20T11:55:11.231Z"
      },
      {
        "duration": 8,
        "start_time": "2021-07-20T11:55:11.269Z"
      },
      {
        "duration": 13,
        "start_time": "2021-07-20T11:55:11.279Z"
      },
      {
        "duration": 8,
        "start_time": "2021-07-20T11:55:11.295Z"
      },
      {
        "duration": 107,
        "start_time": "2021-07-20T11:57:52.565Z"
      },
      {
        "duration": 92,
        "start_time": "2021-07-20T11:58:36.226Z"
      },
      {
        "duration": 110,
        "start_time": "2021-07-20T11:58:50.416Z"
      },
      {
        "duration": 83,
        "start_time": "2021-07-20T11:59:14.889Z"
      },
      {
        "duration": 9,
        "start_time": "2021-07-20T12:02:32.625Z"
      },
      {
        "duration": 1263,
        "start_time": "2021-07-20T12:02:32.637Z"
      },
      {
        "duration": 47,
        "start_time": "2021-07-20T12:02:33.903Z"
      },
      {
        "duration": 38,
        "start_time": "2021-07-20T12:02:33.953Z"
      },
      {
        "duration": 22,
        "start_time": "2021-07-20T12:02:33.993Z"
      },
      {
        "duration": 67,
        "start_time": "2021-07-20T12:02:34.018Z"
      },
      {
        "duration": 19,
        "start_time": "2021-07-20T12:02:34.087Z"
      },
      {
        "duration": 4,
        "start_time": "2021-07-20T12:02:34.110Z"
      },
      {
        "duration": 59,
        "start_time": "2021-07-20T12:02:34.117Z"
      },
      {
        "duration": 30,
        "start_time": "2021-07-20T12:02:34.178Z"
      },
      {
        "duration": 6,
        "start_time": "2021-07-20T12:02:34.210Z"
      },
      {
        "duration": 9,
        "start_time": "2021-07-20T12:02:34.218Z"
      },
      {
        "duration": 35,
        "start_time": "2021-07-20T12:02:34.229Z"
      },
      {
        "duration": 17,
        "start_time": "2021-07-20T12:02:34.267Z"
      },
      {
        "duration": 14,
        "start_time": "2021-07-20T12:02:34.287Z"
      },
      {
        "duration": 7,
        "start_time": "2021-07-20T12:02:34.304Z"
      },
      {
        "duration": 43,
        "start_time": "2021-07-20T12:02:34.313Z"
      },
      {
        "duration": 32,
        "start_time": "2021-07-20T12:02:34.358Z"
      },
      {
        "duration": 307,
        "start_time": "2021-07-20T12:02:34.392Z"
      },
      {
        "duration": 290,
        "start_time": "2021-07-20T12:02:34.702Z"
      },
      {
        "duration": 450,
        "start_time": "2021-07-20T12:02:34.994Z"
      },
      {
        "duration": 13,
        "start_time": "2021-07-20T12:02:35.446Z"
      },
      {
        "duration": 384,
        "start_time": "2021-07-20T12:02:35.464Z"
      },
      {
        "duration": 46,
        "start_time": "2021-07-20T12:02:35.855Z"
      },
      {
        "duration": 1932,
        "start_time": "2021-07-20T12:02:35.903Z"
      },
      {
        "duration": 52,
        "start_time": "2021-07-20T12:02:37.838Z"
      },
      {
        "duration": 7,
        "start_time": "2021-07-20T12:02:37.892Z"
      },
      {
        "duration": 20,
        "start_time": "2021-07-20T12:02:37.901Z"
      },
      {
        "duration": 2188,
        "start_time": "2021-07-20T12:02:37.923Z"
      },
      {
        "duration": 2196,
        "start_time": "2021-07-20T12:02:40.113Z"
      },
      {
        "duration": 117,
        "start_time": "2021-07-20T12:02:42.311Z"
      },
      {
        "duration": 2351,
        "start_time": "2021-07-20T12:02:42.431Z"
      },
      {
        "duration": 341,
        "start_time": "2021-07-20T12:02:44.784Z"
      },
      {
        "duration": 63,
        "start_time": "2021-07-20T12:02:45.128Z"
      },
      {
        "duration": 11,
        "start_time": "2021-07-20T12:02:45.193Z"
      },
      {
        "duration": 429,
        "start_time": "2021-07-20T12:02:45.207Z"
      },
      {
        "duration": 393,
        "start_time": "2021-07-20T12:02:45.639Z"
      },
      {
        "duration": 7,
        "start_time": "2021-07-20T12:02:46.035Z"
      },
      {
        "duration": 524,
        "start_time": "2021-07-20T12:02:46.057Z"
      },
      {
        "duration": 3,
        "start_time": "2021-07-20T12:02:46.584Z"
      },
      {
        "duration": 858,
        "start_time": "2021-07-20T12:02:46.589Z"
      },
      {
        "duration": 871,
        "start_time": "2021-07-20T12:02:47.455Z"
      },
      {
        "duration": 640,
        "start_time": "2021-07-20T12:02:48.328Z"
      },
      {
        "duration": 24,
        "start_time": "2021-07-20T12:02:48.971Z"
      },
      {
        "duration": 26,
        "start_time": "2021-07-20T12:02:48.998Z"
      },
      {
        "duration": 21,
        "start_time": "2021-07-20T12:02:49.027Z"
      },
      {
        "duration": 20,
        "start_time": "2021-07-20T12:02:49.050Z"
      },
      {
        "duration": 21,
        "start_time": "2021-07-20T12:02:49.072Z"
      },
      {
        "duration": 6,
        "start_time": "2021-07-20T14:05:14.471Z"
      },
      {
        "duration": 2408,
        "start_time": "2021-07-20T14:05:14.479Z"
      },
      {
        "duration": 98,
        "start_time": "2021-07-20T14:05:16.890Z"
      },
      {
        "duration": 88,
        "start_time": "2021-07-20T14:05:16.991Z"
      },
      {
        "duration": 84,
        "start_time": "2021-07-20T14:05:17.083Z"
      },
      {
        "duration": 131,
        "start_time": "2021-07-20T14:05:17.171Z"
      },
      {
        "duration": 74,
        "start_time": "2021-07-20T14:05:17.304Z"
      },
      {
        "duration": 6,
        "start_time": "2021-07-20T14:05:17.381Z"
      },
      {
        "duration": 91,
        "start_time": "2021-07-20T14:05:17.391Z"
      },
      {
        "duration": 89,
        "start_time": "2021-07-20T14:05:17.485Z"
      },
      {
        "duration": 6,
        "start_time": "2021-07-20T14:05:17.576Z"
      },
      {
        "duration": 10,
        "start_time": "2021-07-20T14:05:17.585Z"
      },
      {
        "duration": 75,
        "start_time": "2021-07-20T14:05:17.597Z"
      },
      {
        "duration": 19,
        "start_time": "2021-07-20T14:05:17.675Z"
      },
      {
        "duration": 74,
        "start_time": "2021-07-20T14:05:17.697Z"
      },
      {
        "duration": 13,
        "start_time": "2021-07-20T14:05:17.773Z"
      },
      {
        "duration": 7,
        "start_time": "2021-07-20T14:05:17.788Z"
      },
      {
        "duration": 97,
        "start_time": "2021-07-20T14:05:17.797Z"
      },
      {
        "duration": 615,
        "start_time": "2021-07-20T14:05:17.896Z"
      },
      {
        "duration": 657,
        "start_time": "2021-07-20T14:05:18.513Z"
      },
      {
        "duration": 1139,
        "start_time": "2021-07-20T14:05:19.172Z"
      },
      {
        "duration": 5,
        "start_time": "2021-07-20T14:05:20.366Z"
      },
      {
        "duration": 838,
        "start_time": "2021-07-20T14:05:20.375Z"
      },
      {
        "duration": 161,
        "start_time": "2021-07-20T14:05:21.215Z"
      },
      {
        "duration": 4001,
        "start_time": "2021-07-20T14:05:21.379Z"
      },
      {
        "duration": 101,
        "start_time": "2021-07-20T14:05:25.382Z"
      },
      {
        "duration": 7,
        "start_time": "2021-07-20T14:05:25.488Z"
      },
      {
        "duration": 69,
        "start_time": "2021-07-20T14:05:25.499Z"
      },
      {
        "duration": 5518,
        "start_time": "2021-07-20T14:05:25.570Z"
      },
      {
        "duration": 6298,
        "start_time": "2021-07-20T14:05:31.091Z"
      },
      {
        "duration": 285,
        "start_time": "2021-07-20T14:05:37.393Z"
      },
      {
        "duration": 5092,
        "start_time": "2021-07-20T14:05:37.680Z"
      },
      {
        "duration": 695,
        "start_time": "2021-07-20T14:05:42.774Z"
      },
      {
        "duration": 114,
        "start_time": "2021-07-20T14:05:43.471Z"
      },
      {
        "duration": 14,
        "start_time": "2021-07-20T14:05:43.588Z"
      },
      {
        "duration": 765,
        "start_time": "2021-07-20T14:05:43.605Z"
      },
      {
        "duration": 700,
        "start_time": "2021-07-20T14:05:44.374Z"
      },
      {
        "duration": 8,
        "start_time": "2021-07-20T14:05:45.076Z"
      },
      {
        "duration": 1817,
        "start_time": "2021-07-20T14:05:45.087Z"
      },
      {
        "duration": 5,
        "start_time": "2021-07-20T14:05:46.907Z"
      },
      {
        "duration": 2125,
        "start_time": "2021-07-20T14:05:46.967Z"
      },
      {
        "duration": 2294,
        "start_time": "2021-07-20T14:05:49.095Z"
      },
      {
        "duration": 1579,
        "start_time": "2021-07-20T14:05:51.391Z"
      },
      {
        "duration": 16,
        "start_time": "2021-07-20T14:05:52.972Z"
      },
      {
        "duration": 85,
        "start_time": "2021-07-20T14:05:52.991Z"
      },
      {
        "duration": 7,
        "start_time": "2021-07-20T14:05:53.079Z"
      },
      {
        "duration": 19,
        "start_time": "2021-07-20T14:05:53.088Z"
      },
      {
        "duration": 7,
        "start_time": "2021-07-20T14:05:53.168Z"
      },
      {
        "duration": 3,
        "start_time": "2021-07-20T15:21:59.440Z"
      },
      {
        "duration": 10,
        "start_time": "2021-07-20T15:21:59.958Z"
      },
      {
        "duration": 16,
        "start_time": "2021-07-20T15:24:55.055Z"
      },
      {
        "duration": 16,
        "start_time": "2021-07-20T15:24:55.774Z"
      }
    ],
    "colab": {
      "name": "Data Integrated Project 1 - video games.ipynb",
      "provenance": [],
      "collapsed_sections": [],
      "include_colab_link": true
    },
    "kernelspec": {
      "display_name": "Python 3",
      "language": "python",
      "name": "python3"
    },
    "language_info": {
      "codemirror_mode": {
        "name": "ipython",
        "version": 3
      },
      "file_extension": ".py",
      "mimetype": "text/x-python",
      "name": "python",
      "nbconvert_exporter": "python",
      "pygments_lexer": "ipython3",
      "version": "3.7.8"
    },
    "toc": {
      "base_numbering": 1,
      "nav_menu": {},
      "number_sections": true,
      "sideBar": true,
      "skip_h1_title": true,
      "title_cell": "Table of Contents",
      "title_sidebar": "Contents",
      "toc_cell": false,
      "toc_position": {},
      "toc_section_display": true,
      "toc_window_display": false
    }
  },
  "cells": [
    {
      "cell_type": "markdown",
      "metadata": {
        "id": "view-in-github",
        "colab_type": "text"
      },
      "source": [
        "<a href=\"https://colab.research.google.com/github/karind7/Data_Integrated_Project_1-video_games/blob/main/Data_Integrated_Project_1_video_games.ipynb\" target=\"_parent\"><img src=\"https://colab.research.google.com/assets/colab-badge.svg\" alt=\"Open In Colab\"/></a>"
      ]
    },
    {
      "cell_type": "markdown",
      "metadata": {
        "id": "RdfuRf13xqqV"
      },
      "source": [
        "# **Project description**\n",
        "\n",
        "we work for the online store Ice, which sells video games all over the world. User and expert reviews, genres, platforms (e.g. Xbox or PlayStation), and historical data on game sales are available from open sources. we need to identify patterns that determine whether a game succeeds or not. This will allow us to spot potential big winners and plan advertising campaigns."
      ]
    },
    {
      "cell_type": "markdown",
      "metadata": {
        "id": "Hv2d9IAGtxL0"
      },
      "source": [
        "# **Step 1: studying the general information**\n"
      ]
    },
    {
      "cell_type": "markdown",
      "metadata": {
        "id": "sRGRdawcNVKz"
      },
      "source": [
        "**The Dataset**\n",
        "\n",
        "The data set we'll be using is a games sale set.\n",
        "The data is straightforward. Each row represents a game sales. Each column contains the games attributes such as Name,\tPlatform,\tYear of Release,\tGenre\tNA_sales,\tEU_sales,\tJP_sales,\tOther_sales,\tCritic Score,\tUser Score and \tRating\n",
        "\n",
        "in this project we will research what affects the sales of the games in general and in specific regions."
      ]
    },
    {
      "cell_type": "code",
      "metadata": {
        "id": "Wg0wbvGkDOSL"
      },
      "source": [
        "import csv\n",
        "import pandas as pd\n",
        "import matplotlib.pyplot as plt\n",
        "from scipy import stats as st\n",
        "import numpy as np\n",
        "import math"
      ],
      "execution_count": null,
      "outputs": []
    },
    {
      "cell_type": "code",
      "metadata": {
        "colab": {
          "base_uri": "https://localhost:8080/"
        },
        "id": "55K9wioMDEX-",
        "outputId": "81db8f4c-32e8-4b26-bd96-685d9aec72ed"
      },
      "source": [
        "try:\n",
        "  from google.colab import drive\n",
        "  drive.mount('/content/drive')\n",
        "except:\n",
        "  pass"
      ],
      "execution_count": null,
      "outputs": [
        {
          "output_type": "stream",
          "text": [
            "Drive already mounted at /content/drive; to attempt to forcibly remount, call drive.mount(\"/content/drive\", force_remount=True).\n"
          ],
          "name": "stdout"
        }
      ]
    },
    {
      "cell_type": "code",
      "metadata": {
        "colab": {
          "base_uri": "https://localhost:8080/"
        },
        "id": "lPB9M0jyDOoe",
        "outputId": "68423648-e36c-4271-e670-39bc5c43e676"
      },
      "source": [
        "try:\n",
        "  data = pd.read_csv(\"/content/drive/MyDrive/data science/games.csv\", error_bad_lines=False)\n",
        "except:\n",
        "  data = pd.read_csv(\"/datasets/games.csv\")"
      ],
      "execution_count": null,
      "outputs": [
        {
          "output_type": "stream",
          "text": [
            "b'Skipping line 950: expected 11 fields, saw 12\\nSkipping line 1091: expected 11 fields, saw 12\\nSkipping line 1633: expected 11 fields, saw 12\\nSkipping line 1839: expected 11 fields, saw 14\\nSkipping line 2888: expected 11 fields, saw 12\\nSkipping line 2945: expected 11 fields, saw 13\\nSkipping line 3026: expected 11 fields, saw 12\\nSkipping line 3105: expected 11 fields, saw 14\\nSkipping line 3218: expected 11 fields, saw 13\\nSkipping line 3355: expected 11 fields, saw 14\\nSkipping line 3447: expected 11 fields, saw 13\\nSkipping line 3512: expected 11 fields, saw 14\\nSkipping line 3567: expected 11 fields, saw 12\\nSkipping line 3568: expected 11 fields, saw 12\\nSkipping line 3745: expected 11 fields, saw 12\\nSkipping line 3905: expected 11 fields, saw 13\\nSkipping line 3976: expected 11 fields, saw 13\\nSkipping line 4059: expected 11 fields, saw 13\\nSkipping line 4108: expected 11 fields, saw 13\\nSkipping line 4181: expected 11 fields, saw 12\\nSkipping line 4377: expected 11 fields, saw 12\\nSkipping line 4386: expected 11 fields, saw 13\\nSkipping line 4424: expected 11 fields, saw 13\\nSkipping line 4485: expected 11 fields, saw 12\\nSkipping line 4565: expected 11 fields, saw 12\\nSkipping line 4741: expected 11 fields, saw 12\\nSkipping line 4808: expected 11 fields, saw 13\\nSkipping line 4846: expected 11 fields, saw 14\\nSkipping line 5089: expected 11 fields, saw 12\\nSkipping line 5174: expected 11 fields, saw 13\\nSkipping line 5595: expected 11 fields, saw 13\\nSkipping line 5597: expected 11 fields, saw 12\\nSkipping line 5633: expected 11 fields, saw 12\\nSkipping line 5643: expected 11 fields, saw 12\\nSkipping line 5681: expected 11 fields, saw 12\\nSkipping line 5835: expected 11 fields, saw 13\\nSkipping line 6043: expected 11 fields, saw 12\\nSkipping line 6044: expected 11 fields, saw 12\\nSkipping line 6182: expected 11 fields, saw 12\\nSkipping line 6545: expected 11 fields, saw 13\\nSkipping line 6714: expected 11 fields, saw 12\\nSkipping line 6726: expected 11 fields, saw 12\\nSkipping line 6747: expected 11 fields, saw 12\\nSkipping line 7530: expected 11 fields, saw 12\\nSkipping line 7588: expected 11 fields, saw 12\\nSkipping line 7601: expected 11 fields, saw 12\\nSkipping line 7830: expected 11 fields, saw 12\\nSkipping line 7918: expected 11 fields, saw 12\\nSkipping line 8089: expected 11 fields, saw 12\\nSkipping line 8645: expected 11 fields, saw 12\\nSkipping line 8711: expected 11 fields, saw 12\\nSkipping line 8739: expected 11 fields, saw 13\\nSkipping line 9002: expected 11 fields, saw 12\\nSkipping line 9102: expected 11 fields, saw 12\\nSkipping line 9156: expected 11 fields, saw 12\\nSkipping line 9500: expected 11 fields, saw 12\\nSkipping line 9680: expected 11 fields, saw 12\\nSkipping line 9693: expected 11 fields, saw 12\\nSkipping line 9881: expected 11 fields, saw 12\\nSkipping line 10376: expected 11 fields, saw 12\\nSkipping line 10415: expected 11 fields, saw 12\\nSkipping line 10497: expected 11 fields, saw 13\\nSkipping line 10686: expected 11 fields, saw 12\\nSkipping line 10687: expected 11 fields, saw 12\\nSkipping line 10712: expected 11 fields, saw 12\\nSkipping line 10815: expected 11 fields, saw 13\\nSkipping line 11086: expected 11 fields, saw 12\\nSkipping line 11440: expected 11 fields, saw 12\\nSkipping line 11518: expected 11 fields, saw 12\\nSkipping line 11696: expected 11 fields, saw 12\\nSkipping line 11850: expected 11 fields, saw 13\\nSkipping line 11861: expected 11 fields, saw 12\\nSkipping line 11964: expected 11 fields, saw 12\\nSkipping line 12131: expected 11 fields, saw 12\\nSkipping line 12254: expected 11 fields, saw 13\\nSkipping line 12399: expected 11 fields, saw 12\\nSkipping line 12781: expected 11 fields, saw 12\\nSkipping line 12809: expected 11 fields, saw 12\\nSkipping line 12897: expected 11 fields, saw 12\\nSkipping line 13227: expected 11 fields, saw 12\\nSkipping line 13288: expected 11 fields, saw 12\\nSkipping line 13530: expected 11 fields, saw 12\\nSkipping line 13653: expected 11 fields, saw 12\\nSkipping line 14053: expected 11 fields, saw 14\\nSkipping line 14120: expected 11 fields, saw 12\\nSkipping line 14202: expected 11 fields, saw 12\\nSkipping line 14611: expected 11 fields, saw 13\\nSkipping line 14807: expected 11 fields, saw 12\\nSkipping line 15056: expected 11 fields, saw 12\\nSkipping line 15065: expected 11 fields, saw 12\\nSkipping line 15266: expected 11 fields, saw 12\\nSkipping line 15363: expected 11 fields, saw 12\\nSkipping line 15570: expected 11 fields, saw 13\\nSkipping line 15663: expected 11 fields, saw 12\\nSkipping line 15680: expected 11 fields, saw 12\\nSkipping line 15714: expected 11 fields, saw 12\\nSkipping line 15820: expected 11 fields, saw 12\\nSkipping line 15997: expected 11 fields, saw 12\\nSkipping line 16056: expected 11 fields, saw 12\\nSkipping line 16155: expected 11 fields, saw 12\\nSkipping line 16192: expected 11 fields, saw 12\\nSkipping line 16369: expected 11 fields, saw 12\\nSkipping line 16469: expected 11 fields, saw 12\\nSkipping line 16500: expected 11 fields, saw 12\\nSkipping line 16515: expected 11 fields, saw 12\\nSkipping line 16544: expected 11 fields, saw 12\\nSkipping line 16556: expected 11 fields, saw 13\\nSkipping line 16580: expected 11 fields, saw 12\\nSkipping line 16604: expected 11 fields, saw 13\\n'\n"
          ],
          "name": "stderr"
        }
      ]
    },
    {
      "cell_type": "code",
      "metadata": {
        "colab": {
          "base_uri": "https://localhost:8080/"
        },
        "id": "M1iS-SQ5EK__",
        "outputId": "52d09537-7963-485d-ce66-ed76630a2b30"
      },
      "source": [
        "try:\n",
        "    initial_row_count = 0\n",
        "    with open('/content/drive/MyDrive/data science/games.csv', 'r') as file:\n",
        "        reader = csv.reader(file)\n",
        "        for row in reader:\n",
        "            initial_row_count += 1\n",
        "    initial_row_count\n",
        "    rows_lost = ((initial_row_count - data.shape[0])/ initial_row_count )\n",
        "    print(\"percentage of rows that dropped due to error is {:.2%}\". format(rows_lost))\n",
        "    \n",
        "except:\n",
        "    initial_row_count = 0\n",
        "    with open('/datasets/games.csv', 'r') as file:\n",
        "        reader = csv.reader(file)\n",
        "        for row in reader:\n",
        "            initial_row_count += 1\n",
        "    initial_row_count\n",
        "    rows_lost = ((initial_row_count - data.shape[0])/ initial_row_count )\n",
        "    print(\"percentage of rows that dropped due to error is {:.2%}\". format(rows_lost))"
      ],
      "execution_count": null,
      "outputs": [
        {
          "output_type": "stream",
          "text": [
            "percentage of rows that dropped due to error is 0.66%\n"
          ],
          "name": "stdout"
        }
      ]
    },
    {
      "cell_type": "markdown",
      "metadata": {
        "id": "a3r1zGMwg5GP"
      },
      "source": [
        "in the data provided there were some corporate rowse, the percentage of the corporate rowse was low (0.66%) so we can provide without warring that the data is scued"
      ]
    },
    {
      "cell_type": "code",
      "metadata": {
        "colab": {
          "base_uri": "https://localhost:8080/"
        },
        "id": "D7hdxaXILPvU",
        "outputId": "503c358f-2844-4056-d9cb-93f680c06eb6"
      },
      "source": [
        "data.info()"
      ],
      "execution_count": null,
      "outputs": [
        {
          "output_type": "stream",
          "text": [
            "<class 'pandas.core.frame.DataFrame'>\n",
            "RangeIndex: 16606 entries, 0 to 16605\n",
            "Data columns (total 11 columns):\n",
            " #   Column           Non-Null Count  Dtype  \n",
            "---  ------           --------------  -----  \n",
            " 0   Name             16604 non-null  object \n",
            " 1   Platform         16606 non-null  object \n",
            " 2   Year_of_Release  16339 non-null  float64\n",
            " 3   Genre            16604 non-null  object \n",
            " 4   NA_sales         16606 non-null  float64\n",
            " 5   EU_sales         16606 non-null  float64\n",
            " 6   JP_sales         16606 non-null  float64\n",
            " 7   Other_sales      16606 non-null  float64\n",
            " 8   Critic_Score     8110 non-null   float64\n",
            " 9   User_Score       9981 non-null   object \n",
            " 10  Rating;          16584 non-null  object \n",
            "dtypes: float64(6), object(5)\n",
            "memory usage: 1.4+ MB\n"
          ],
          "name": "stdout"
        }
      ]
    },
    {
      "cell_type": "markdown",
      "metadata": {
        "id": "2RuLL0M5hyn1"
      },
      "source": [
        "from this table we can see that user score is an object so we will need to cast it in float, in addition we have missing values in Critic Score and User Score"
      ]
    },
    {
      "cell_type": "code",
      "metadata": {
        "colab": {
          "base_uri": "https://localhost:8080/",
          "height": 297
        },
        "id": "IJ5-fbEKEK7Q",
        "outputId": "0df61d3c-e9db-4af5-8fe3-c4c14d350539"
      },
      "source": [
        "data.describe()"
      ],
      "execution_count": null,
      "outputs": [
        {
          "output_type": "execute_result",
          "data": {
            "text/html": [
              "<div>\n",
              "<style scoped>\n",
              "    .dataframe tbody tr th:only-of-type {\n",
              "        vertical-align: middle;\n",
              "    }\n",
              "\n",
              "    .dataframe tbody tr th {\n",
              "        vertical-align: top;\n",
              "    }\n",
              "\n",
              "    .dataframe thead th {\n",
              "        text-align: right;\n",
              "    }\n",
              "</style>\n",
              "<table border=\"1\" class=\"dataframe\">\n",
              "  <thead>\n",
              "    <tr style=\"text-align: right;\">\n",
              "      <th></th>\n",
              "      <th>Year_of_Release</th>\n",
              "      <th>NA_sales</th>\n",
              "      <th>EU_sales</th>\n",
              "      <th>JP_sales</th>\n",
              "      <th>Other_sales</th>\n",
              "      <th>Critic_Score</th>\n",
              "    </tr>\n",
              "  </thead>\n",
              "  <tbody>\n",
              "    <tr>\n",
              "      <th>count</th>\n",
              "      <td>16339.000000</td>\n",
              "      <td>16606.000000</td>\n",
              "      <td>16606.000000</td>\n",
              "      <td>16606.000000</td>\n",
              "      <td>16606.000000</td>\n",
              "      <td>8110.000000</td>\n",
              "    </tr>\n",
              "    <tr>\n",
              "      <th>mean</th>\n",
              "      <td>2006.480507</td>\n",
              "      <td>0.264251</td>\n",
              "      <td>0.145618</td>\n",
              "      <td>0.077838</td>\n",
              "      <td>0.047516</td>\n",
              "      <td>68.979531</td>\n",
              "    </tr>\n",
              "    <tr>\n",
              "      <th>std</th>\n",
              "      <td>5.887906</td>\n",
              "      <td>0.816090</td>\n",
              "      <td>0.504847</td>\n",
              "      <td>0.309668</td>\n",
              "      <td>0.187309</td>\n",
              "      <td>13.942895</td>\n",
              "    </tr>\n",
              "    <tr>\n",
              "      <th>min</th>\n",
              "      <td>1980.000000</td>\n",
              "      <td>0.000000</td>\n",
              "      <td>0.000000</td>\n",
              "      <td>0.000000</td>\n",
              "      <td>0.000000</td>\n",
              "      <td>13.000000</td>\n",
              "    </tr>\n",
              "    <tr>\n",
              "      <th>25%</th>\n",
              "      <td>2003.000000</td>\n",
              "      <td>0.000000</td>\n",
              "      <td>0.000000</td>\n",
              "      <td>0.000000</td>\n",
              "      <td>0.000000</td>\n",
              "      <td>60.000000</td>\n",
              "    </tr>\n",
              "    <tr>\n",
              "      <th>50%</th>\n",
              "      <td>2007.000000</td>\n",
              "      <td>0.080000</td>\n",
              "      <td>0.020000</td>\n",
              "      <td>0.000000</td>\n",
              "      <td>0.010000</td>\n",
              "      <td>71.000000</td>\n",
              "    </tr>\n",
              "    <tr>\n",
              "      <th>75%</th>\n",
              "      <td>2010.000000</td>\n",
              "      <td>0.240000</td>\n",
              "      <td>0.110000</td>\n",
              "      <td>0.040000</td>\n",
              "      <td>0.030000</td>\n",
              "      <td>79.000000</td>\n",
              "    </tr>\n",
              "    <tr>\n",
              "      <th>max</th>\n",
              "      <td>2016.000000</td>\n",
              "      <td>41.360000</td>\n",
              "      <td>28.960000</td>\n",
              "      <td>10.220000</td>\n",
              "      <td>10.570000</td>\n",
              "      <td>98.000000</td>\n",
              "    </tr>\n",
              "  </tbody>\n",
              "</table>\n",
              "</div>"
            ],
            "text/plain": [
              "       Year_of_Release      NA_sales  ...   Other_sales  Critic_Score\n",
              "count     16339.000000  16606.000000  ...  16606.000000   8110.000000\n",
              "mean       2006.480507      0.264251  ...      0.047516     68.979531\n",
              "std           5.887906      0.816090  ...      0.187309     13.942895\n",
              "min        1980.000000      0.000000  ...      0.000000     13.000000\n",
              "25%        2003.000000      0.000000  ...      0.000000     60.000000\n",
              "50%        2007.000000      0.080000  ...      0.010000     71.000000\n",
              "75%        2010.000000      0.240000  ...      0.030000     79.000000\n",
              "max        2016.000000     41.360000  ...     10.570000     98.000000\n",
              "\n",
              "[8 rows x 6 columns]"
            ]
          },
          "metadata": {
            "tags": []
          },
          "execution_count": 100
        }
      ]
    },
    {
      "cell_type": "markdown",
      "metadata": {
        "id": "_pND8r87iUju"
      },
      "source": [
        "in first glance the data description looks fine"
      ]
    },
    {
      "cell_type": "code",
      "metadata": {
        "colab": {
          "base_uri": "https://localhost:8080/",
          "height": 359
        },
        "id": "iTDMTsVztXBn",
        "outputId": "b98882c3-277c-4ebd-c401-feca64a65a71"
      },
      "source": [
        "data.head(10)"
      ],
      "execution_count": null,
      "outputs": [
        {
          "output_type": "execute_result",
          "data": {
            "text/html": [
              "<div>\n",
              "<style scoped>\n",
              "    .dataframe tbody tr th:only-of-type {\n",
              "        vertical-align: middle;\n",
              "    }\n",
              "\n",
              "    .dataframe tbody tr th {\n",
              "        vertical-align: top;\n",
              "    }\n",
              "\n",
              "    .dataframe thead th {\n",
              "        text-align: right;\n",
              "    }\n",
              "</style>\n",
              "<table border=\"1\" class=\"dataframe\">\n",
              "  <thead>\n",
              "    <tr style=\"text-align: right;\">\n",
              "      <th></th>\n",
              "      <th>Name</th>\n",
              "      <th>Platform</th>\n",
              "      <th>Year_of_Release</th>\n",
              "      <th>Genre</th>\n",
              "      <th>NA_sales</th>\n",
              "      <th>EU_sales</th>\n",
              "      <th>JP_sales</th>\n",
              "      <th>Other_sales</th>\n",
              "      <th>Critic_Score</th>\n",
              "      <th>User_Score</th>\n",
              "      <th>Rating;</th>\n",
              "    </tr>\n",
              "  </thead>\n",
              "  <tbody>\n",
              "    <tr>\n",
              "      <th>0</th>\n",
              "      <td>Wii Sports</td>\n",
              "      <td>Wii</td>\n",
              "      <td>2006.0</td>\n",
              "      <td>Sports</td>\n",
              "      <td>41.36</td>\n",
              "      <td>28.96</td>\n",
              "      <td>3.77</td>\n",
              "      <td>8.45</td>\n",
              "      <td>76.0</td>\n",
              "      <td>8</td>\n",
              "      <td>E;</td>\n",
              "    </tr>\n",
              "    <tr>\n",
              "      <th>1</th>\n",
              "      <td>Super Mario Bros.</td>\n",
              "      <td>NES</td>\n",
              "      <td>1985.0</td>\n",
              "      <td>Platform</td>\n",
              "      <td>29.08</td>\n",
              "      <td>3.58</td>\n",
              "      <td>6.81</td>\n",
              "      <td>0.77</td>\n",
              "      <td>NaN</td>\n",
              "      <td>NaN</td>\n",
              "      <td>;</td>\n",
              "    </tr>\n",
              "    <tr>\n",
              "      <th>2</th>\n",
              "      <td>Mario Kart Wii</td>\n",
              "      <td>Wii</td>\n",
              "      <td>2008.0</td>\n",
              "      <td>Racing</td>\n",
              "      <td>15.68</td>\n",
              "      <td>12.76</td>\n",
              "      <td>3.79</td>\n",
              "      <td>3.29</td>\n",
              "      <td>82.0</td>\n",
              "      <td>8.3</td>\n",
              "      <td>E;</td>\n",
              "    </tr>\n",
              "    <tr>\n",
              "      <th>3</th>\n",
              "      <td>Wii Sports Resort</td>\n",
              "      <td>Wii</td>\n",
              "      <td>2009.0</td>\n",
              "      <td>Sports</td>\n",
              "      <td>15.61</td>\n",
              "      <td>10.93</td>\n",
              "      <td>3.28</td>\n",
              "      <td>2.95</td>\n",
              "      <td>80.0</td>\n",
              "      <td>8</td>\n",
              "      <td>E;</td>\n",
              "    </tr>\n",
              "    <tr>\n",
              "      <th>4</th>\n",
              "      <td>Pokemon Red/Pokemon Blue</td>\n",
              "      <td>GB</td>\n",
              "      <td>1996.0</td>\n",
              "      <td>Role-Playing</td>\n",
              "      <td>11.27</td>\n",
              "      <td>8.89</td>\n",
              "      <td>10.22</td>\n",
              "      <td>1.00</td>\n",
              "      <td>NaN</td>\n",
              "      <td>NaN</td>\n",
              "      <td>;</td>\n",
              "    </tr>\n",
              "    <tr>\n",
              "      <th>5</th>\n",
              "      <td>Tetris</td>\n",
              "      <td>GB</td>\n",
              "      <td>1989.0</td>\n",
              "      <td>Puzzle</td>\n",
              "      <td>23.20</td>\n",
              "      <td>2.26</td>\n",
              "      <td>4.22</td>\n",
              "      <td>0.58</td>\n",
              "      <td>NaN</td>\n",
              "      <td>NaN</td>\n",
              "      <td>;</td>\n",
              "    </tr>\n",
              "    <tr>\n",
              "      <th>6</th>\n",
              "      <td>New Super Mario Bros.</td>\n",
              "      <td>DS</td>\n",
              "      <td>2006.0</td>\n",
              "      <td>Platform</td>\n",
              "      <td>11.28</td>\n",
              "      <td>9.14</td>\n",
              "      <td>6.50</td>\n",
              "      <td>2.88</td>\n",
              "      <td>89.0</td>\n",
              "      <td>8.5</td>\n",
              "      <td>E;</td>\n",
              "    </tr>\n",
              "    <tr>\n",
              "      <th>7</th>\n",
              "      <td>Wii Play</td>\n",
              "      <td>Wii</td>\n",
              "      <td>2006.0</td>\n",
              "      <td>Misc</td>\n",
              "      <td>13.96</td>\n",
              "      <td>9.18</td>\n",
              "      <td>2.93</td>\n",
              "      <td>2.84</td>\n",
              "      <td>58.0</td>\n",
              "      <td>6.6</td>\n",
              "      <td>E;</td>\n",
              "    </tr>\n",
              "    <tr>\n",
              "      <th>8</th>\n",
              "      <td>New Super Mario Bros. Wii</td>\n",
              "      <td>Wii</td>\n",
              "      <td>2009.0</td>\n",
              "      <td>Platform</td>\n",
              "      <td>14.44</td>\n",
              "      <td>6.94</td>\n",
              "      <td>4.70</td>\n",
              "      <td>2.24</td>\n",
              "      <td>87.0</td>\n",
              "      <td>8.4</td>\n",
              "      <td>E;</td>\n",
              "    </tr>\n",
              "    <tr>\n",
              "      <th>9</th>\n",
              "      <td>Duck Hunt</td>\n",
              "      <td>NES</td>\n",
              "      <td>1984.0</td>\n",
              "      <td>Shooter</td>\n",
              "      <td>26.93</td>\n",
              "      <td>0.63</td>\n",
              "      <td>0.28</td>\n",
              "      <td>0.47</td>\n",
              "      <td>NaN</td>\n",
              "      <td>NaN</td>\n",
              "      <td>;</td>\n",
              "    </tr>\n",
              "  </tbody>\n",
              "</table>\n",
              "</div>"
            ],
            "text/plain": [
              "                        Name Platform  ...  User_Score Rating;\n",
              "0                 Wii Sports      Wii  ...           8      E;\n",
              "1          Super Mario Bros.      NES  ...         NaN       ;\n",
              "2             Mario Kart Wii      Wii  ...         8.3      E;\n",
              "3          Wii Sports Resort      Wii  ...           8      E;\n",
              "4   Pokemon Red/Pokemon Blue       GB  ...         NaN       ;\n",
              "5                     Tetris       GB  ...         NaN       ;\n",
              "6      New Super Mario Bros.       DS  ...         8.5      E;\n",
              "7                   Wii Play      Wii  ...         6.6      E;\n",
              "8  New Super Mario Bros. Wii      Wii  ...         8.4      E;\n",
              "9                  Duck Hunt      NES  ...         NaN       ;\n",
              "\n",
              "[10 rows x 11 columns]"
            ]
          },
          "metadata": {
            "tags": []
          },
          "execution_count": 101
        }
      ]
    },
    {
      "cell_type": "markdown",
      "metadata": {
        "id": "THsvV06yOwdr"
      },
      "source": [
        "view of the table for better understanding of the data we are working with"
      ]
    },
    {
      "cell_type": "markdown",
      "metadata": {
        "id": "WkQNbkwbt-S0"
      },
      "source": [
        "**conclusion**:\n",
        "1. some rows were removed do to iscrepancy but only 0.66%\n",
        "2. \"name\", \"platform\" columes will needed to be changed to lowercase\n",
        "3. make column names lowercase\n",
        "4. check for doplicatse\n",
        "5. turn user_score to float and change critic score to the same scale\n"
      ]
    },
    {
      "cell_type": "markdown",
      "metadata": {
        "id": "CRq-e3B9X-Qc"
      },
      "source": [
        "# **Step 2: Preparing the data**"
      ]
    },
    {
      "cell_type": "code",
      "metadata": {
        "id": "dg4JmZiU92bO"
      },
      "source": [
        "#lowercase colums\n",
        "data.columns= data.columns.str.lower()"
      ],
      "execution_count": null,
      "outputs": []
    },
    {
      "cell_type": "code",
      "metadata": {
        "id": "3lwZp88ewH6b"
      },
      "source": [
        "##lowercase needed colums\n",
        "for i in[\"name\", \"platform\", \"genre\"]:\n",
        "  data[i] = data[i].str.lower()"
      ],
      "execution_count": null,
      "outputs": []
    },
    {
      "cell_type": "code",
      "metadata": {
        "colab": {
          "base_uri": "https://localhost:8080/",
          "height": 49
        },
        "id": "pNGII9KM1mmi",
        "outputId": "3cd96206-c3ee-4714-bbdc-ddf3f571dc4a"
      },
      "source": [
        "#checking for duplicates\n",
        "data[data.duplicated()]"
      ],
      "execution_count": null,
      "outputs": [
        {
          "output_type": "execute_result",
          "data": {
            "text/html": [
              "<div>\n",
              "<style scoped>\n",
              "    .dataframe tbody tr th:only-of-type {\n",
              "        vertical-align: middle;\n",
              "    }\n",
              "\n",
              "    .dataframe tbody tr th {\n",
              "        vertical-align: top;\n",
              "    }\n",
              "\n",
              "    .dataframe thead th {\n",
              "        text-align: right;\n",
              "    }\n",
              "</style>\n",
              "<table border=\"1\" class=\"dataframe\">\n",
              "  <thead>\n",
              "    <tr style=\"text-align: right;\">\n",
              "      <th></th>\n",
              "      <th>name</th>\n",
              "      <th>platform</th>\n",
              "      <th>year_of_release</th>\n",
              "      <th>genre</th>\n",
              "      <th>na_sales</th>\n",
              "      <th>eu_sales</th>\n",
              "      <th>jp_sales</th>\n",
              "      <th>other_sales</th>\n",
              "      <th>critic_score</th>\n",
              "      <th>user_score</th>\n",
              "      <th>rating;</th>\n",
              "    </tr>\n",
              "  </thead>\n",
              "  <tbody>\n",
              "  </tbody>\n",
              "</table>\n",
              "</div>"
            ],
            "text/plain": [
              "Empty DataFrame\n",
              "Columns: [name, platform, year_of_release, genre, na_sales, eu_sales, jp_sales, other_sales, critic_score, user_score, rating;]\n",
              "Index: []"
            ]
          },
          "metadata": {
            "tags": []
          },
          "execution_count": 104
        }
      ]
    },
    {
      "cell_type": "code",
      "metadata": {
        "id": "VxqpeUh-zw0O"
      },
      "source": [
        "#filling the unknown years to zero, as it is an immposibale value to have otherwise, casting the colum to int\n",
        "data[\"year_of_release\"] = data[\"year_of_release\"].fillna(0)\n",
        "data[\"year_of_release\"] = data[\"year_of_release\"].astype(int)"
      ],
      "execution_count": null,
      "outputs": []
    },
    {
      "cell_type": "code",
      "metadata": {
        "id": "wkh9RFJISz0R"
      },
      "source": [
        "# data.plot(x = \"platform\", y = \"user_score\", kind = \"bar\")"
      ],
      "execution_count": null,
      "outputs": []
    },
    {
      "cell_type": "code",
      "metadata": {
        "colab": {
          "base_uri": "https://localhost:8080/",
          "height": 49
        },
        "id": "yxH5u43uQFgP",
        "outputId": "d7917d10-0156-45c1-f910-df92f9c255b1"
      },
      "source": [
        "#checking if user score as zero values in a possible value\n",
        "data.loc[data[\"user_score\"] == 0]"
      ],
      "execution_count": null,
      "outputs": [
        {
          "output_type": "execute_result",
          "data": {
            "text/html": [
              "<div>\n",
              "<style scoped>\n",
              "    .dataframe tbody tr th:only-of-type {\n",
              "        vertical-align: middle;\n",
              "    }\n",
              "\n",
              "    .dataframe tbody tr th {\n",
              "        vertical-align: top;\n",
              "    }\n",
              "\n",
              "    .dataframe thead th {\n",
              "        text-align: right;\n",
              "    }\n",
              "</style>\n",
              "<table border=\"1\" class=\"dataframe\">\n",
              "  <thead>\n",
              "    <tr style=\"text-align: right;\">\n",
              "      <th></th>\n",
              "      <th>name</th>\n",
              "      <th>platform</th>\n",
              "      <th>year_of_release</th>\n",
              "      <th>genre</th>\n",
              "      <th>na_sales</th>\n",
              "      <th>eu_sales</th>\n",
              "      <th>jp_sales</th>\n",
              "      <th>other_sales</th>\n",
              "      <th>critic_score</th>\n",
              "      <th>user_score</th>\n",
              "      <th>rating;</th>\n",
              "    </tr>\n",
              "  </thead>\n",
              "  <tbody>\n",
              "  </tbody>\n",
              "</table>\n",
              "</div>"
            ],
            "text/plain": [
              "Empty DataFrame\n",
              "Columns: [name, platform, year_of_release, genre, na_sales, eu_sales, jp_sales, other_sales, critic_score, user_score, rating;]\n",
              "Index: []"
            ]
          },
          "metadata": {
            "tags": []
          },
          "execution_count": 107
        }
      ]
    },
    {
      "cell_type": "code",
      "metadata": {
        "id": "_366SV2oUjPo"
      },
      "source": [
        "#filling the unknown user score with zero for the same reason as above, replacing the tbd value with zero and casting to float \n",
        "data[\"user_score\"] = data[\"user_score\"].fillna(0)\n",
        "#tbh is data that is missing because there is still no rating to the game\n",
        "data[\"user_score\"] = data[\"user_score\"].replace(to_replace = 'tbd', value=0)\n",
        "data[\"user_score\"] = pd.to_numeric(data[\"user_score\"] , errors='ignore')"
      ],
      "execution_count": null,
      "outputs": []
    },
    {
      "cell_type": "code",
      "metadata": {
        "colab": {
          "base_uri": "https://localhost:8080/",
          "height": 49
        },
        "id": "zKlegBO_QgTu",
        "outputId": "6a159ead-9a98-4854-8e67-38dd7feee853"
      },
      "source": [
        "#cheacking if critic_score as zero values in a possibal value\n",
        "data.loc[data[\"critic_score\"] == 0]"
      ],
      "execution_count": null,
      "outputs": [
        {
          "output_type": "execute_result",
          "data": {
            "text/html": [
              "<div>\n",
              "<style scoped>\n",
              "    .dataframe tbody tr th:only-of-type {\n",
              "        vertical-align: middle;\n",
              "    }\n",
              "\n",
              "    .dataframe tbody tr th {\n",
              "        vertical-align: top;\n",
              "    }\n",
              "\n",
              "    .dataframe thead th {\n",
              "        text-align: right;\n",
              "    }\n",
              "</style>\n",
              "<table border=\"1\" class=\"dataframe\">\n",
              "  <thead>\n",
              "    <tr style=\"text-align: right;\">\n",
              "      <th></th>\n",
              "      <th>name</th>\n",
              "      <th>platform</th>\n",
              "      <th>year_of_release</th>\n",
              "      <th>genre</th>\n",
              "      <th>na_sales</th>\n",
              "      <th>eu_sales</th>\n",
              "      <th>jp_sales</th>\n",
              "      <th>other_sales</th>\n",
              "      <th>critic_score</th>\n",
              "      <th>user_score</th>\n",
              "      <th>rating;</th>\n",
              "    </tr>\n",
              "  </thead>\n",
              "  <tbody>\n",
              "  </tbody>\n",
              "</table>\n",
              "</div>"
            ],
            "text/plain": [
              "Empty DataFrame\n",
              "Columns: [name, platform, year_of_release, genre, na_sales, eu_sales, jp_sales, other_sales, critic_score, user_score, rating;]\n",
              "Index: []"
            ]
          },
          "metadata": {
            "tags": []
          },
          "execution_count": 109
        }
      ]
    },
    {
      "cell_type": "code",
      "metadata": {
        "id": "EToMpJL0NkHH"
      },
      "source": [
        "#filling the unknown critic score to zero, for the same reason as above, casting the colum to float, and deviding it by 10 to make in the same scale as user score\n",
        "data[\"critic_score\"] = data[\"critic_score\"].fillna(0)\n",
        "data[\"critic_score\"] = pd.to_numeric(data[\"critic_score\"] , errors='ignore')\n",
        "data[\"critic_score\"] = data[\"critic_score\"]/10"
      ],
      "execution_count": null,
      "outputs": []
    },
    {
      "cell_type": "code",
      "metadata": {
        "id": "GsVxYEg4W0Hf"
      },
      "source": [
        "#creating a cloum of total sales wich is the sum of sale from all regions\n",
        "all_regions = [\"na_sales\", \"eu_sales\", \"jp_sales\",\t\"other_sales\"\t]\n",
        "data[\"total_sales\"] = data[all_regions].sum(axis=1)"
      ],
      "execution_count": null,
      "outputs": []
    },
    {
      "cell_type": "code",
      "metadata": {
        "colab": {
          "base_uri": "https://localhost:8080/",
          "height": 49
        },
        "id": "_lXCwvazSz0T",
        "outputId": "b36b4497-7c89-49b2-d780-360de1c023a4"
      },
      "source": [
        "#checking data for duplicates, found none\n",
        "data[data.duplicated()]"
      ],
      "execution_count": null,
      "outputs": [
        {
          "output_type": "execute_result",
          "data": {
            "text/html": [
              "<div>\n",
              "<style scoped>\n",
              "    .dataframe tbody tr th:only-of-type {\n",
              "        vertical-align: middle;\n",
              "    }\n",
              "\n",
              "    .dataframe tbody tr th {\n",
              "        vertical-align: top;\n",
              "    }\n",
              "\n",
              "    .dataframe thead th {\n",
              "        text-align: right;\n",
              "    }\n",
              "</style>\n",
              "<table border=\"1\" class=\"dataframe\">\n",
              "  <thead>\n",
              "    <tr style=\"text-align: right;\">\n",
              "      <th></th>\n",
              "      <th>name</th>\n",
              "      <th>platform</th>\n",
              "      <th>year_of_release</th>\n",
              "      <th>genre</th>\n",
              "      <th>na_sales</th>\n",
              "      <th>eu_sales</th>\n",
              "      <th>jp_sales</th>\n",
              "      <th>other_sales</th>\n",
              "      <th>critic_score</th>\n",
              "      <th>user_score</th>\n",
              "      <th>rating;</th>\n",
              "      <th>total_sales</th>\n",
              "    </tr>\n",
              "  </thead>\n",
              "  <tbody>\n",
              "  </tbody>\n",
              "</table>\n",
              "</div>"
            ],
            "text/plain": [
              "Empty DataFrame\n",
              "Columns: [name, platform, year_of_release, genre, na_sales, eu_sales, jp_sales, other_sales, critic_score, user_score, rating;, total_sales]\n",
              "Index: []"
            ]
          },
          "metadata": {
            "tags": []
          },
          "execution_count": 112
        }
      ]
    },
    {
      "cell_type": "markdown",
      "metadata": {
        "id": "wQW3bzCJX8Pp"
      },
      "source": [
        "**conclusion:**\n",
        "\n",
        "changed the types of the data for further analysis\n",
        "\n",
        "fill the missing data with the value of zero\n",
        "\n",
        "created a new colum of total sales"
      ]
    },
    {
      "cell_type": "markdown",
      "metadata": {
        "id": "a_fqUnywYHMW"
      },
      "source": [
        "# **Step 3: Analyzing the data**"
      ]
    },
    {
      "cell_type": "code",
      "metadata": {
        "colab": {
          "base_uri": "https://localhost:8080/",
          "height": 366
        },
        "id": "TIjNKH-mY9fG",
        "scrolled": true,
        "outputId": "c7402086-4839-4105-964a-a67884d16b8b"
      },
      "source": [
        "games_released_by_year = data.query('year_of_release > 1980').groupby(\"year_of_release\").count().reset_index()\n",
        "\n",
        "fig = plt.figure()\n",
        "ax = fig.add_axes([0,0,1,1])\n",
        "name = games_released_by_year[\"name\"]\n",
        "release_year = games_released_by_year[\"year_of_release\"]\n",
        "\n",
        "ax.plot(release_year, name, color = 'b')\n",
        "\n",
        "ax.set_ylabel('number of games sold')\n",
        "ax.set_xlabel('year')\n",
        "ax.set_title('number of games sold by year')\n",
        "plt.show()"
      ],
      "execution_count": null,
      "outputs": [
        {
          "output_type": "display_data",
          "data": {
            "image/png": "[encoded data removed]",
            "text/plain": [
              "<Figure size 432x288 with 1 Axes>"
            ]
          },
          "metadata": {
            "tags": [],
            "needs_background": "light"
          }
        }
      ]
    },
    {
      "cell_type": "markdown",
      "metadata": {
        "id": "26shs4aNnL1U"
      },
      "source": [
        "in this graph we can see the frequency of game realsed in every year\n",
        "\n",
        "we can see a rise in game sold from 1993 with a pick at 2008 and decline after that to 2016.\n",
        "\n",
        "the increase of games salse was do to technological advances with made platforms and games cheaper so more people could afford them and the decrease is probably becouse peple buy more digital copies of games instead of physical"
      ]
    },
    {
      "cell_type": "code",
      "metadata": {
        "colab": {
          "base_uri": "https://localhost:8080/",
          "height": 366
        },
        "id": "wmN52hTISz0V",
        "outputId": "7076c1c9-6796-4e4b-b03b-ee949c45e03b"
      },
      "source": [
        "# lets look at the relevant years only by discarding the outliers\n",
        "Q1 = data[\"year_of_release\"].quantile(0.25)\n",
        "Q3 = data[\"year_of_release\"].quantile(0.75)\n",
        "IQR = Q3 - Q1\n",
        "\n",
        "data = data.query('(@Q1 - 1.5 * @IQR) <= year_of_release <= (@Q3 + 1.5 * @IQR)')\n",
        "\n",
        "games_released_by_year = data.query('(@Q1 - 1.5 * @IQR) <= year_of_release <= (@Q3 + 1.5 * @IQR)').groupby(\"year_of_release\").count().reset_index()\n",
        "\n",
        "fig = plt.figure()\n",
        "ax = fig.add_axes([0,0,1,1])\n",
        "name = games_released_by_year[\"name\"]\n",
        "release_year = games_released_by_year[\"year_of_release\"]\n",
        "\n",
        "ax.plot(release_year, name, color = 'b')\n",
        "\n",
        "ax.set_ylabel('number of games sold')\n",
        "ax.set_xlabel('year')\n",
        "ax.set_title('number of games sold by year')\n",
        "plt.show()"
      ],
      "execution_count": null,
      "outputs": [
        {
          "output_type": "display_data",
          "data": {
            "image/png": "[encoded data removed]",
            "text/plain": [
              "<Figure size 432x288 with 1 Axes>"
            ]
          },
          "metadata": {
            "tags": [],
            "needs_background": "light"
          }
        }
      ]
    },
    {
      "cell_type": "code",
      "metadata": {
        "colab": {
          "base_uri": "https://localhost:8080/",
          "height": 310
        },
        "id": "tnkezUALZyEy",
        "outputId": "fd1c9d96-8083-4700-ba57-d337c1907138"
      },
      "source": [
        "sales_by_platform = data.groupby(\"platform\")[\"total_sales\"].sum().sort_values(ascending=False).reset_index()\n",
        "sales_by_platform.plot(x = \"platform\", y = \"total_sales\", kind = \"bar\")\n",
        "plt.ylabel(\"total sales\")\n",
        "plt.title('number of games sold by platform')\n",
        "plt.show()"
      ],
      "execution_count": null,
      "outputs": [
        {
          "output_type": "display_data",
          "data": {
            "image/png": "[encoded data removed]",
            "text/plain": [
              "<Figure size 432x288 with 1 Axes>"
            ]
          },
          "metadata": {
            "tags": [],
            "needs_background": "light"
          }
        }
      ]
    },
    {
      "cell_type": "markdown",
      "metadata": {
        "id": "LPoKBDBXoRbv"
      },
      "source": [
        "in this graph we can see the frequency of game realsed for every platform\n",
        "\n",
        "we can see that the most popular platforms by far are ps2, xbox30, ps3, wii, ds, ps. Althoe we don't know when those games were realesd and if the platforms are still popular "
      ]
    },
    {
      "cell_type": "code",
      "metadata": {
        "id": "NMTvKm3uk2ZA"
      },
      "source": [
        "#creating al list of the most popular platforms\n",
        "high_platforms_sales = sales_by_platform[:6][\"platform\"].tolist()"
      ],
      "execution_count": null,
      "outputs": []
    },
    {
      "cell_type": "code",
      "metadata": {
        "id": "jV8nuXa3njsu"
      },
      "source": [
        "high_platforms_sales_status = []\n",
        "for i in high_platforms_sales:\n",
        "    high_platforms_sales_status.append(pd.pivot_table(data, index = [\"platform\"], columns = \"year_of_release\", values = \"total_sales\", aggfunc = \"sum\", margins = True).reset_index())"
      ],
      "execution_count": null,
      "outputs": []
    },
    {
      "cell_type": "code",
      "metadata": {
        "id": "8ibnV1MjL_LZ"
      },
      "source": [
        "high_platforms_sales_status = []\n",
        "for i in high_platforms_sales:\n",
        "    high_platforms_sales_status.append(data.query('platform == @i').groupby(\"year_of_release\").sum().reset_index())"
      ],
      "execution_count": null,
      "outputs": []
    },
    {
      "cell_type": "code",
      "metadata": {
        "colab": {
          "base_uri": "https://localhost:8080/",
          "height": 1000
        },
        "id": "dIp0c6TwMy37",
        "outputId": "04ef0ddc-9baf-4900-bc36-7529c8df08b2"
      },
      "source": [
        "for i in range(len(high_platforms_sales_status)):\n",
        "    high_platforms_sales_status[i].plot(x = \"year_of_release\", y = \"total_sales\", kind = \"bar\")\n",
        "    plt.title(\"console : {}\".format(high_platforms_sales[i]))\n",
        "    plt.ylabel('sales')\n",
        "    plt.show()"
      ],
      "execution_count": null,
      "outputs": [
        {
          "output_type": "display_data",
          "data": {
            "image/png": "[encoded data removed]",
            "text/plain": [
              "<Figure size 432x288 with 1 Axes>"
            ]
          },
          "metadata": {
            "tags": [],
            "needs_background": "light"
          }
        },
        {
          "output_type": "display_data",
          "data": {
            "image/png": "[encoded data removed]",
            "text/plain": [
              "<Figure size 432x288 with 1 Axes>"
            ]
          },
          "metadata": {
            "tags": [],
            "needs_background": "light"
          }
        },
        {
          "output_type": "display_data",
          "data": {
            "image/png": "[encoded data removed]",
            "text/plain": [
              "<Figure size 432x288 with 1 Axes>"
            ]
          },
          "metadata": {
            "tags": [],
            "needs_background": "light"
          }
        },
        {
          "output_type": "display_data",
          "data": {
            "image/png": "[encoded data removed]",
            "text/plain": [
              "<Figure size 432x288 with 1 Axes>"
            ]
          },
          "metadata": {
            "tags": [],
            "needs_background": "light"
          }
        },
        {
          "output_type": "display_data",
          "data": {
            "image/png": "[encoded data removed]",
            "text/plain": [
              "<Figure size 432x288 with 1 Axes>"
            ]
          },
          "metadata": {
            "tags": [],
            "needs_background": "light"
          }
        },
        {
          "output_type": "display_data",
          "data": {
            "image/png": "[encoded data removed]",
            "text/plain": [
              "<Figure size 432x288 with 1 Axes>"
            ]
          },
          "metadata": {
            "tags": [],
            "needs_background": "light"
          }
        }
      ]
    },
    {
      "cell_type": "markdown",
      "metadata": {
        "id": "st3FJeArD1H5"
      },
      "source": [
        "ps used to be popular but he can see it didn't have sales after 2003 ans ps2 also didnt have sales after 2011\n",
        "in those graphs we can see the first years the games for the platforms were sold:\n",
        "1. ps2: 2000\n",
        "2. x360: 2005\n",
        "3. ps3: 2006\n",
        "4. wii: 2006 \n",
        "5. ds: 2004\n",
        "6. ps: 1994\n",
        "\n",
        "so we can see the news platforms from this graph\n"
      ]
    },
    {
      "cell_type": "code",
      "metadata": {
        "colab": {
          "base_uri": "https://localhost:8080/"
        },
        "id": "wdpAQRhSERkO",
        "outputId": "f33ca620-0257-4458-d6e1-9c00690f1b7f"
      },
      "source": [
        "#for the each popular platforms we calculated the range within one standard deviation and average the results to get the avrage years wich the platform was \"active\"\n",
        "high_platforms_sales = [\"ps2\", \"x360\", \"ps3\", \"wii\", \"ds\"]\n",
        "diff = 0\n",
        "for i in high_platforms_sales :\n",
        "    min_year = data.query(\"platform == @i\")[\"year_of_release\"].min()\n",
        "    max_year = data.query(\"platform == @i\")[\"year_of_release\"].max()\n",
        "    diff += max_year - min_year\n",
        "print(\"it generally take for new platforms to appear and fade is {} years\".format(diff/len(high_platforms_sales)))"
      ],
      "execution_count": null,
      "outputs": [
        {
          "output_type": "stream",
          "text": [
            "it generally take for new platforms to appear and fade is 10.2 years\n"
          ],
          "name": "stdout"
        }
      ]
    },
    {
      "cell_type": "markdown",
      "metadata": {
        "id": "vZHdWhxhKQwz"
      },
      "source": [
        "for every popular platform we took the max year and subtract the min year a game was sold(with the relevant years already) then we added all the differences and divided them by the number of platforms to get the average difference\n",
        "\n",
        "we shuld look at platforms that started sales in the last 3 years, The reason why to chose data since 2014 is the following. We see that the leader in sales for the entire history of the PS2. But sales by 2011 are already zero. The X360 was at its peak in 2010, but by 2016 it had fallen to almost 0. In general, a sharp decline in the platform can occur in just 3 years. Let's look at this sales horizon."
      ]
    },
    {
      "cell_type": "code",
      "metadata": {
        "id": "K3xPNzN_KvJM"
      },
      "source": [
        "relevant_data = data.query(\"year_of_release >= 2014\")\n"
      ],
      "execution_count": null,
      "outputs": []
    },
    {
      "cell_type": "code",
      "metadata": {
        "id": "RUsO7W3E0Fi_"
      },
      "source": [
        "relevant_platforms = relevant_data[\"platform\"].unique()"
      ],
      "execution_count": null,
      "outputs": []
    },
    {
      "cell_type": "code",
      "metadata": {
        "colab": {
          "base_uri": "https://localhost:8080/",
          "height": 1000
        },
        "id": "V5_8LHzjMHwg",
        "outputId": "395d04e7-03ec-4e71-d078-3962cb7bb90d"
      },
      "source": [
        "for i in relevant_platforms:\n",
        "    relevant_platforms_sales_status = relevant_data.query('platform == @i').groupby(\"year_of_release\").sum()[\"total_sales\"]\n",
        "    relevant_platforms_sales_status.plot(x = \"year_of_release\", y = \"total_sales\", kind = \"bar\")\n",
        "    plt.title(\"console : {}\".format(i))\n",
        "    plt.ylabel('total_sales')\n",
        "    plt.show()"
      ],
      "execution_count": null,
      "outputs": [
        {
          "output_type": "display_data",
          "data": {
            "image/png": "[encoded data removed]",
            "text/plain": [
              "<Figure size 432x288 with 1 Axes>"
            ]
          },
          "metadata": {
            "tags": [],
            "needs_background": "light"
          }
        },
        {
          "output_type": "display_data",
          "data": {
            "image/png": "[encoded data removed]",
            "text/plain": [
              "<Figure size 432x288 with 1 Axes>"
            ]
          },
          "metadata": {
            "tags": [],
            "needs_background": "light"
          }
        },
        {
          "output_type": "display_data",
          "data": {
            "image/png": "[encoded data removed]",
            "text/plain": [
              "<Figure size 432x288 with 1 Axes>"
            ]
          },
          "metadata": {
            "tags": [],
            "needs_background": "light"
          }
        },
        {
          "output_type": "display_data",
          "data": {
            "image/png": "[encoded data removed]",
            "text/plain": [
              "<Figure size 432x288 with 1 Axes>"
            ]
          },
          "metadata": {
            "tags": [],
            "needs_background": "light"
          }
        },
        {
          "output_type": "display_data",
          "data": {
            "image/png": "[encoded data removed]",
            "text/plain": [
              "<Figure size 432x288 with 1 Axes>"
            ]
          },
          "metadata": {
            "tags": [],
            "needs_background": "light"
          }
        },
        {
          "output_type": "display_data",
          "data": {
            "image/png": "[encoded data removed]",
            "text/plain": [
              "<Figure size 432x288 with 1 Axes>"
            ]
          },
          "metadata": {
            "tags": [],
            "needs_background": "light"
          }
        },
        {
          "output_type": "display_data",
          "data": {
            "image/png": "[encoded data removed]",
            "text/plain": [
              "<Figure size 432x288 with 1 Axes>"
            ]
          },
          "metadata": {
            "tags": [],
            "needs_background": "light"
          }
        },
        {
          "output_type": "display_data",
          "data": {
            "image/png": "[encoded data removed]",
            "text/plain": [
              "<Figure size 432x288 with 1 Axes>"
            ]
          },
          "metadata": {
            "tags": [],
            "needs_background": "light"
          }
        },
        {
          "output_type": "display_data",
          "data": {
            "image/png": "[encoded data removed]",
            "text/plain": [
              "<Figure size 432x288 with 1 Axes>"
            ]
          },
          "metadata": {
            "tags": [],
            "needs_background": "light"
          }
        },
        {
          "output_type": "display_data",
          "data": {
            "image/png": "[encoded data removed]",
            "text/plain": [
              "<Figure size 432x288 with 1 Axes>"
            ]
          },
          "metadata": {
            "tags": [],
            "needs_background": "light"
          }
        }
      ]
    },
    {
      "cell_type": "markdown",
      "metadata": {
        "id": "Z-74UdblOUEa"
      },
      "source": [
        "after looking at the graphs i don't see any profitable platforms they are all in decline,but let's see how outliers affect our data"
      ]
    },
    {
      "cell_type": "code",
      "metadata": {
        "colab": {
          "base_uri": "https://localhost:8080/",
          "height": 1000
        },
        "id": "ofqvgMQwdfM1",
        "outputId": "e508e885-2695-46f9-885f-bbc2bfb7a3d3"
      },
      "source": [
        "for i in relevant_data[\"platform\"].unique():\n",
        "    relevant_data.query(\"platform == @i\")[\"total_sales\"].plot.box()\n",
        "    plt.title(\"console : {}\".format(i))\n",
        "    plt.ylabel('total_sales')\n",
        "    plt.show()\n"
      ],
      "execution_count": null,
      "outputs": [
        {
          "output_type": "display_data",
          "data": {
            "image/png": "[encoded data removed]",
            "text/plain": [
              "<Figure size 432x288 with 1 Axes>"
            ]
          },
          "metadata": {
            "tags": [],
            "needs_background": "light"
          }
        },
        {
          "output_type": "display_data",
          "data": {
            "image/png": "[encoded data removed]",
            "text/plain": [
              "<Figure size 432x288 with 1 Axes>"
            ]
          },
          "metadata": {
            "tags": [],
            "needs_background": "light"
          }
        },
        {
          "output_type": "display_data",
          "data": {
            "image/png": "[encoded data removed]",
            "text/plain": [
              "<Figure size 432x288 with 1 Axes>"
            ]
          },
          "metadata": {
            "tags": [],
            "needs_background": "light"
          }
        },
        {
          "output_type": "display_data",
          "data": {
            "image/png": "[encoded data removed]",
            "text/plain": [
              "<Figure size 432x288 with 1 Axes>"
            ]
          },
          "metadata": {
            "tags": [],
            "needs_background": "light"
          }
        },
        {
          "output_type": "display_data",
          "data": {
            "image/png": "[encoded data removed]",
            "text/plain": [
              "<Figure size 432x288 with 1 Axes>"
            ]
          },
          "metadata": {
            "tags": [],
            "needs_background": "light"
          }
        },
        {
          "output_type": "display_data",
          "data": {
            "image/png": "[encoded data removed]",
            "text/plain": [
              "<Figure size 432x288 with 1 Axes>"
            ]
          },
          "metadata": {
            "tags": [],
            "needs_background": "light"
          }
        },
        {
          "output_type": "display_data",
          "data": {
            "image/png": "[encoded data removed]",
            "text/plain": [
              "<Figure size 432x288 with 1 Axes>"
            ]
          },
          "metadata": {
            "tags": [],
            "needs_background": "light"
          }
        },
        {
          "output_type": "display_data",
          "data": {
            "image/png": "[encoded data removed]",
            "text/plain": [
              "<Figure size 432x288 with 1 Axes>"
            ]
          },
          "metadata": {
            "tags": [],
            "needs_background": "light"
          }
        },
        {
          "output_type": "display_data",
          "data": {
            "image/png": "[encoded data removed]",
            "text/plain": [
              "<Figure size 432x288 with 1 Axes>"
            ]
          },
          "metadata": {
            "tags": [],
            "needs_background": "light"
          }
        },
        {
          "output_type": "display_data",
          "data": {
            "image/png": "[encoded data removed]",
            "text/plain": [
              "<Figure size 432x288 with 1 Axes>"
            ]
          },
          "metadata": {
            "tags": [],
            "needs_background": "light"
          }
        }
      ]
    },
    {
      "cell_type": "markdown",
      "metadata": {
        "id": "2X0JAkAsg9Y0"
      },
      "source": [
        "in the plot box we can see that in all platforms we have quite the number of outliers, in game sales having outliers is not strange as the market is very affected by what's popular but lets look at the sales without them"
      ]
    },
    {
      "cell_type": "code",
      "metadata": {
        "id": "y-u2JpYyh329",
        "colab": {
          "base_uri": "https://localhost:8080/"
        },
        "outputId": "f520f723-eeb5-4512-a45a-80d39327d63e"
      },
      "source": [
        "for i in relevant_data[\"platform\"].unique():\n",
        "    Q1 = relevant_data.query('platform == @i')[\"total_sales\"].quantile(0.25)\n",
        "    Q3 = relevant_data.query('platform == @i')['total_sales'].quantile(0.75)\n",
        "    IQR = Q3 - Q1\n",
        "\n",
        "filtered_relevant_data = relevant_data.query('(@Q1 - 1.5 * @IQR) <= total_sales <= (@Q3 + 1.5 * @IQR)')\n",
        "filtered_relevant_data.describe()[\"total_sales\"]"
      ],
      "execution_count": null,
      "outputs": [
        {
          "output_type": "execute_result",
          "data": {
            "text/plain": [
              "count    457.000000\n",
              "mean       0.019234\n",
              "std        0.007952\n",
              "min        0.010000\n",
              "25%        0.010000\n",
              "50%        0.020000\n",
              "75%        0.030000\n",
              "max        0.030000\n",
              "Name: total_sales, dtype: float64"
            ]
          },
          "metadata": {
            "tags": []
          },
          "execution_count": 125
        }
      ]
    },
    {
      "cell_type": "code",
      "metadata": {
        "colab": {
          "base_uri": "https://localhost:8080/",
          "height": 1000
        },
        "id": "KxotlsHlitOi",
        "outputId": "ad8e1e7e-6370-4ccd-b8a0-36e5a0d85a7a"
      },
      "source": [
        "for i in relevant_platforms:\n",
        "    relevant_platforms_sales_status = filtered_relevant_data.query('platform == @i').groupby(\"year_of_release\").sum()[\"total_sales\"]\n",
        "    relevant_platforms_sales_status.plot(x = \"year_of_release\", y = \"total_sales\", kind = \"bar\")\n",
        "    plt.title(\"console : {}\".format(i))\n",
        "    plt.ylabel('total_sales')\n",
        "    \n",
        "    plt.show()"
      ],
      "execution_count": null,
      "outputs": [
        {
          "output_type": "display_data",
          "data": {
            "image/png": "[encoded data removed]",
            "text/plain": [
              "<Figure size 432x288 with 1 Axes>"
            ]
          },
          "metadata": {
            "tags": [],
            "needs_background": "light"
          }
        },
        {
          "output_type": "display_data",
          "data": {
            "image/png": "[encoded data removed]",
            "text/plain": [
              "<Figure size 432x288 with 1 Axes>"
            ]
          },
          "metadata": {
            "tags": [],
            "needs_background": "light"
          }
        },
        {
          "output_type": "display_data",
          "data": {
            "image/png": "[encoded data removed]",
            "text/plain": [
              "<Figure size 432x288 with 1 Axes>"
            ]
          },
          "metadata": {
            "tags": [],
            "needs_background": "light"
          }
        },
        {
          "output_type": "display_data",
          "data": {
            "image/png": "[encoded data removed]",
            "text/plain": [
              "<Figure size 432x288 with 1 Axes>"
            ]
          },
          "metadata": {
            "tags": [],
            "needs_background": "light"
          }
        },
        {
          "output_type": "display_data",
          "data": {
            "image/png": "[encoded data removed]",
            "text/plain": [
              "<Figure size 432x288 with 1 Axes>"
            ]
          },
          "metadata": {
            "tags": [],
            "needs_background": "light"
          }
        },
        {
          "output_type": "display_data",
          "data": {
            "image/png": "[encoded data removed]",
            "text/plain": [
              "<Figure size 432x288 with 1 Axes>"
            ]
          },
          "metadata": {
            "tags": [],
            "needs_background": "light"
          }
        },
        {
          "output_type": "display_data",
          "data": {
            "image/png": "[encoded data removed]",
            "text/plain": [
              "<Figure size 432x288 with 1 Axes>"
            ]
          },
          "metadata": {
            "tags": [],
            "needs_background": "light"
          }
        },
        {
          "output_type": "display_data",
          "data": {
            "image/png": "[encoded data removed]",
            "text/plain": [
              "<Figure size 432x288 with 1 Axes>"
            ]
          },
          "metadata": {
            "tags": [],
            "needs_background": "light"
          }
        },
        {
          "output_type": "display_data",
          "data": {
            "image/png": "[encoded data removed]",
            "text/plain": [
              "<Figure size 432x288 with 1 Axes>"
            ]
          },
          "metadata": {
            "tags": [],
            "needs_background": "light"
          }
        },
        {
          "output_type": "display_data",
          "data": {
            "image/png": "[encoded data removed]",
            "text/plain": [
              "<Figure size 432x288 with 1 Axes>"
            ]
          },
          "metadata": {
            "tags": [],
            "needs_background": "light"
          }
        }
      ]
    },
    {
      "cell_type": "markdown",
      "metadata": {
        "id": "gnhpuo5kkHz1"
      },
      "source": [
        "now when we look at the dataw ithout outliers we can see that good platforms to invest in are ps4, xone and pc by the fact that we can see the rise in total sales in those platforms"
      ]
    },
    {
      "cell_type": "code",
      "metadata": {
        "colab": {
          "base_uri": "https://localhost:8080/"
        },
        "id": "4xQXHgn3de-y",
        "outputId": "ea813cd2-f5f1-4b28-e870-8e6068335cd7"
      },
      "source": [
        "for i in relevant_data[\"platform\"].unique():\n",
        "  des = relevant_data.query(\"platform == @i\").describe()[\"total_sales\"]\n",
        "  print(\"For the platform {} there were {} games sold and the avrege sale is {:.2}\".format(i, des[\"count\"], des[\"mean\"]))"
      ],
      "execution_count": null,
      "outputs": [
        {
          "output_type": "stream",
          "text": [
            "For the platform ps4 there were 376.0 games sold and the avrege sale is 0.77\n",
            "For the platform 3ds there were 211.0 games sold and the avrege sale is 0.41\n",
            "For the platform xone there were 228.0 games sold and the avrege sale is 0.62\n",
            "For the platform wiiu there were 73.0 games sold and the avrege sale is 0.59\n",
            "For the platform ps3 there were 218.0 games sold and the avrege sale is 0.31\n",
            "For the platform x360 there were 111.0 games sold and the avrege sale is 0.43\n",
            "For the platform pc there were 151.0 games sold and the avrege sale is 0.18\n",
            "For the platform wii there were 11.0 games sold and the avrege sale is 0.46\n",
            "For the platform psv there were 293.0 games sold and the avrege sale is 0.076\n",
            "For the platform psp there were 13.0 games sold and the avrege sale is 0.028\n"
          ],
          "name": "stdout"
        }
      ]
    },
    {
      "cell_type": "markdown",
      "metadata": {
        "id": "IJy7_cAiIwfm"
      },
      "source": [
        "we can see that we don't have many sales in ds and wii so the information by those platforms is not very reliable\n",
        "by average the most sold games are for the platform of x360 and ps4(they are latest model of the platforms)\n",
        "psv platform has alot of games sold but low sales so the games for this platform are probbly cheap and so is psp \n",
        "\n",
        "\n"
      ]
    },
    {
      "cell_type": "code",
      "metadata": {
        "colab": {
          "base_uri": "https://localhost:8080/",
          "height": 297
        },
        "id": "f2HuVCn3MRdh",
        "outputId": "a7c9bec6-4353-48ce-bd49-31ddf0bf3250"
      },
      "source": [
        "popular_platform_des = relevant_data.query(\"platform == 'ps4' and critic_score > 0 and user_score > 0\")\n",
        "popular_platform_des.describe()"
      ],
      "execution_count": null,
      "outputs": [
        {
          "output_type": "execute_result",
          "data": {
            "text/html": [
              "<div>\n",
              "<style scoped>\n",
              "    .dataframe tbody tr th:only-of-type {\n",
              "        vertical-align: middle;\n",
              "    }\n",
              "\n",
              "    .dataframe tbody tr th {\n",
              "        vertical-align: top;\n",
              "    }\n",
              "\n",
              "    .dataframe thead th {\n",
              "        text-align: right;\n",
              "    }\n",
              "</style>\n",
              "<table border=\"1\" class=\"dataframe\">\n",
              "  <thead>\n",
              "    <tr style=\"text-align: right;\">\n",
              "      <th></th>\n",
              "      <th>year_of_release</th>\n",
              "      <th>na_sales</th>\n",
              "      <th>eu_sales</th>\n",
              "      <th>jp_sales</th>\n",
              "      <th>other_sales</th>\n",
              "      <th>critic_score</th>\n",
              "      <th>user_score</th>\n",
              "      <th>total_sales</th>\n",
              "    </tr>\n",
              "  </thead>\n",
              "  <tbody>\n",
              "    <tr>\n",
              "      <th>count</th>\n",
              "      <td>234.000000</td>\n",
              "      <td>234.000000</td>\n",
              "      <td>234.000000</td>\n",
              "      <td>234.000000</td>\n",
              "      <td>234.000000</td>\n",
              "      <td>234.000000</td>\n",
              "      <td>234.000000</td>\n",
              "      <td>234.000000</td>\n",
              "    </tr>\n",
              "    <tr>\n",
              "      <th>mean</th>\n",
              "      <td>2015.188034</td>\n",
              "      <td>0.319615</td>\n",
              "      <td>0.434573</td>\n",
              "      <td>0.036282</td>\n",
              "      <td>0.146282</td>\n",
              "      <td>7.220940</td>\n",
              "      <td>6.832479</td>\n",
              "      <td>0.936752</td>\n",
              "    </tr>\n",
              "    <tr>\n",
              "      <th>std</th>\n",
              "      <td>0.774393</td>\n",
              "      <td>0.566328</td>\n",
              "      <td>0.897390</td>\n",
              "      <td>0.064624</td>\n",
              "      <td>0.260218</td>\n",
              "      <td>1.228187</td>\n",
              "      <td>1.392520</td>\n",
              "      <td>1.659319</td>\n",
              "    </tr>\n",
              "    <tr>\n",
              "      <th>min</th>\n",
              "      <td>2014.000000</td>\n",
              "      <td>0.000000</td>\n",
              "      <td>0.000000</td>\n",
              "      <td>0.000000</td>\n",
              "      <td>0.000000</td>\n",
              "      <td>1.900000</td>\n",
              "      <td>1.500000</td>\n",
              "      <td>0.010000</td>\n",
              "    </tr>\n",
              "    <tr>\n",
              "      <th>25%</th>\n",
              "      <td>2015.000000</td>\n",
              "      <td>0.020000</td>\n",
              "      <td>0.020000</td>\n",
              "      <td>0.000000</td>\n",
              "      <td>0.010000</td>\n",
              "      <td>6.600000</td>\n",
              "      <td>6.200000</td>\n",
              "      <td>0.070000</td>\n",
              "    </tr>\n",
              "    <tr>\n",
              "      <th>50%</th>\n",
              "      <td>2015.000000</td>\n",
              "      <td>0.080000</td>\n",
              "      <td>0.110000</td>\n",
              "      <td>0.010000</td>\n",
              "      <td>0.040000</td>\n",
              "      <td>7.300000</td>\n",
              "      <td>7.100000</td>\n",
              "      <td>0.260000</td>\n",
              "    </tr>\n",
              "    <tr>\n",
              "      <th>75%</th>\n",
              "      <td>2016.000000</td>\n",
              "      <td>0.357500</td>\n",
              "      <td>0.410000</td>\n",
              "      <td>0.050000</td>\n",
              "      <td>0.150000</td>\n",
              "      <td>8.000000</td>\n",
              "      <td>7.900000</td>\n",
              "      <td>0.930000</td>\n",
              "    </tr>\n",
              "    <tr>\n",
              "      <th>max</th>\n",
              "      <td>2016.000000</td>\n",
              "      <td>3.960000</td>\n",
              "      <td>6.310000</td>\n",
              "      <td>0.490000</td>\n",
              "      <td>1.970000</td>\n",
              "      <td>9.700000</td>\n",
              "      <td>9.200000</td>\n",
              "      <td>12.620000</td>\n",
              "    </tr>\n",
              "  </tbody>\n",
              "</table>\n",
              "</div>"
            ],
            "text/plain": [
              "       year_of_release    na_sales  ...  user_score  total_sales\n",
              "count       234.000000  234.000000  ...  234.000000   234.000000\n",
              "mean       2015.188034    0.319615  ...    6.832479     0.936752\n",
              "std           0.774393    0.566328  ...    1.392520     1.659319\n",
              "min        2014.000000    0.000000  ...    1.500000     0.010000\n",
              "25%        2015.000000    0.020000  ...    6.200000     0.070000\n",
              "50%        2015.000000    0.080000  ...    7.100000     0.260000\n",
              "75%        2016.000000    0.357500  ...    7.900000     0.930000\n",
              "max        2016.000000    3.960000  ...    9.200000    12.620000\n",
              "\n",
              "[8 rows x 8 columns]"
            ]
          },
          "metadata": {
            "tags": []
          },
          "execution_count": 128
        }
      ]
    },
    {
      "cell_type": "code",
      "metadata": {
        "id": "dRx0ezviSz0f"
      },
      "source": [
        "import sys\n",
        "import warnings\n",
        "if not sys.warnoptions:\n",
        "       warnings.simplefilter(\"ignore\")"
      ],
      "execution_count": null,
      "outputs": []
    },
    {
      "cell_type": "code",
      "metadata": {
        "colab": {
          "base_uri": "https://localhost:8080/"
        },
        "id": "x7JCXxbdSycy",
        "outputId": "fe5181c9-37ca-4449-e779-a1f46b83f000"
      },
      "source": [
        "popular_platform_data = relevant_data.query(\"platform == 'ps4'\")\n",
        "popular_platform_data[\"user_score\"] = popular_platform_data[\"user_score\"].replace(to_replace = 0, value=round(popular_platform_des[\"user_score\"].mean(),1))\n",
        "popular_platform_data[\"critic_score\"] = popular_platform_data[\"critic_score\"].replace(to_replace = 0, value=round(popular_platform_des[\"critic_score\"].mean(),1))"
      ],
      "execution_count": null,
      "outputs": [
        {
          "output_type": "stream",
          "text": [
            "/usr/local/lib/python3.7/dist-packages/ipykernel_launcher.py:2: SettingWithCopyWarning: \n",
            "A value is trying to be set on a copy of a slice from a DataFrame.\n",
            "Try using .loc[row_indexer,col_indexer] = value instead\n",
            "\n",
            "See the caveats in the documentation: https://pandas.pydata.org/pandas-docs/stable/user_guide/indexing.html#returning-a-view-versus-a-copy\n",
            "  \n",
            "/usr/local/lib/python3.7/dist-packages/ipykernel_launcher.py:3: SettingWithCopyWarning: \n",
            "A value is trying to be set on a copy of a slice from a DataFrame.\n",
            "Try using .loc[row_indexer,col_indexer] = value instead\n",
            "\n",
            "See the caveats in the documentation: https://pandas.pydata.org/pandas-docs/stable/user_guide/indexing.html#returning-a-view-versus-a-copy\n",
            "  This is separate from the ipykernel package so we can avoid doing imports until\n"
          ],
          "name": "stderr"
        }
      ]
    },
    {
      "cell_type": "code",
      "metadata": {
        "colab": {
          "base_uri": "https://localhost:8080/",
          "height": 280
        },
        "id": "1vnGTh7eToXT",
        "outputId": "94eb6325-c301-49be-b184-1321e4078ea1"
      },
      "source": [
        "popular_platform_data.plot(x=\"critic_score\", y=\"total_sales\", kind='scatter', alpha=0.3);"
      ],
      "execution_count": null,
      "outputs": [
        {
          "output_type": "display_data",
          "data": {
            "image/png": "[encoded data removed]",
            "text/plain": [
              "<Figure size 432x288 with 1 Axes>"
            ]
          },
          "metadata": {
            "tags": [],
            "needs_background": "light"
          }
        }
      ]
    },
    {
      "cell_type": "code",
      "metadata": {
        "colab": {
          "base_uri": "https://localhost:8080/",
          "height": 279
        },
        "id": "j15f0ZkWaEQE",
        "outputId": "f63bf706-f9ec-4eb4-db90-8eae0d9e63f4"
      },
      "source": [
        "popular_platform_data.plot(x=\"user_score\", y=\"total_sales\", kind='scatter', alpha=0.3);"
      ],
      "execution_count": null,
      "outputs": [
        {
          "output_type": "display_data",
          "data": {
            "image/png": "[encoded data removed]",
            "text/plain": [
              "<Figure size 432x288 with 1 Axes>"
            ]
          },
          "metadata": {
            "tags": [],
            "needs_background": "light"
          }
        }
      ]
    },
    {
      "cell_type": "code",
      "metadata": {
        "colab": {
          "base_uri": "https://localhost:8080/"
        },
        "id": "DBQAZ_lTVgOX",
        "outputId": "8df639a3-a4d3-4a63-f364-671191ea20fd"
      },
      "source": [
        "corrl_user = popular_platform_data[\"user_score\"].corr(popular_platform_data[\"total_sales\"])\n",
        "corrl_critic = popular_platform_data[\"critic_score\"].corr(popular_platform_data[\"total_sales\"])\n",
        "print(\"In games for ps4 the correlation between user score and total sales is {:.2}\".format(corrl_user))\n",
        "print(\"In games for ps4 the correlation between critic score and total sales is {:.2}\".format(corrl_critic))"
      ],
      "execution_count": null,
      "outputs": [
        {
          "output_type": "stream",
          "text": [
            "In games for ps4 the correlation between user score and total sales is -0.031\n",
            "In games for ps4 the correlation between critic score and total sales is 0.33\n"
          ],
          "name": "stdout"
        }
      ]
    },
    {
      "cell_type": "markdown",
      "metadata": {
        "id": "QWAb-OM7ZpWg"
      },
      "source": [
        "we can see a stronger correlation between critic score and total sales then user score so we can asume people rely more on critic score to inform their purchase"
      ]
    },
    {
      "cell_type": "code",
      "metadata": {
        "colab": {
          "base_uri": "https://localhost:8080/",
          "height": 296
        },
        "id": "R4vq9O0VadVI",
        "outputId": "42236a0c-b4a5-449d-ec62-179b11e0919c"
      },
      "source": [
        "ps4_games = popular_platform_data[\"name\"].unique()\n",
        "ps4_games_data = relevant_data.query(\"name in @ps4_games and platform != 'ps4'\")\n",
        "plt.hist(ps4_games_data[\"total_sales\"], bins= 50, range=(0,5))\n",
        "plt.hist(popular_platform_data[\"total_sales\"], bins= 50, range=(0,5))\n",
        "plt.title(\"total sales of games for ps4(blue)\\n total sales of the same games for other platforms(orange)\")\n",
        "plt.show()"
      ],
      "execution_count": null,
      "outputs": [
        {
          "output_type": "display_data",
          "data": {
            "image/png": "[encoded data removed]",
            "text/plain": [
              "<Figure size 432x288 with 1 Axes>"
            ]
          },
          "metadata": {
            "tags": [],
            "needs_background": "light"
          }
        }
      ]
    },
    {
      "cell_type": "markdown",
      "metadata": {
        "id": "gnomjJrM0M26"
      },
      "source": [
        "we can see that the same games are in average are sold more for ps4 than the other platforms"
      ]
    },
    {
      "cell_type": "markdown",
      "metadata": {
        "id": "E3Wkm5j9kgYo"
      },
      "source": [
        "**conclusion:**\n",
        "\n",
        "we can see that games sales are in decline since 2008\n",
        "\n",
        "the most popular platformsun in the time span given by far are ps2, xbox30, ps3, wii, ds, ps.\n",
        "\n",
        "it generally take for new platforms to appear and fade is 13 years\n",
        "\n",
        "after looking at the data i didn't see any profitable platforms they are all in decline\n",
        "\n",
        "we can see a stronger correlation between critic score and total sales then user score so we can asume people rely more on critic score to inform their purchase\n",
        "\n",
        "we can see that the same games are in average are sold more for ps4 than the other platforms"
      ]
    },
    {
      "cell_type": "markdown",
      "metadata": {
        "id": "DImx_jjI2-um"
      },
      "source": [
        "# **Step 4: Creating a user profile for each region**"
      ]
    },
    {
      "cell_type": "code",
      "metadata": {
        "id": "7xrYzzs53BJC"
      },
      "source": [
        "region = [\"na_sales\", \"eu_sales\", \"jp_sales\"]"
      ],
      "execution_count": null,
      "outputs": []
    },
    {
      "cell_type": "code",
      "metadata": {
        "colab": {
          "base_uri": "https://localhost:8080/",
          "height": 896
        },
        "id": "3UmnVs1G0LSy",
        "outputId": "3f871666-f796-4ed2-b24b-e2b960c8d3f1"
      },
      "source": [
        "for i in region:\n",
        "    relevant_data.groupby(\"platform\").sum()[i].sort_values(ascending=False).plot(y = i, kind = \"bar\")\n",
        "    plt.title(i)\n",
        "    plt.ylabel('total sum')\n",
        "    plt.show()"
      ],
      "execution_count": null,
      "outputs": [
        {
          "output_type": "display_data",
          "data": {
            "image/png": "[encoded data removed]",
            "text/plain": [
              "<Figure size 432x288 with 1 Axes>"
            ]
          },
          "metadata": {
            "tags": [],
            "needs_background": "light"
          }
        },
        {
          "output_type": "display_data",
          "data": {
            "image/png": "[encoded data removed]",
            "text/plain": [
              "<Figure size 432x288 with 1 Axes>"
            ]
          },
          "metadata": {
            "tags": [],
            "needs_background": "light"
          }
        },
        {
          "output_type": "display_data",
          "data": {
            "image/png": "[encoded data removed]",
            "text/plain": [
              "<Figure size 432x288 with 1 Axes>"
            ]
          },
          "metadata": {
            "tags": [],
            "needs_background": "light"
          }
        }
      ]
    },
    {
      "cell_type": "markdown",
      "metadata": {
        "id": "vYmghj1o0LR4"
      },
      "source": [
        "in the NA region the poupolar platforms are ps4, xone, x360\n",
        "\n",
        "in the EU region the poupolar platforms are ps4, xone, wii\n",
        "\n",
        "in the JP region the poupolar platforms are 3ds, ps4, psv\n",
        "\n",
        "we can see a strong defrence in the JP region in the platforms popularity"
      ]
    },
    {
      "cell_type": "code",
      "metadata": {
        "colab": {
          "base_uri": "https://localhost:8080/",
          "height": 1000
        },
        "id": "N97BzE7v5OWG",
        "outputId": "c90f7f7d-e127-4c9c-936e-806b3edf5c3d"
      },
      "source": [
        "for i in region:\n",
        "    relevant_data.groupby(\"genre\").sum()[i].sort_values(ascending=False).plot(y = i, kind = \"bar\")\n",
        "    plt.title(i)\n",
        "    plt.ylabel('total sum')\n",
        "    plt.show()"
      ],
      "execution_count": null,
      "outputs": [
        {
          "output_type": "display_data",
          "data": {
            "image/png": "[encoded data removed]",
            "text/plain": [
              "<Figure size 432x288 with 1 Axes>"
            ]
          },
          "metadata": {
            "tags": [],
            "needs_background": "light"
          }
        },
        {
          "output_type": "display_data",
          "data": {
            "image/png": "[encoded data removed]",
            "text/plain": [
              "<Figure size 432x288 with 1 Axes>"
            ]
          },
          "metadata": {
            "tags": [],
            "needs_background": "light"
          }
        },
        {
          "output_type": "display_data",
          "data": {
            "image/png": "[encoded data removed]",
            "text/plain": [
              "<Figure size 432x288 with 1 Axes>"
            ]
          },
          "metadata": {
            "tags": [],
            "needs_background": "light"
          }
        }
      ]
    },
    {
      "cell_type": "markdown",
      "metadata": {
        "id": "QXs7AdeqXb9H"
      },
      "source": [
        "in the NA region the poupolar game geners are shooter, action, sports\n",
        "\n",
        "in the EU region the poupolar game geners are action, shooter, sports\n",
        "\n",
        "in the JP region the poupolar game geners are role-playing, action, fighting\n",
        "\n",
        "we can see a strong defrence in the JP region in the game gener popularity"
      ]
    },
    {
      "cell_type": "code",
      "metadata": {
        "colab": {
          "base_uri": "https://localhost:8080/",
          "height": 914
        },
        "id": "5P-8wBalDxW7",
        "outputId": "1ee18015-a5a6-4c14-994b-ca61e6b4c3a8"
      },
      "source": [
        "try:\n",
        "  for i in region:\n",
        "      relevant_data.groupby(\"rating;\").sum()[i].sort_values(ascending=False).plot(y = i, kind = \"bar\")\n",
        "      plt.title(i)\n",
        "      plt.ylabel('total sum')\n",
        "      plt.show()\n",
        "except:\n",
        "  for i in region:\n",
        "      relevant_data.groupby(\"rating\").sum()[i].sort_values(ascending=False).plot(y = i, kind = \"bar\")\n",
        "      plt.title(i)\n",
        "      plt.ylabel('total sum')\n",
        "      plt.show()"
      ],
      "execution_count": null,
      "outputs": [
        {
          "output_type": "display_data",
          "data": {
            "image/png": "[encoded data removed]",
            "text/plain": [
              "<Figure size 432x288 with 1 Axes>"
            ]
          },
          "metadata": {
            "tags": [],
            "needs_background": "light"
          }
        },
        {
          "output_type": "display_data",
          "data": {
            "image/png": "[encoded data removed]",
            "text/plain": [
              "<Figure size 432x288 with 1 Axes>"
            ]
          },
          "metadata": {
            "tags": [],
            "needs_background": "light"
          }
        },
        {
          "output_type": "display_data",
          "data": {
            "image/png": "[encoded data removed]",
            "text/plain": [
              "<Figure size 432x288 with 1 Axes>"
            ]
          },
          "metadata": {
            "tags": [],
            "needs_background": "light"
          }
        }
      ]
    },
    {
      "cell_type": "markdown",
      "metadata": {
        "id": "Vl7oQDZMXcnn"
      },
      "source": [
        "in the NA region and EU region the poupolar games by rating are M, E, T\n",
        "\n",
        "in the JP region the poupolar games  by rating are T, E, M\n",
        "\n",
        "we can see a strong defrence in the JP region in the game gener popularity"
      ]
    },
    {
      "cell_type": "markdown",
      "metadata": {
        "id": "3Tqbn1MjXc5m"
      },
      "source": [
        "**conclusion:**\n",
        "\n",
        "we can see that games marked in the JP region is very defrent the the NA and EU regions\n",
        "\n",
        "the types platforms and  ganer of games sold are different\n",
        "\n",
        "so any conclusion will be making about the regions should take that in acount"
      ]
    },
    {
      "cell_type": "markdown",
      "metadata": {
        "id": "NQpuatxS5e_m"
      },
      "source": [
        "# **Step 5: Testing hypotheses**"
      ]
    },
    {
      "cell_type": "code",
      "metadata": {
        "colab": {
          "base_uri": "https://localhost:8080/"
        },
        "id": "7-FjB_WY8dOK",
        "outputId": "04db2a7e-ca81-4d4e-b871-4ce7aa354af8"
      },
      "source": [
        "pc_platform_des = relevant_data.query(\"platform == 'pc' and critic_score > 0 and user_score > 0\")\n",
        "pc_platform_data = relevant_data.query(\"platform == 'pc'\")\n",
        "pc_platform_data[\"user_score\"] = pc_platform_data[\"user_score\"].replace(to_replace = 0, value=round(pc_platform_des[\"user_score\"].mean(),1))\n",
        "pc_platform_data[\"critic_score\"] = pc_platform_data[\"critic_score\"].replace(to_replace = 0, value=round(pc_platform_des[\"critic_score\"].mean(),1))"
      ],
      "execution_count": null,
      "outputs": [
        {
          "output_type": "stream",
          "text": [
            "/usr/local/lib/python3.7/dist-packages/ipykernel_launcher.py:3: SettingWithCopyWarning: \n",
            "A value is trying to be set on a copy of a slice from a DataFrame.\n",
            "Try using .loc[row_indexer,col_indexer] = value instead\n",
            "\n",
            "See the caveats in the documentation: https://pandas.pydata.org/pandas-docs/stable/user_guide/indexing.html#returning-a-view-versus-a-copy\n",
            "  This is separate from the ipykernel package so we can avoid doing imports until\n",
            "/usr/local/lib/python3.7/dist-packages/ipykernel_launcher.py:4: SettingWithCopyWarning: \n",
            "A value is trying to be set on a copy of a slice from a DataFrame.\n",
            "Try using .loc[row_indexer,col_indexer] = value instead\n",
            "\n",
            "See the caveats in the documentation: https://pandas.pydata.org/pandas-docs/stable/user_guide/indexing.html#returning-a-view-versus-a-copy\n",
            "  after removing the cwd from sys.path.\n"
          ],
          "name": "stderr"
        }
      ]
    },
    {
      "cell_type": "code",
      "metadata": {
        "colab": {
          "base_uri": "https://localhost:8080/"
        },
        "id": "rRjWPAsi83AJ",
        "outputId": "07a5bbb4-21a2-4997-d118-0a9716715930"
      },
      "source": [
        "x360_platform_des = relevant_data.query(\"platform == 'x360' and critic_score > 0 and user_score > 0\")\n",
        "x360_platform_data = relevant_data.query(\"platform == 'x360'\")\n",
        "x360_platform_data[\"user_score\"] = x360_platform_data[\"user_score\"].replace(to_replace = 0, value=round(x360_platform_des[\"user_score\"].mean(),1))\n",
        "x360_platform_data[\"critic_score\"] = x360_platform_data[\"critic_score\"].replace(to_replace = 0, value=round(x360_platform_des[\"critic_score\"].mean(),1))"
      ],
      "execution_count": null,
      "outputs": [
        {
          "output_type": "stream",
          "text": [
            "/usr/local/lib/python3.7/dist-packages/ipykernel_launcher.py:3: SettingWithCopyWarning: \n",
            "A value is trying to be set on a copy of a slice from a DataFrame.\n",
            "Try using .loc[row_indexer,col_indexer] = value instead\n",
            "\n",
            "See the caveats in the documentation: https://pandas.pydata.org/pandas-docs/stable/user_guide/indexing.html#returning-a-view-versus-a-copy\n",
            "  This is separate from the ipykernel package so we can avoid doing imports until\n",
            "/usr/local/lib/python3.7/dist-packages/ipykernel_launcher.py:4: SettingWithCopyWarning: \n",
            "A value is trying to be set on a copy of a slice from a DataFrame.\n",
            "Try using .loc[row_indexer,col_indexer] = value instead\n",
            "\n",
            "See the caveats in the documentation: https://pandas.pydata.org/pandas-docs/stable/user_guide/indexing.html#returning-a-view-versus-a-copy\n",
            "  after removing the cwd from sys.path.\n"
          ],
          "name": "stderr"
        }
      ]
    },
    {
      "cell_type": "markdown",
      "metadata": {
        "id": "tjEl38v-XfH0"
      },
      "source": [
        "Test the hypotheses that the average user ratings of the Xbox One and PC platforms are the same.\n",
        "\n",
        "using the standard alpha 5% and the test Independent Sample T-Test. In this type of test, you are comparing the average of two independent unrelated groups. Meaning, you are comparing samples from two different populations and are testing whether or not they have a different average.\n",
        "\n",
        "H0: the average user ratings of the Xbox One and PC platforms are the same\n",
        "\n",
        "H1: the average user ratings of the Xbox One and PC platforms differs\n",
        "\n",
        "we use the ttest_int because its a test of average of two independent unrelated groups the ratings of Xbox One and PC games"
      ]
    },
    {
      "cell_type": "code",
      "metadata": {
        "colab": {
          "base_uri": "https://localhost:8080/"
        },
        "id": "F-_mJa2l3NBz",
        "outputId": "830d3f93-7097-4ff6-97e2-625fa2422022"
      },
      "source": [
        "alpha = 0.05\n",
        "results = st.ttest_ind(x360_platform_data[\"user_score\"], pc_platform_data[\"user_score\"])\n",
        "print('p-value: ', results.pvalue)\n",
        "\n",
        "if results.pvalue < alpha:\n",
        "    print(\"We reject the null hypothesis that the Average user ratings of the Xbox One and PC platforms are the same\")\n",
        "else:\n",
        "    print(\"'We can't reject the null hypothesis that the Average user ratings of the Xbox One and PC platforms are the same\")"
      ],
      "execution_count": null,
      "outputs": [
        {
          "output_type": "stream",
          "text": [
            "p-value:  0.01927538384871892\n",
            "We reject the null hypothesis that the Average user ratings of the Xbox One and PC platforms are the same\n"
          ],
          "name": "stdout"
        }
      ]
    },
    {
      "cell_type": "code",
      "metadata": {
        "id": "5KIdaU8p9tSD"
      },
      "source": [
        "action_game_data = relevant_data.query(\"genre == 'action'\")\n",
        "sports_game_data = relevant_data.query(\"genre == 'sports'\")"
      ],
      "execution_count": null,
      "outputs": []
    },
    {
      "cell_type": "markdown",
      "metadata": {
        "id": "ShDDHdIsXg6m"
      },
      "source": [
        "Test the hypotheses that the average user ratings for the Action and Sports genres are different.\n",
        "\n",
        "using the standard alpha 5% and the test Independent Sample T-Test. In this type of test, you are comparing the average of two independent unrelated groups. Meaning, you are comparing samples from two different populations and are testing whether or not they have a different average.\n",
        "\n",
        "H0: the average user ratings for the Action and Sports genres are the same\n",
        "\n",
        "H1: the average user ratings for the Action and Sports genres are different\n",
        "\n",
        "we use the ttest_int because its a test of average of two independent unrelated groups the Action and Sports game genres"
      ]
    },
    {
      "cell_type": "code",
      "metadata": {
        "colab": {
          "base_uri": "https://localhost:8080/"
        },
        "id": "HRKGOBnV9V08",
        "outputId": "1a180618-1567-4d60-f46d-85863b24234f"
      },
      "source": [
        "alpha = 0.05\n",
        "results = st.ttest_ind(action_game_data[\"user_score\"], sports_game_data[\"user_score\"])\n",
        "print('p-value: ', results.pvalue)\n",
        "\n",
        "if  results.pvalue < alpha:\n",
        "    print(\"We reject the null hypothesis that the average user ratings for the Action and Sports genres are the same\")\n",
        "else:\n",
        "    print(\"We can't reject the null hypothesis that the average user ratings for the Action and Sports genres the same\")"
      ],
      "execution_count": null,
      "outputs": [
        {
          "output_type": "stream",
          "text": [
            "p-value:  0.003649296098234564\n",
            "We reject the null hypothesis that the average user ratings for the Action and Sports genres are the same\n"
          ],
          "name": "stdout"
        }
      ]
    },
    {
      "cell_type": "markdown",
      "metadata": {
        "id": "YGkMWsoDXiRv"
      },
      "source": [
        "in the t-tsting we found out that \n",
        "\n",
        "We reject the null hypothesis that the Average user ratings of the Xbox One and PC platforms are the same\n",
        "\n",
        "We reject the null hypothesis that the average user ratings for the Action and Sports genres are the same\n",
        "\n",
        "meaning that the the user ratings are defreen between platforms and game ganers "
      ]
    },
    {
      "cell_type": "markdown",
      "metadata": {
        "id": "FYEwLq0tXoku"
      },
      "source": [
        "# **Step 6: general conclusion**"
      ]
    },
    {
      "cell_type": "markdown",
      "metadata": {
        "id": "PmHFB__1yd1G"
      },
      "source": [
        "in this Project we have learned several things:\n",
        "\n",
        "1. a platform rise and fall takes aboute 10 years\n",
        "\n",
        "2. the gsales for games in the platforms : ps4, xone and pc are on the rise\n",
        "\n",
        "3. the JP market is very defrent from the western in the consuls that are popular, ganres and rating of games that are solde there is advertising there should be defrent\n",
        "\n",
        "4. in the west more games are sold for the platforms x360, wii, ps3 and in the ganer action, sports, shooter  and ratings are E, M, T, so games frome that grope should sale more then others in that region so you should advertise them more\n",
        "\n",
        "5. while in JP more games are sold for the platforms 3ds, ps3, psv and in ganer role-playing, action, fighting with the ratings rated, T, E, M. so games from that grope should sale more then others in that regionso so you should advertise them more\n",
        "\n",
        "6. we can see a stronger correlation between critic score and total sales then user score so we can asume people rely more on critic score to inform their purchase\n",
        "\n",
        "7. the same games are sold more for the ps4 platform that the other platforms\n",
        "\n",
        "8. the average user ratings of the Xbox One and PC platforms are diffrent and the average user ratings for the Action and Sports genres are diffrent\n",
        "\n",
        "in conclusion we should invest in ps4 games, in the west in games in ganer role-playing, action, fihjting with the ratings rated, T, E, M and in the jp market in the games n ganer role-playing, action, fighting with the ratings rated, T, E, M. those are the games that will probbly sell the most in those regions \n"
      ]
    }
  ]
}